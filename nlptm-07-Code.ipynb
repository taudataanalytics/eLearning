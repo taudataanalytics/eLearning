{
 "cells": [
  {
   "cell_type": "markdown",
   "metadata": {
    "slideshow": {
     "slide_type": "slide"
    }
   },
   "source": [
    "<center><h2><strong><font color=\"blue\">Natural Language Processing dan Text Mining (NLPTM)</font></strong></h2></center>\n",
    "<center><h2><strong><font color=\"blue\">Social Media Analytics (SMA)</font></strong></h2></center>\n",
    "\n",
    "<center><h3><strong><font color=\"blue\"><a href=\"https://taudata.blogspot.com\">https://taudata.blogspot.com</a></font></strong></h3></center>\n",
    "\n",
    "<img alt=\"\" src=\"images/covers/taudata-cover.jpg\"/>\n",
    "\n",
    "<center><h2><strong><font color=\"blue\">NLPTM-07: Pendahuluan Topic Modelling</font></strong></h2></center>\n",
    "<center><h3><strong><font color=\"blue\"><a href=\"https://taudata.blogspot.com/2022/05/nlptm-07.html\">https://taudata.blogspot.com/2022/05/nlptm-07.html</a></font></strong></h3></center>\n",
    "<b><center><h3>(C) Taufik Sutanto ~ taudata Analytics</h3></center>"
   ]
  },
  {
   "cell_type": "markdown",
   "metadata": {
    "slideshow": {
     "slide_type": "slide"
    }
   },
   "source": [
    "## <font color=\"blue\">Outline Topic Modelling :</font>\n",
    "\n",
    "* Importing Data\n",
    "* Pendahuluan Topic Modelling\n",
    "* Soft Clustering (Topic Modelling): LDA dan NMF\n",
    "* Visualisasi dan Interpretasi"
   ]
  },
  {
   "cell_type": "code",
   "execution_count": 5,
   "metadata": {
    "ExecuteTime": {
     "end_time": "2022-05-30T11:14:55.340587Z",
     "start_time": "2022-05-30T11:14:55.301588Z"
    }
   },
   "outputs": [
    {
     "name": "stdout",
     "output_type": "stream",
     "text": [
      "Running the code locally, please make sure all the python module versions agree with colab environment and all data/assets downloaded\n"
     ]
    }
   ],
   "source": [
    "# Jika di jalankan di komputer local, silahkan lihat NLPTM-02 untuk instalasinya.\n",
    "import warnings; warnings.simplefilter('ignore')\n",
    "import nltk\n",
    "\n",
    "try:\n",
    "    import google.colab\n",
    "    IN_COLAB = True\n",
    "    !wget https://raw.githubusercontent.com/taudata-indonesia/eLearning/master/taudataNlpTm.py\n",
    "    !mkdir data\n",
    "    !wget -P data/ https://raw.githubusercontent.com/taudata-indonesia/eLearning/master/data/slang.txt\n",
    "    !wget -P data/ https://raw.githubusercontent.com/taudata-indonesia/eLearning/master/data/stopwords_id.txt\n",
    "    !wget -P data/ https://raw.githubusercontent.com/taudata-indonesia/eLearning/master/data/stopwords_en.txt\n",
    "    !wget -P data/ https://raw.githubusercontent.com/taudata-indonesia/eLearning/master/data/kata_dasar.txt\n",
    "    !wget -P data/ https://raw.githubusercontent.com/taudata-indonesia/eLearning/master/data/wn-ind-def.tab\n",
    "    !wget -P data/ https://raw.githubusercontent.com/taudata-indonesia/eLearning/master/data/wn-msa-all.tab\n",
    "    !wget -P data/ https://raw.githubusercontent.com/taudata-indonesia/eLearning/master/data/ind_SA.csv\n",
    "    !wget -P data/ https://raw.githubusercontent.com/taudata-indonesia/eLearning/master/data/all_indo_man_tag_corpus_model.crf.tagger\n",
    "\n",
    "    !pip install spacy python-crfsuite unidecode textblob sastrawi\n",
    "    !python -m spacy download xx_core_web_sm\n",
    "    !python -m spacy download en_core_web_sm\n",
    "    nltk.download('popular')\n",
    "except:\n",
    "    IN_COLAB = False\n",
    "    print(\"Running the code locally, please make sure all the python module versions agree with colab environment and all data/assets downloaded\")"
   ]
  },
  {
   "cell_type": "code",
   "execution_count": 6,
   "metadata": {
    "ExecuteTime": {
     "end_time": "2022-05-30T11:14:55.356587Z",
     "start_time": "2022-05-30T11:14:55.341587Z"
    },
    "scrolled": true
   },
   "outputs": [
    {
     "data": {
      "text/plain": [
       "'Done'"
      ]
     },
     "execution_count": 6,
     "metadata": {},
     "output_type": "execute_result"
    }
   ],
   "source": [
    "# Importing Modules untuk Notebook ini\n",
    "import taudataNlpTm as tau, itertools, re, pickle, pyLDAvis, pyLDAvis.sklearn, spacy, urllib.request\n",
    "import numpy as np, matplotlib.pyplot as plt, pandas as pd, seaborn as sns \n",
    "from tqdm import tqdm\n",
    "from nltk.tag import CRFTagger\n",
    "from gensim.models import Phrases\n",
    "from gensim.corpora.dictionary import Dictionary\n",
    "from nltk.corpus import stopwords\n",
    "\n",
    "pyLDAvis.enable_notebook()\n",
    "sns.set(style=\"ticks\", color_codes=True)\n",
    "random_state = 99\n",
    "'Done'"
   ]
  },
  {
   "cell_type": "markdown",
   "metadata": {},
   "source": [
    "# Load Data"
   ]
  },
  {
   "cell_type": "code",
   "execution_count": 7,
   "metadata": {
    "ExecuteTime": {
     "end_time": "2022-05-30T11:14:55.372590Z",
     "start_time": "2022-05-30T11:14:55.357587Z"
    }
   },
   "outputs": [
    {
     "name": "stdout",
     "output_type": "stream",
     "text": [
      "FInished, 1653 documents loaded\n"
     ]
    }
   ],
   "source": [
    "try:\n",
    "    f = open('data/20newsgroups.pckl', 'rb')\n",
    "    data = pickle.load(f)\n",
    "    f.close()\n",
    "except:\n",
    "    categories = ['sci.med', 'talk.politics.misc',  'rec.autos']\n",
    "    data = fetch_20newsgroups(categories=categories,remove=('headers', 'footers', 'quotes'))\n",
    "    f = open('data/20newsgroups.pckl', 'wb')\n",
    "    pickle.dump(data, f)\n",
    "    f.close()\n",
    "    \n",
    "D = [doc for doc in data.data]\n",
    "Y = data.target\n",
    "print(\"FInished, {} documents loaded\".format(len(D)))"
   ]
  },
  {
   "cell_type": "markdown",
   "metadata": {},
   "source": [
    "# Preprocess Data"
   ]
  },
  {
   "cell_type": "code",
   "execution_count": 8,
   "metadata": {
    "ExecuteTime": {
     "end_time": "2022-05-30T11:15:57.152786Z",
     "start_time": "2022-05-30T11:14:55.373588Z"
    }
   },
   "outputs": [
    {
     "name": "stderr",
     "output_type": "stream",
     "text": [
      "1653it [01:01, 26.80it/s]"
     ]
    },
    {
     "name": "stdout",
     "output_type": "stream",
     "text": [
      "car alarm think ungo box knowledge experience alarm price range model good car alarm email responce \n"
     ]
    },
    {
     "name": "stderr",
     "output_type": "stream",
     "text": [
      "\n"
     ]
    }
   ],
   "source": [
    "stopsEn, _ = tau.LoadStopWords(lang='en')\n",
    "stopsEn.add('rt'); stopsEn.add('..')\n",
    "for i,d in tqdm(enumerate(D)):\n",
    "    D[i] = tau.cleanText(d, lan='en', lemma=True, stops=stopsEn, symbols_remove=True, min_charLen=2)\n",
    "    \n",
    "print(D[0])"
   ]
  },
  {
   "cell_type": "markdown",
   "metadata": {},
   "source": [
    "# Add LDA Matrix Decomposition"
   ]
  },
  {
   "cell_type": "code",
   "execution_count": 9,
   "metadata": {
    "ExecuteTime": {
     "end_time": "2022-05-30T11:15:57.248773Z",
     "start_time": "2022-05-30T11:15:57.153778Z"
    }
   },
   "outputs": [
    {
     "data": {
      "text/plain": [
       "(1653, 16618)"
      ]
     },
     "execution_count": 9,
     "metadata": {},
     "output_type": "execute_result"
    }
   ],
   "source": [
    "# Kita mulai dengan membuat VSM-nya\n",
    "# kita gunakan perintah yang ada di Segmen sebelumnya \n",
    "from sklearn.feature_extraction.text import CountVectorizer\n",
    "tf_vectorizer = CountVectorizer()\n",
    "\n",
    "data = D.copy()\n",
    "tf = tf_vectorizer.fit_transform(data)\n",
    "tf_terms = tf_vectorizer.get_feature_names()\n",
    "# Mengapa tf bukan tfidf?\n",
    "# Blei, D. M., Ng, A. Y., & Jordan, M. I. (2003). Latent dirichlet allocation. Journal of machine Learning research, 3(Jan), 993-1022.\n",
    "# Bisa di tamahkan dengan Frequency filtering \"Max_df\" dan \"Min_df\"\n",
    "\n",
    "tf.shape"
   ]
  },
  {
   "cell_type": "code",
   "execution_count": 10,
   "metadata": {
    "ExecuteTime": {
     "end_time": "2022-05-30T11:16:00.785023Z",
     "start_time": "2022-05-30T11:15:57.250773Z"
    }
   },
   "outputs": [
    {
     "data": {
      "text/html": [
       "<style>#sk-container-id-1 {color: black;background-color: white;}#sk-container-id-1 pre{padding: 0;}#sk-container-id-1 div.sk-toggleable {background-color: white;}#sk-container-id-1 label.sk-toggleable__label {cursor: pointer;display: block;width: 100%;margin-bottom: 0;padding: 0.3em;box-sizing: border-box;text-align: center;}#sk-container-id-1 label.sk-toggleable__label-arrow:before {content: \"▸\";float: left;margin-right: 0.25em;color: #696969;}#sk-container-id-1 label.sk-toggleable__label-arrow:hover:before {color: black;}#sk-container-id-1 div.sk-estimator:hover label.sk-toggleable__label-arrow:before {color: black;}#sk-container-id-1 div.sk-toggleable__content {max-height: 0;max-width: 0;overflow: hidden;text-align: left;background-color: #f0f8ff;}#sk-container-id-1 div.sk-toggleable__content pre {margin: 0.2em;color: black;border-radius: 0.25em;background-color: #f0f8ff;}#sk-container-id-1 input.sk-toggleable__control:checked~div.sk-toggleable__content {max-height: 200px;max-width: 100%;overflow: auto;}#sk-container-id-1 input.sk-toggleable__control:checked~label.sk-toggleable__label-arrow:before {content: \"▾\";}#sk-container-id-1 div.sk-estimator input.sk-toggleable__control:checked~label.sk-toggleable__label {background-color: #d4ebff;}#sk-container-id-1 div.sk-label input.sk-toggleable__control:checked~label.sk-toggleable__label {background-color: #d4ebff;}#sk-container-id-1 input.sk-hidden--visually {border: 0;clip: rect(1px 1px 1px 1px);clip: rect(1px, 1px, 1px, 1px);height: 1px;margin: -1px;overflow: hidden;padding: 0;position: absolute;width: 1px;}#sk-container-id-1 div.sk-estimator {font-family: monospace;background-color: #f0f8ff;border: 1px dotted black;border-radius: 0.25em;box-sizing: border-box;margin-bottom: 0.5em;}#sk-container-id-1 div.sk-estimator:hover {background-color: #d4ebff;}#sk-container-id-1 div.sk-parallel-item::after {content: \"\";width: 100%;border-bottom: 1px solid gray;flex-grow: 1;}#sk-container-id-1 div.sk-label:hover label.sk-toggleable__label {background-color: #d4ebff;}#sk-container-id-1 div.sk-serial::before {content: \"\";position: absolute;border-left: 1px solid gray;box-sizing: border-box;top: 0;bottom: 0;left: 50%;z-index: 0;}#sk-container-id-1 div.sk-serial {display: flex;flex-direction: column;align-items: center;background-color: white;padding-right: 0.2em;padding-left: 0.2em;position: relative;}#sk-container-id-1 div.sk-item {position: relative;z-index: 1;}#sk-container-id-1 div.sk-parallel {display: flex;align-items: stretch;justify-content: center;background-color: white;position: relative;}#sk-container-id-1 div.sk-item::before, #sk-container-id-1 div.sk-parallel-item::before {content: \"\";position: absolute;border-left: 1px solid gray;box-sizing: border-box;top: 0;bottom: 0;left: 50%;z-index: -1;}#sk-container-id-1 div.sk-parallel-item {display: flex;flex-direction: column;z-index: 1;position: relative;background-color: white;}#sk-container-id-1 div.sk-parallel-item:first-child::after {align-self: flex-end;width: 50%;}#sk-container-id-1 div.sk-parallel-item:last-child::after {align-self: flex-start;width: 50%;}#sk-container-id-1 div.sk-parallel-item:only-child::after {width: 0;}#sk-container-id-1 div.sk-dashed-wrapped {border: 1px dashed gray;margin: 0 0.4em 0.5em 0.4em;box-sizing: border-box;padding-bottom: 0.4em;background-color: white;}#sk-container-id-1 div.sk-label label {font-family: monospace;font-weight: bold;display: inline-block;line-height: 1.2em;}#sk-container-id-1 div.sk-label-container {text-align: center;}#sk-container-id-1 div.sk-container {/* jupyter's `normalize.less` sets `[hidden] { display: none; }` but bootstrap.min.css set `[hidden] { display: none !important; }` so we also need the `!important` here to be able to override the default hidden behavior on the sphinx rendered scikit-learn.org. See: https://github.com/scikit-learn/scikit-learn/issues/21755 */display: inline-block !important;position: relative;}#sk-container-id-1 div.sk-text-repr-fallback {display: none;}</style><div id=\"sk-container-id-1\" class=\"sk-top-container\"><div class=\"sk-text-repr-fallback\"><pre>LatentDirichletAllocation(n_components=3, random_state=0)</pre><b>In a Jupyter environment, please rerun this cell to show the HTML representation or trust the notebook. <br />On GitHub, the HTML representation is unable to render, please try loading this page with nbviewer.org.</b></div><div class=\"sk-container\" hidden><div class=\"sk-item\"><div class=\"sk-estimator sk-toggleable\"><input class=\"sk-toggleable__control sk-hidden--visually\" id=\"sk-estimator-id-1\" type=\"checkbox\" checked><label for=\"sk-estimator-id-1\" class=\"sk-toggleable__label sk-toggleable__label-arrow\">LatentDirichletAllocation</label><div class=\"sk-toggleable__content\"><pre>LatentDirichletAllocation(n_components=3, random_state=0)</pre></div></div></div></div></div>"
      ],
      "text/plain": [
       "LatentDirichletAllocation(n_components=3, random_state=0)"
      ]
     },
     "execution_count": 10,
     "metadata": {},
     "output_type": "execute_result"
    }
   ],
   "source": [
    "# Dilanjutkan dengan membentuk model LDA-nya\n",
    "from sklearn.decomposition import LatentDirichletAllocation as LDA\n",
    "\n",
    "n_topics = 3 # Misal tidak di optimalkan terlebih dahulu\n",
    "lda = LDA(n_components=n_topics, learning_method='batch', random_state=0).fit(tf)   \n",
    "lda"
   ]
  },
  {
   "cell_type": "code",
   "execution_count": 11,
   "metadata": {
    "ExecuteTime": {
     "end_time": "2022-05-30T11:16:01.008188Z",
     "start_time": "2022-05-30T11:16:00.786010Z"
    }
   },
   "outputs": [
    {
     "name": "stdout",
     "output_type": "stream",
     "text": [
      "(1653, 3)\n"
     ]
    },
    {
     "data": {
      "text/plain": [
       "array([[2.15969747e-02, 2.24449113e-02, 9.55958114e-01],\n",
       "       [4.51402419e-01, 6.16670860e-03, 5.42430872e-01],\n",
       "       [3.26848653e-03, 1.00247721e-01, 8.96483793e-01],\n",
       "       ...,\n",
       "       [4.07760061e-02, 6.13287448e-01, 3.45936546e-01],\n",
       "       [3.84298876e-04, 6.39757621e-01, 3.59858081e-01],\n",
       "       [1.71256037e-03, 1.83375129e-03, 9.96453688e-01]])"
      ]
     },
     "execution_count": 11,
     "metadata": {},
     "output_type": "execute_result"
    }
   ],
   "source": [
    "# Melihat Topik-topiknya\n",
    "vsm_topics = lda.transform(tf)\n",
    "print(vsm_topics.shape)\n",
    "vsm_topics\n",
    "# Ukuran kolom = #Topics ==> Dimension Reduction\n",
    "# Mengapa tidak dibagi Train & Test???"
   ]
  },
  {
   "cell_type": "code",
   "execution_count": 12,
   "metadata": {
    "ExecuteTime": {
     "end_time": "2022-05-30T11:16:01.024186Z",
     "start_time": "2022-05-30T11:16:01.009186Z"
    }
   },
   "outputs": [
    {
     "name": "stderr",
     "output_type": "stream",
     "text": [
      "100%|██████████████████████████████████████████████████████████████████████████| 1653/1653 [00:00<00:00, 826165.93it/s]\n"
     ]
    },
    {
     "data": {
      "text/plain": [
       "[3, 3, 3, 3, 3, 3, 2, 3, 3, 3]"
      ]
     },
     "execution_count": 12,
     "metadata": {},
     "output_type": "execute_result"
    }
   ],
   "source": [
    "# \"Seandainya\" diasumsikan 1 dokumen hanya 1 topic dengan nilai skor topic terbesar\n",
    "doc_topic =  [a.argmax()+1 for a in tqdm(vsm_topics)] # topic of docs\n",
    "doc_topic[:10]"
   ]
  },
  {
   "cell_type": "code",
   "execution_count": 13,
   "metadata": {
    "ExecuteTime": {
     "end_time": "2022-05-30T11:16:01.119186Z",
     "start_time": "2022-05-30T11:16:01.025186Z"
    }
   },
   "outputs": [
    {
     "data": {
      "image/png": "[encoded data removed]",
      "text/plain": [
       "<Figure size 432x288 with 1 Axes>"
      ]
     },
     "metadata": {
      "needs_background": "light"
     },
     "output_type": "display_data"
    }
   ],
   "source": [
    "# mari kita plot\n",
    "plot = sns.countplot(doc_topic)"
   ]
  },
  {
   "cell_type": "code",
   "execution_count": 14,
   "metadata": {
    "ExecuteTime": {
     "end_time": "2022-05-30T11:16:01.135187Z",
     "start_time": "2022-05-30T11:16:01.121186Z"
    }
   },
   "outputs": [
    {
     "name": "stdout",
     "output_type": "stream",
     "text": [
      "Printing top 3 Topics, with top 25 Words:\n",
      "Topic #1:\n",
      "edu health com medical child disease report center patient year hiv case cancer number april university aids law trial increase newsletter volume care national public\n",
      "Topic #2:\n",
      "not president stephanopoulos be work go time car job question program package ms list year edu support good tax request health keyboard change post group\n",
      "Topic #3:\n",
      "not car good time year work problem thing be day government food lot drug long well case help doctor point drive question bad msg buy\n"
     ]
    }
   ],
   "source": [
    "# Mari kita coba maknai masing-masing topic ini\n",
    "Top_Words = 25\n",
    "print('Printing top {0} Topics, with top {1} Words:'.format(n_topics, Top_Words))\n",
    "tau.print_Topics(lda, tf_terms, n_topics, Top_Words)"
   ]
  },
  {
   "cell_type": "code",
   "execution_count": 15,
   "metadata": {
    "ExecuteTime": {
     "end_time": "2022-05-30T11:16:04.332507Z",
     "start_time": "2022-05-30T11:16:01.136186Z"
    }
   },
   "outputs": [
    {
     "data": {
      "text/html": [
       "\n",
       "<link rel=\"stylesheet\" type=\"text/css\" href=\"https://cdn.rawgit.com/bmabey/pyLDAvis/files/ldavis.v1.0.0.css\">\n",
       "\n",
       "\n",
       "<div id=\"ldavis_el332019352373392808203174417\"></div>\n",
       "<script type=\"text/javascript\">\n",
       "\n",
       "var ldavis_el332019352373392808203174417_data = {\"mdsDat\": {\"x\": [-0.0777774560172103, -0.0716137126566492, 0.14939116867385954], \"y\": [0.08671565045004556, -0.0891341174608212, 0.002418467010775564], \"topics\": [1, 2, 3], \"cluster\": [1, 1, 1], \"Freq\": [51.46453810514519, 30.988057657866353, 17.547404236988463]}, \"tinfo\": {\"Term\": [\"president\", \"stephanopoulos\", \"edu\", \"health\", \"com\", \"medical\", \"child\", \"disease\", \"be\", \"not\", \"center\", \"hiv\", \"cancer\", \"car\", \"patient\", \"report\", \"go\", \"ms\", \"package\", \"keyboard\", \"myers\", \"aids\", \"request\", \"april\", \"university\", \"newsletter\", \"volume\", \"job\", \"trial\", \"msg\", \"msg\", \"geb\", \"surrender\", \"shameful\", \"skepticism\", \"intellect\", \"cadre\", \"dsl\", \"chastity\", \"nuclear\", \"vitamin\", \"bolshevik\", \"gun\", \"migraine\", \"chinese\", \"falkland\", \"fat\", \"slave\", \"wagon\", \"bother\", \"sho\", \"alarm\", \"argentina\", \"sinus\", \"rockefeller\", \"dealer\", \"dream\", \"secret\", \"turbo\", \"convertible\", \"bank\", \"pitt\", \"skill\", \"gordon\", \"yeast\", \"eye\", \"food\", \"pain\", \"homosexual\", \"friend\", \"car\", \"buy\", \"not\", \"lot\", \"good\", \"drug\", \"thing\", \"bad\", \"problem\", \"doctor\", \"ago\", \"time\", \"idea\", \"day\", \"year\", \"well\", \"government\", \"help\", \"work\", \"long\", \"reason\", \"drive\", \"read\", \"would\", \"point\", \"be\", \"tell\", \"case\", \"start\", \"study\", \"question\", \"high\", \"stephanopoulos\", \"keyboard\", \"senator\", \"vat\", \"deficit\", \"myers\", \"dole\", \"yesterday\", \"mwra\", \"pc\", \"dee\", \"ms\", \"autos\", \"archive\", \"stimulus\", \"kirlian\", \"needle\", \"rsi\", \"briefing\", \"lift\", \"spending\", \"throttle\", \"polio\", \"typing\", \"resolution\", \"serb\", \"sanction\", \"republicans\", \"chancellor\", \"detector\", \"president\", \"request\", \"rec\", \"package\", \"radar\", \"press\", \"senate\", \"brake\", \"george\", \"japanese\", \"tax\", \"send\", \"list\", \"go\", \"be\", \"decision\", \"house\", \"water\", \"job\", \"mail\", \"clinton\", \"not\", \"support\", \"program\", \"work\", \"question\", \"tire\", \"time\", \"change\", \"consider\", \"talk\", \"post\", \"group\", \"car\", \"health\", \"edu\", \"year\", \"good\", \"number\", \"hicnet\", \"cdc\", \"limbaugh\", \"hiv\", \"smokeless\", \"vaccine\", \"jb\", \"surveillance\", \"gonorrhea\", \"prevalence\", \"virus\", \"volume\", \"infect\", \"infectious\", \"cereal\", \"defamation\", \"influenza\", \"witness\", \"ivf\", \"mmwr\", \"coli\", \"aged\", \"newsletter\", \"boomer\", \"hamburger\", \"adl\", \"nambla\", \"melanoma\", \"bullock\", \"diarrhea\", \"aids\", \"clinical\", \"tobacco\", \"outbreak\", \"arizona\", \"center\", \"trial\", \"child\", \"league\", \"court\", \"cancer\", \"medical\", \"disease\", \"com\", \"health\", \"edu\", \"report\", \"april\", \"university\", \"age\", \"patient\", \"infection\", \"case\", \"number\", \"national\", \"increase\", \"public\", \"year\", \"law\", \"care\", \"study\", \"group\"], \"Freq\": [385.0, 295.0, 371.0, 277.0, 241.0, 188.0, 156.0, 182.0, 508.0, 1718.0, 118.0, 80.0, 111.0, 676.0, 203.0, 165.0, 303.0, 116.0, 127.0, 101.0, 94.0, 66.0, 107.0, 132.0, 126.0, 55.0, 54.0, 234.0, 71.0, 132.0, 131.68686485610502, 70.12638413528401, 70.12387982561674, 68.291389978775, 68.2820424777176, 68.28166692344536, 66.45474420866967, 66.45474420866967, 67.36306310696132, 60.00732323697177, 48.946442886700495, 37.05735237485183, 41.54127958008921, 36.114982429109915, 34.298444891439935, 29.70712392105638, 28.782963079083785, 28.781029207482607, 28.75870225312361, 26.937559158311085, 26.022948216864233, 25.100257601094906, 24.19446874679669, 24.18408576539893, 57.27148309467556, 87.77727669691079, 23.246016367535212, 59.84267724410881, 22.34612731444428, 22.341323739923492, 87.95604821311284, 70.10728452891864, 29.43402044358556, 80.37388449114236, 43.44307192976727, 46.69965184736314, 195.94771094150823, 117.67816631712672, 68.26505596621524, 90.06831928564503, 532.449213963814, 127.93486843343635, 1230.6106026864586, 193.15767404615954, 375.985987207263, 177.87227545476117, 265.117930389231, 132.3445897805255, 270.3485062537524, 150.99956627535855, 104.46673814552229, 359.875785896782, 124.52649978905971, 202.7655771669656, 307.7886959269657, 163.88018811577086, 198.61054168577382, 156.86693436720685, 298.16576830922594, 172.37465991810168, 116.97221960387604, 140.53662793004202, 115.49251170108468, 123.1297314098465, 149.27160250882366, 236.88474006594973, 114.35864782120103, 157.04516341124761, 125.34789456756123, 125.8545929221335, 134.22354070975575, 122.94234051428505, 294.9863502791796, 100.59579797360941, 57.091928255118034, 52.66361810849235, 41.98153043294948, 93.49356785236708, 36.68802761305071, 32.24053375625358, 31.3626331517635, 40.90694143392215, 28.69977295248944, 114.54172682066739, 26.912123260138657, 24.255245498312966, 40.73223143659544, 23.370293939908358, 22.47427657797404, 36.324842783029666, 20.708726671820678, 19.82076367067751, 24.12773191026431, 19.80122031004641, 19.795324576760535, 20.65193779067023, 24.070761934798615, 17.160688128401247, 19.733966231224088, 32.58569443570312, 15.385381404350872, 31.65831279364899, 369.18825373112213, 101.25934928181897, 44.63131947288293, 115.99678868065163, 37.95160729377747, 81.74007838853065, 42.68906360269794, 70.50793733162105, 60.44715534438276, 54.13032400971083, 102.78161170536052, 74.9988772451603, 112.62683432884828, 185.10525565585786, 270.0498161706355, 59.784780383870796, 74.08581103253378, 92.0553773969658, 134.59473157121235, 66.34654662012252, 69.27503410269, 462.43877898115915, 107.61109833366119, 125.22175722823509, 186.748799283719, 127.794425920466, 66.21942237295899, 169.23361403142536, 99.55049374662988, 96.96841042723489, 88.86321409954977, 99.24619050871443, 97.38748150869097, 143.91337884424013, 100.68734675284983, 107.6575129817555, 108.75402993473567, 104.17886471504696, 89.57537549143557, 43.66459910008365, 33.21368555975446, 31.601343301125116, 78.96332465018523, 30.80117264254593, 30.000915786462617, 28.390011659876887, 23.573525505303294, 22.769882737189786, 21.159346566184446, 21.150065792221632, 52.35847044675454, 18.73329428110014, 18.704391582069306, 18.69822429996448, 15.53709324607492, 15.534120752618811, 15.514855731755656, 14.733453258880756, 14.733453194634219, 24.699454538406965, 12.322524344048789, 53.077822880045595, 12.3070651919801, 11.514737699391237, 11.509824981163243, 11.481883373026484, 10.71523798590181, 10.715235539561263, 10.71087151983398, 60.11417908722486, 39.920453262186875, 46.117935917272085, 22.772269937118526, 16.330258464748237, 89.74617391436554, 55.62524603575451, 108.96893886096473, 19.552342167260356, 43.18505534984347, 77.68148630544005, 118.51969016944099, 108.25612414711259, 134.96175183711043, 146.9463744965179, 172.09044561841253, 90.08802479984979, 69.19427275223818, 64.07775098618026, 45.754739269204194, 82.56759733376126, 40.45834280052106, 78.70466751284111, 71.32920786116794, 51.81059819025714, 54.21364869059664, 50.48653438627486, 82.35649931318954, 56.85784847874402, 52.24596870782615, 48.8927010568442, 47.04280171442504], \"Total\": [385.0, 295.0, 371.0, 277.0, 241.0, 188.0, 156.0, 182.0, 508.0, 1718.0, 118.0, 80.0, 111.0, 676.0, 203.0, 165.0, 303.0, 116.0, 127.0, 101.0, 94.0, 66.0, 107.0, 132.0, 126.0, 55.0, 54.0, 234.0, 71.0, 132.0, 132.2546943509915, 70.69629182636986, 70.69597860320782, 68.85911407557742, 68.85811870756407, 68.85807197260075, 67.02158352535898, 67.02158352535898, 67.93932019085862, 60.58988416079058, 49.56305348424408, 37.62110991027927, 42.20951808566383, 36.700041538395055, 34.864478624834014, 30.27088985667903, 29.35148374648587, 29.351231909446987, 29.349542967722723, 27.51394682647612, 26.595412465037775, 25.6764682376902, 24.758226287950638, 24.757859416200837, 58.63798459844274, 89.93534325205235, 23.837073086403382, 61.37111766276687, 22.920288255209528, 22.919643481449857, 90.61103055730403, 72.47088668836312, 30.2409178899933, 84.03521927736826, 44.937056385225475, 48.473988098483005, 214.44454360851105, 130.00372472308067, 73.80958045740796, 99.67015301777482, 676.6415203174964, 146.32488526928165, 1718.4554525519738, 229.78944450012543, 485.3139886099721, 213.80875995734246, 347.02827708911366, 157.84811636971997, 356.49110495634665, 185.66122970664634, 122.16647704567778, 552.1342342045963, 152.09468970541081, 286.8675672364768, 498.89922517489094, 219.45959344494065, 283.2030647107064, 209.2913553804795, 501.05431449383866, 247.9240239793483, 146.8471194474498, 190.5531603033016, 148.3843297094128, 163.8177157808012, 223.9264755687034, 508.48902082850714, 148.84023687993684, 276.70179245950317, 178.5639850168988, 194.43533332121962, 283.6655097045052, 219.6347408150877, 295.560493238034, 101.17133875229074, 57.67822644445418, 53.239706129962684, 42.5892821245272, 94.87454646544002, 37.26252485879551, 32.824634683596706, 31.93678097126672, 41.680171886050175, 29.27391557213142, 116.95750837619396, 27.498729865592054, 24.836022325897552, 41.71445705288181, 23.948260792070496, 23.059619153818094, 37.275271912293654, 21.28540419356524, 20.397792088398788, 24.84040967776667, 20.39846932680159, 20.39588524926151, 21.28739680629837, 24.842501231039922, 17.73483055038616, 20.400825590483088, 33.73139612819151, 15.959583648536418, 32.84516458218519, 385.17070554199466, 107.12194731694267, 47.089720723734494, 127.27530509018543, 40.89327195962526, 98.2676276227685, 48.072438717939, 84.77058618550757, 71.67912900148472, 63.294579274737224, 136.14035809427543, 94.53754714910004, 154.09240404389823, 303.93984775857706, 508.48902082850714, 74.51641488008215, 100.11695224863973, 135.46177328738443, 234.08634970341825, 91.18400553011564, 98.51471865153452, 1718.4554525519738, 191.66340559781128, 253.1725161725161, 501.05431449383866, 283.6655097045052, 96.82920019872549, 552.1342342045963, 210.1514676235862, 201.2355508606138, 171.4062208107928, 220.38903862714582, 224.13032373842515, 676.6415203174964, 277.6912731626445, 371.2347428843515, 498.89922517489094, 485.3139886099721, 249.40721916097618, 44.26673344857621, 33.819879184166595, 32.21332280791362, 80.521105294137, 31.409071670396663, 30.6050543414048, 28.998243059840647, 24.17565971889499, 23.372016749014882, 21.76519644454096, 21.766106883641207, 54.010238388420795, 19.355975976675015, 19.36049346709047, 19.361398592652442, 16.139230557902547, 16.139656032774628, 16.14232976466186, 15.335587262113297, 15.335587269645794, 25.83481559447913, 12.924658424408342, 55.71285337847492, 12.926765895179637, 12.121608712455586, 12.121961965363775, 12.126242088946114, 11.317372581617937, 11.317372868054568, 11.317998045513889, 66.51392008872247, 44.802693336703555, 52.18423384836857, 25.147050996772446, 17.832029855966578, 118.93580832668044, 71.71118587254644, 156.077229291113, 21.933357978755847, 55.122277109139986, 111.05787241196981, 188.35129803184196, 182.5280177140567, 241.51345349426464, 277.6912731626445, 371.2347428843515, 165.1849378353441, 132.38048776460823, 126.01090049365223, 77.00304316079593, 203.80739363380422, 73.06867566319889, 276.70179245950317, 249.40721916097618, 131.10389015941777, 146.3918873822633, 126.11792791810058, 498.89922517489094, 185.3385670514724, 177.2033051176612, 194.43533332121962, 224.13032373842515], \"Category\": [\"Default\", \"Default\", \"Default\", \"Default\", \"Default\", \"Default\", \"Default\", \"Default\", \"Default\", \"Default\", \"Default\", \"Default\", \"Default\", \"Default\", \"Default\", \"Default\", \"Default\", \"Default\", \"Default\", \"Default\", \"Default\", \"Default\", \"Default\", \"Default\", \"Default\", \"Default\", \"Default\", \"Default\", \"Default\", \"Default\", \"Topic1\", \"Topic1\", \"Topic1\", \"Topic1\", \"Topic1\", \"Topic1\", \"Topic1\", \"Topic1\", \"Topic1\", \"Topic1\", \"Topic1\", \"Topic1\", \"Topic1\", \"Topic1\", \"Topic1\", \"Topic1\", \"Topic1\", \"Topic1\", \"Topic1\", \"Topic1\", \"Topic1\", \"Topic1\", \"Topic1\", \"Topic1\", \"Topic1\", \"Topic1\", \"Topic1\", \"Topic1\", \"Topic1\", \"Topic1\", \"Topic1\", \"Topic1\", \"Topic1\", \"Topic1\", \"Topic1\", \"Topic1\", \"Topic1\", \"Topic1\", \"Topic1\", \"Topic1\", \"Topic1\", \"Topic1\", \"Topic1\", \"Topic1\", \"Topic1\", \"Topic1\", \"Topic1\", \"Topic1\", \"Topic1\", \"Topic1\", \"Topic1\", \"Topic1\", \"Topic1\", \"Topic1\", \"Topic1\", \"Topic1\", \"Topic1\", \"Topic1\", \"Topic1\", \"Topic1\", \"Topic1\", \"Topic1\", \"Topic1\", \"Topic1\", \"Topic1\", \"Topic1\", \"Topic1\", \"Topic1\", \"Topic1\", \"Topic1\", \"Topic1\", \"Topic1\", \"Topic2\", \"Topic2\", \"Topic2\", \"Topic2\", \"Topic2\", \"Topic2\", \"Topic2\", \"Topic2\", \"Topic2\", \"Topic2\", \"Topic2\", \"Topic2\", \"Topic2\", \"Topic2\", \"Topic2\", \"Topic2\", \"Topic2\", \"Topic2\", \"Topic2\", \"Topic2\", \"Topic2\", \"Topic2\", \"Topic2\", \"Topic2\", \"Topic2\", \"Topic2\", \"Topic2\", \"Topic2\", \"Topic2\", \"Topic2\", \"Topic2\", \"Topic2\", \"Topic2\", \"Topic2\", \"Topic2\", \"Topic2\", \"Topic2\", \"Topic2\", \"Topic2\", \"Topic2\", \"Topic2\", \"Topic2\", \"Topic2\", \"Topic2\", \"Topic2\", \"Topic2\", \"Topic2\", \"Topic2\", \"Topic2\", \"Topic2\", \"Topic2\", \"Topic2\", \"Topic2\", \"Topic2\", \"Topic2\", \"Topic2\", \"Topic2\", \"Topic2\", \"Topic2\", \"Topic2\", \"Topic2\", \"Topic2\", \"Topic2\", \"Topic2\", \"Topic2\", \"Topic2\", \"Topic2\", \"Topic2\", \"Topic2\", \"Topic3\", \"Topic3\", \"Topic3\", \"Topic3\", \"Topic3\", \"Topic3\", \"Topic3\", \"Topic3\", \"Topic3\", \"Topic3\", \"Topic3\", \"Topic3\", \"Topic3\", \"Topic3\", \"Topic3\", \"Topic3\", \"Topic3\", \"Topic3\", \"Topic3\", \"Topic3\", \"Topic3\", \"Topic3\", \"Topic3\", \"Topic3\", \"Topic3\", \"Topic3\", \"Topic3\", \"Topic3\", \"Topic3\", \"Topic3\", \"Topic3\", \"Topic3\", \"Topic3\", \"Topic3\", \"Topic3\", \"Topic3\", \"Topic3\", \"Topic3\", \"Topic3\", \"Topic3\", \"Topic3\", \"Topic3\", \"Topic3\", \"Topic3\", \"Topic3\", \"Topic3\", \"Topic3\", \"Topic3\", \"Topic3\", \"Topic3\", \"Topic3\", \"Topic3\", \"Topic3\", \"Topic3\", \"Topic3\", \"Topic3\", \"Topic3\", \"Topic3\", \"Topic3\", \"Topic3\", \"Topic3\", \"Topic3\"], \"logprob\": [30.0, 29.0, 28.0, 27.0, 26.0, 25.0, 24.0, 23.0, 22.0, 21.0, 20.0, 19.0, 18.0, 17.0, 16.0, 15.0, 14.0, 13.0, 12.0, 11.0, 10.0, 9.0, 8.0, 7.0, 6.0, 5.0, 4.0, 3.0, 2.0, 1.0, -6.2324, -6.8625, -6.8625, -6.889, -6.8891, -6.8892, -6.9163, -6.9163, -6.9027, -7.0183, -7.2221, -7.5003, -7.3861, -7.5261, -7.5777, -7.7214, -7.753, -7.7531, -7.7539, -7.8193, -7.8538, -7.8899, -7.9267, -7.9271, -7.065, -6.638, -7.9667, -7.0211, -8.0061, -8.0064, -6.636, -6.8628, -7.7306, -6.7261, -7.3413, -7.2691, -5.8349, -6.3448, -6.8894, -6.6122, -4.8353, -6.2613, -3.9975, -5.8493, -5.1832, -5.9317, -5.5326, -6.2274, -5.5131, -6.0955, -6.4639, -5.227, -6.2883, -5.8007, -5.3834, -6.0137, -5.8214, -6.0574, -5.4151, -5.9631, -6.3509, -6.1673, -6.3636, -6.2996, -6.107, -5.6452, -6.3735, -6.0563, -6.2817, -6.2777, -6.2133, -6.3011, -4.9186, -5.9944, -6.5608, -6.6416, -6.8683, -6.0676, -7.0031, -7.1323, -7.1599, -6.8942, -7.2486, -5.8646, -7.3129, -7.4169, -6.8985, -7.454, -7.4931, -7.013, -7.5749, -7.6188, -7.4221, -7.6198, -7.6201, -7.5777, -7.4245, -7.7629, -7.6232, -7.1216, -7.8721, -7.1505, -4.6942, -5.9878, -6.8071, -5.8519, -6.9692, -6.202, -6.8516, -6.3498, -6.5037, -6.6141, -5.9729, -6.288, -5.8814, -5.3846, -5.0069, -6.5148, -6.3003, -6.0831, -5.7032, -6.4106, -6.3674, -4.469, -5.927, -5.7754, -5.3757, -5.7551, -6.4125, -5.4742, -6.0048, -6.0311, -6.1184, -6.0079, -6.0268, -5.6363, -5.9935, -5.9265, -5.9164, -5.9594, -6.1104, -6.2603, -6.5338, -6.5836, -5.6678, -6.6093, -6.6356, -6.6908, -6.8767, -6.9114, -6.9847, -6.9852, -6.0787, -7.1065, -7.1081, -7.1084, -7.2936, -7.2938, -7.295, -7.3467, -7.3467, -6.83, -7.5254, -6.065, -7.5266, -7.5932, -7.5936, -7.596, -7.6651, -7.6651, -7.6655, -5.9406, -6.3499, -6.2056, -6.9113, -7.2438, -5.5398, -6.0182, -5.3457, -7.0637, -6.2713, -5.6842, -5.2617, -5.3523, -5.1318, -5.0467, -4.8888, -5.536, -5.7999, -5.8767, -6.2135, -5.6232, -6.3365, -5.6711, -5.7695, -6.0892, -6.0439, -6.1151, -5.6258, -5.9963, -6.0808, -6.1472, -6.1858], \"loglift\": [30.0, 29.0, 28.0, 27.0, 26.0, 25.0, 24.0, 23.0, 22.0, 21.0, 20.0, 19.0, 18.0, 17.0, 16.0, 15.0, 14.0, 13.0, 12.0, 11.0, 10.0, 9.0, 8.0, 7.0, 6.0, 5.0, 4.0, 3.0, 2.0, 1.0, 0.66, 0.6562, 0.6562, 0.656, 0.6559, 0.6559, 0.6558, 0.6558, 0.6558, 0.6546, 0.6518, 0.6492, 0.6483, 0.6482, 0.6479, 0.6455, 0.6447, 0.6447, 0.6439, 0.6431, 0.6425, 0.6416, 0.6412, 0.6408, 0.6407, 0.64, 0.6392, 0.6391, 0.6389, 0.6387, 0.6345, 0.6311, 0.6372, 0.6197, 0.6305, 0.627, 0.5741, 0.5647, 0.5862, 0.563, 0.4246, 0.53, 0.3304, 0.4906, 0.409, 0.4803, 0.395, 0.4881, 0.3877, 0.4576, 0.5078, 0.2362, 0.4643, 0.3173, 0.1813, 0.3722, 0.3095, 0.3759, 0.1452, 0.3008, 0.4368, 0.3598, 0.4137, 0.3788, 0.2587, -0.0996, 0.4007, 0.0979, 0.3104, 0.2293, -0.084, 0.084, 1.1696, 1.1659, 1.1614, 1.1607, 1.1572, 1.1569, 1.156, 1.1536, 1.1534, 1.1528, 1.1518, 1.1507, 1.15, 1.1479, 1.1477, 1.1471, 1.1459, 1.1457, 1.1441, 1.1429, 1.1425, 1.1419, 1.1417, 1.1413, 1.14, 1.1387, 1.1383, 1.137, 1.1349, 1.1348, 1.1292, 1.1153, 1.1179, 1.0788, 1.0969, 0.9874, 1.0528, 0.9873, 1.0011, 1.0152, 0.8905, 0.94, 0.8581, 0.6757, 0.5387, 0.9513, 0.8705, 0.7853, 0.6181, 0.8536, 0.8194, -0.1411, 0.5944, 0.4676, 0.1846, 0.3742, 0.7916, -0.0109, 0.4244, 0.4415, 0.5146, 0.3738, 0.338, -0.3764, 0.1571, -0.0663, -0.3517, -0.3671, 0.1476, 1.7266, 1.7222, 1.7211, 1.7207, 1.7207, 1.7203, 1.7191, 1.715, 1.7142, 1.712, 1.7116, 1.7092, 1.7076, 1.7058, 1.7054, 1.7022, 1.702, 1.7006, 1.7002, 1.7002, 1.6953, 1.6926, 1.6918, 1.6911, 1.6889, 1.6884, 1.6857, 1.6856, 1.6856, 1.6851, 1.6391, 1.6249, 1.6167, 1.6411, 1.6523, 1.4587, 1.4863, 1.381, 1.6254, 1.4962, 1.3828, 1.277, 1.2179, 1.1583, 1.1038, 0.9714, 1.134, 1.0915, 1.064, 1.2197, 0.8367, 1.1491, 0.483, 0.4885, 0.8119, 0.7469, 0.8248, -0.0611, 0.5586, 0.5189, 0.3598, 0.1791]}, \"token.table\": {\"Topic\": [3, 1, 2, 3, 3, 1, 2, 3, 2, 3, 1, 1, 2, 3, 2, 1, 2, 3, 2, 1, 2, 3, 1, 3, 1, 2, 3, 1, 3, 1, 1, 2, 2, 3, 1, 2, 1, 1, 3, 1, 2, 1, 2, 3, 1, 2, 3, 3, 1, 2, 3, 3, 2, 1, 2, 3, 1, 1, 2, 3, 1, 1, 3, 1, 2, 3, 2, 3, 1, 2, 3, 1, 2, 3, 1, 1, 2, 3, 1, 2, 3, 1, 2, 1, 2, 3, 2, 3, 2, 1, 2, 3, 1, 2, 3, 1, 2, 3, 2, 1, 1, 2, 3, 1, 2, 3, 1, 1, 2, 3, 1, 3, 1, 1, 1, 2, 3, 1, 2, 3, 1, 1, 2, 3, 1, 2, 3, 3, 1, 2, 3, 1, 3, 1, 2, 3, 1, 2, 3, 1, 3, 1, 2, 3, 1, 2, 3, 3, 1, 2, 3, 2, 3, 1, 2, 3, 1, 2, 3, 1, 2, 3, 1, 2, 3, 3, 1, 2, 3, 3, 3, 1, 3, 1, 2, 3, 1, 2, 2, 2, 1, 2, 3, 2, 3, 2, 3, 1, 2, 3, 1, 2, 3, 1, 2, 3, 1, 2, 3, 1, 2, 3, 3, 1, 3, 2, 3, 1, 2, 2, 3, 3, 1, 2, 3, 2, 2, 3, 1, 2, 3, 1, 1, 2, 3, 2, 3, 1, 2, 1, 2, 1, 2, 3, 2, 1, 2, 1, 2, 3, 2, 1, 2, 3, 1, 2, 3, 1, 2, 3, 3, 1, 2, 3, 1, 2, 3, 1, 2, 3, 1, 2, 3, 1, 2, 1, 2, 3, 1, 2, 3, 1, 2, 1, 2, 3, 1, 2, 1, 2, 3, 1, 2, 1, 3, 1, 2, 2, 1, 3, 1, 2, 2, 1, 2, 3, 2, 1, 1, 1, 1, 1, 1, 3, 2, 1, 2, 3, 2, 1, 2, 1, 2, 3, 1, 2, 3, 1, 3, 1, 2, 1, 2, 3, 1, 2, 3, 1, 2, 3, 2, 1, 2, 3, 1, 2, 3, 1, 3, 1, 2, 3, 1, 2, 1, 2, 3, 3, 2, 3, 1, 2, 3, 1, 1, 2, 1, 2, 3, 3, 1, 2, 3, 1, 2, 3, 1, 2, 3, 1, 2, 2], \"Freq\": [0.9899387602673347, 0.3895949922051095, 0.012986499740170318, 0.5973789880478346, 0.9284578056885344, 0.8512973649973931, 0.12278327379770092, 0.024556654759540185, 0.09020668142843845, 0.9020668142843844, 0.9736541555704604, 0.25683543378731877, 0.22661950040057538, 0.5212248509213234, 0.9663383163806469, 0.969374773494188, 0.05607886528214852, 0.8972618445143763, 0.9818635308601619, 0.8362469127653245, 0.152044893230059, 0.012670407769171582, 0.9711841865030685, 0.022072367875069738, 0.46608675958006685, 0.5309849159772914, 0.003933221599831787, 0.9834903884611451, 0.9283064377668334, 0.9813204979381018, 0.16515162428348817, 0.8375546660091187, 0.9865915539601772, 0.9719570193759002, 0.8747657636255216, 0.12301393550983898, 0.9847573949819846, 0.2971423752616682, 0.7023365233457611, 0.7862361147308442, 0.2128157904534616, 0.26523207323245174, 0.4401723768538561, 0.293448251235904, 0.5673978422925389, 0.148173958815249, 0.28550592064401636, 0.9757574774379905, 0.1261184517180862, 0.1261184517180862, 0.7567107103085171, 0.9813340657740711, 0.9398741427302575, 0.48060573234209636, 0.47584725974464986, 0.04282625337701849, 0.986174130264774, 0.28191171896018113, 0.019221253565466893, 0.6983722128786305, 0.9752046019636087, 0.11160043353696925, 0.892803468295754, 0.22331688402641867, 0.7004029544464949, 0.07105537219022412, 0.03870745646869253, 0.9676864117173133, 0.21530891653302814, 0.227730584794549, 0.5589750717684384, 0.44723707920942196, 0.4820221853701548, 0.07453951320157033, 0.9598753147188274, 0.09070742832521582, 0.12699039965530215, 0.7800838835968561, 0.7076436069632741, 0.24750096598222887, 0.04531707827843627, 0.9784807264633619, 0.022238198328712773, 0.14761848134672192, 0.8051917164366651, 0.05367944776244434, 0.9906430155728062, 0.9913731601142303, 0.9861636051341698, 0.03044588184351457, 0.9742682189924663, 0.9719033309393499, 0.3396738800786599, 0.06574333162812772, 0.5916899846531495, 0.8133092743088434, 0.16158462403486953, 0.026930770672478257, 0.9929547216730392, 0.9648835625343262, 0.7399509920253837, 0.23090669254692825, 0.031487276256399306, 0.8325196780314953, 0.014031230528620707, 0.15434353581482776, 0.9847573949819846, 0.24512791904379672, 0.2909210467772533, 0.46331870412673665, 0.9695921842558456, 0.020629620941613736, 0.9910511432613448, 0.9880250092458119, 0.9139892146559657, 0.009326420557713936, 0.07461136446171149, 0.9029784471580947, 0.08026475085849731, 0.010033093857312164, 0.9901509427385534, 0.0976574366557245, 0.8370637427633529, 0.05580424951755686, 0.3882347144351035, 0.6086730692414758, 0.0032901246986025722, 0.984082813519695, 0.774756155446771, 0.21429425576187283, 0.01030260845009004, 0.9519818081981849, 0.035699317807431935, 0.7026760116571467, 0.2542345368809777, 0.0459034580479543, 0.3569351913905468, 0.432783919561038, 0.20969942494194627, 0.9950362360158054, 0.9899676094699685, 0.10803364347149981, 0.3637132663540494, 0.5293648530103491, 0.7501504288821826, 0.20067718479650745, 0.04778028209440654, 0.9939744040773627, 0.5600206941011883, 0.27773384016400393, 0.16390849583449413, 0.012419104237914792, 0.9811092347952686, 0.9212896155024157, 0.027096753397129875, 0.05419350679425975, 0.24970796092466618, 0.7391355643370119, 0.009988318436986648, 0.8218564385259605, 0.1577964361969844, 0.01972455452462305, 0.4098587775108469, 0.218591348005785, 0.3688728997597622, 0.9816089885054629, 0.3832011425670635, 0.054743020366723356, 0.5474302036672336, 0.9813799442817277, 0.9913470254576039, 0.9875385419890613, 0.9781170908959993, 0.14219227148875563, 0.8531536289325337, 0.9655757399584286, 0.4229208585867164, 0.5767102617091587, 0.9983064496881845, 0.9604037721025456, 0.49638885993140147, 0.19963465018980278, 0.3075452719140205, 0.09118530787384015, 0.9118530787384014, 0.9804982771333849, 0.9933778080210585, 0.2271364394446667, 0.7333262187784952, 0.03893767533337143, 0.6937609241705731, 0.26217709343655377, 0.04436843119695526, 0.8398993279253724, 0.1392579196560203, 0.017407239957002538, 0.25223721930491105, 0.7238111510488752, 0.010966835621952654, 0.2973167723565826, 0.07432919308914565, 0.631798141257738, 0.9719570439756111, 0.9809253202707501, 0.97811709041557, 0.9832630807258853, 0.01710022749088496, 0.9980742131518177, 0.9706676458059584, 0.9802418400374345, 0.010540234839112199, 0.9071235688117459, 0.16017831335488772, 0.4423972464087375, 0.39663201402162673, 0.9540487140420684, 0.035898358793676775, 0.9513065080324346, 0.7163409433581281, 0.2688460729743747, 0.01454794767177352, 0.9902643127815663, 0.35684612618432776, 0.3608556332201067, 0.28467499954030645, 0.07953218849624533, 0.9146201677068212, 0.08642682091553865, 0.911410111472953, 0.9076663014952099, 0.09230504760968236, 0.5544450472833946, 0.03925274671032882, 0.40724724711966154, 0.9836811640818156, 0.9659051130561112, 0.027597288944460317, 0.6653969773854854, 0.28134234614285625, 0.053589018312925, 0.9805899452549702, 0.48096765910091743, 0.44920564387727197, 0.06806146119352606, 0.03115501731398328, 0.9580167824049859, 0.010385005771327761, 0.11193920384673367, 0.8344558832211055, 0.06105774755276382, 0.964843117934142, 0.7573821513248199, 0.20196857368661864, 0.039271667105731406, 0.3357394447274029, 0.4937344775402984, 0.16984466027386266, 0.21408534413547822, 0.38852525417179384, 0.39645434099162635, 0.4723873555850621, 0.451235682946925, 0.07755613300650274, 0.07336170123442212, 0.9292482156360136, 0.7750144521676195, 0.208916939279967, 0.013478512211610774, 0.7967469872084839, 0.14300586949895863, 0.06128822978526799, 0.0424721142801755, 0.9556225713039488, 0.27242193259082664, 0.18161462172721776, 0.5448438651816533, 0.0296459712547811, 0.9783170514077763, 0.018670310334095983, 0.9428506718718471, 0.028005465501143974, 0.04025359567057328, 0.9660862960937587, 0.97206615115339, 0.017053792125498072, 0.026827436761640167, 0.9657877234190461, 0.980352481878475, 0.9776585841193062, 0.01629430973532177, 0.10400970147025576, 0.8944834326441995, 0.9882412049353263, 0.12693369313965996, 0.7933355821228748, 0.08462246209310664, 0.9585656852881428, 0.987523596736454, 0.9776122116616728, 0.9693891380728612, 0.9875378717329114, 0.9589656010274767, 0.9880334866171685, 0.9869760025164253, 0.9661676402012453, 0.700029179950091, 0.2688112051008349, 0.028001167198003638, 0.9981036259890709, 0.023972504274292497, 0.9828726752459923, 0.6480303648917553, 0.10286196268123099, 0.2520118085690159, 0.36000612524224057, 0.5634878482052461, 0.07826220113961752, 0.9901553296671356, 0.9927340258368337, 0.4783957058974885, 0.5192343637180058, 0.11018040653024208, 0.7565721248409957, 0.13956184827163998, 0.7659219199708679, 0.19483978665925586, 0.04031167999846673, 0.7636265327506739, 0.23341037416152674, 0.002881609557549713, 0.9804657241473487, 0.6520153573136349, 0.30608498718334526, 0.04165653671726, 0.3098238954615973, 0.681612570015514, 0.010327463182053243, 0.11497725572505607, 0.8814922938920965, 0.1255034328395553, 0.09761378109743192, 0.7809102487794554, 0.9598483123352362, 0.9864992037817729, 0.10316567812048032, 0.38885524830027196, 0.5078925692085184, 0.9802302477670743, 0.9954976060653389, 0.9648027601933264, 0.9886396530346325, 0.018515008076957294, 0.9627804200017793, 0.9880903437540021, 0.31743272627012475, 0.6791583910895692, 0.747290184154767, 0.21416243082484177, 0.04100982717922502, 0.9911828238713446, 0.5947459015516858, 0.3732130321817626, 0.031932665855124075, 0.7508345444431788, 0.2380694897014957, 0.0061043458897819414, 0.6173591468137267, 0.2184809967620007, 0.16436185077508308, 0.9568940081740124, 0.022253349027302614, 0.9748775670606687], \"Term\": [\"adl\", \"age\", \"age\", \"age\", \"aged\", \"ago\", \"ago\", \"ago\", \"aids\", \"aids\", \"alarm\", \"april\", \"april\", \"april\", \"archive\", \"argentina\", \"arizona\", \"arizona\", \"autos\", \"bad\", \"bad\", \"bad\", \"bank\", \"bank\", \"be\", \"be\", \"be\", \"bolshevik\", \"boomer\", \"bother\", \"brake\", \"brake\", \"briefing\", \"bullock\", \"buy\", \"buy\", \"cadre\", \"cancer\", \"cancer\", \"car\", \"car\", \"care\", \"care\", \"care\", \"case\", \"case\", \"case\", \"cdc\", \"center\", \"center\", \"center\", \"cereal\", \"chancellor\", \"change\", \"change\", \"change\", \"chastity\", \"child\", \"child\", \"child\", \"chinese\", \"clinical\", \"clinical\", \"clinton\", \"clinton\", \"clinton\", \"coli\", \"coli\", \"com\", \"com\", \"com\", \"consider\", \"consider\", \"consider\", \"convertible\", \"court\", \"court\", \"court\", \"day\", \"day\", \"day\", \"dealer\", \"dealer\", \"decision\", \"decision\", \"decision\", \"dee\", \"defamation\", \"deficit\", \"detector\", \"detector\", \"diarrhea\", \"disease\", \"disease\", \"disease\", \"doctor\", \"doctor\", \"doctor\", \"dole\", \"dream\", \"drive\", \"drive\", \"drive\", \"drug\", \"drug\", \"drug\", \"dsl\", \"edu\", \"edu\", \"edu\", \"eye\", \"eye\", \"falkland\", \"fat\", \"food\", \"food\", \"food\", \"friend\", \"friend\", \"friend\", \"geb\", \"george\", \"george\", \"george\", \"go\", \"go\", \"go\", \"gonorrhea\", \"good\", \"good\", \"good\", \"gordon\", \"gordon\", \"government\", \"government\", \"government\", \"group\", \"group\", \"group\", \"gun\", \"hamburger\", \"health\", \"health\", \"health\", \"help\", \"help\", \"help\", \"hicnet\", \"high\", \"high\", \"high\", \"hiv\", \"hiv\", \"homosexual\", \"homosexual\", \"homosexual\", \"house\", \"house\", \"house\", \"idea\", \"idea\", \"idea\", \"increase\", \"increase\", \"increase\", \"infect\", \"infection\", \"infection\", \"infection\", \"infectious\", \"influenza\", \"intellect\", \"ivf\", \"japanese\", \"japanese\", \"jb\", \"job\", \"job\", \"keyboard\", \"kirlian\", \"law\", \"law\", \"law\", \"league\", \"league\", \"lift\", \"limbaugh\", \"list\", \"list\", \"list\", \"long\", \"long\", \"long\", \"lot\", \"lot\", \"lot\", \"mail\", \"mail\", \"mail\", \"medical\", \"medical\", \"medical\", \"melanoma\", \"migraine\", \"mmwr\", \"ms\", \"ms\", \"msg\", \"mwra\", \"myers\", \"myers\", \"nambla\", \"national\", \"national\", \"national\", \"needle\", \"newsletter\", \"newsletter\", \"not\", \"not\", \"not\", \"nuclear\", \"number\", \"number\", \"number\", \"outbreak\", \"outbreak\", \"package\", \"package\", \"pain\", \"pain\", \"patient\", \"patient\", \"patient\", \"pc\", \"pitt\", \"pitt\", \"point\", \"point\", \"point\", \"polio\", \"post\", \"post\", \"post\", \"president\", \"president\", \"president\", \"press\", \"press\", \"press\", \"prevalence\", \"problem\", \"problem\", \"problem\", \"program\", \"program\", \"program\", \"public\", \"public\", \"public\", \"question\", \"question\", \"question\", \"radar\", \"radar\", \"read\", \"read\", \"read\", \"reason\", \"reason\", \"reason\", \"rec\", \"rec\", \"report\", \"report\", \"report\", \"republicans\", \"republicans\", \"request\", \"request\", \"request\", \"resolution\", \"resolution\", \"rockefeller\", \"rockefeller\", \"rsi\", \"rsi\", \"sanction\", \"secret\", \"secret\", \"senate\", \"senate\", \"senator\", \"send\", \"send\", \"send\", \"serb\", \"shameful\", \"sho\", \"sinus\", \"skepticism\", \"skill\", \"slave\", \"smokeless\", \"spending\", \"start\", \"start\", \"start\", \"stephanopoulos\", \"stimulus\", \"stimulus\", \"study\", \"study\", \"study\", \"support\", \"support\", \"support\", \"surrender\", \"surveillance\", \"talk\", \"talk\", \"tax\", \"tax\", \"tax\", \"tell\", \"tell\", \"tell\", \"thing\", \"thing\", \"thing\", \"throttle\", \"time\", \"time\", \"time\", \"tire\", \"tire\", \"tire\", \"tobacco\", \"tobacco\", \"trial\", \"trial\", \"trial\", \"turbo\", \"typing\", \"university\", \"university\", \"university\", \"vaccine\", \"vat\", \"virus\", \"vitamin\", \"volume\", \"volume\", \"wagon\", \"water\", \"water\", \"well\", \"well\", \"well\", \"witness\", \"work\", \"work\", \"work\", \"would\", \"would\", \"would\", \"year\", \"year\", \"year\", \"yeast\", \"yeast\", \"yesterday\"]}, \"R\": 30, \"lambda.step\": 0.01, \"plot.opts\": {\"xlab\": \"PC1\", \"ylab\": \"PC2\"}, \"topic.order\": [3, 2, 1]};\n",
       "\n",
       "function LDAvis_load_lib(url, callback){\n",
       "  var s = document.createElement('script');\n",
       "  s.src = url;\n",
       "  s.async = true;\n",
       "  s.onreadystatechange = s.onload = callback;\n",
       "  s.onerror = function(){console.warn(\"failed to load library \" + url);};\n",
       "  document.getElementsByTagName(\"head\")[0].appendChild(s);\n",
       "}\n",
       "\n",
       "if(typeof(LDAvis) !== \"undefined\"){\n",
       "   // already loaded: just create the visualization\n",
       "   !function(LDAvis){\n",
       "       new LDAvis(\"#\" + \"ldavis_el332019352373392808203174417\", ldavis_el332019352373392808203174417_data);\n",
       "   }(LDAvis);\n",
       "}else if(typeof define === \"function\" && define.amd){\n",
       "   // require.js is available: use it to load d3/LDAvis\n",
       "   require.config({paths: {d3: \"https://cdnjs.cloudflare.com/ajax/libs/d3/3.5.5/d3.min\"}});\n",
       "   require([\"d3\"], function(d3){\n",
       "      window.d3 = d3;\n",
       "      LDAvis_load_lib(\"https://cdn.rawgit.com/bmabey/pyLDAvis/files/ldavis.v1.0.0.js\", function(){\n",
       "        new LDAvis(\"#\" + \"ldavis_el332019352373392808203174417\", ldavis_el332019352373392808203174417_data);\n",
       "      });\n",
       "    });\n",
       "}else{\n",
       "    // require.js not available: dynamically load d3 & LDAvis\n",
       "    LDAvis_load_lib(\"https://cdnjs.cloudflare.com/ajax/libs/d3/3.5.5/d3.min.js\", function(){\n",
       "         LDAvis_load_lib(\"https://cdn.rawgit.com/bmabey/pyLDAvis/files/ldavis.v1.0.0.js\", function(){\n",
       "                 new LDAvis(\"#\" + \"ldavis_el332019352373392808203174417\", ldavis_el332019352373392808203174417_data);\n",
       "            })\n",
       "         });\n",
       "}\n",
       "</script>"
      ],
      "text/plain": [
       "PreparedData(topic_coordinates=              x         y  topics  cluster       Freq\n",
       "topic                                                \n",
       "2     -0.077777  0.086716       1        1  51.464538\n",
       "1     -0.071614 -0.089134       2        1  30.988058\n",
       "0      0.149391  0.002418       3        1  17.547404, topic_info=                 Term        Freq       Total Category  logprob  loglift\n",
       "11481       president  385.000000  385.000000  Default  30.0000  30.0000\n",
       "14054  stephanopoulos  295.000000  295.000000  Default  29.0000  29.0000\n",
       "4570              edu  371.000000  371.000000  Default  28.0000  28.0000\n",
       "6523           health  277.000000  277.000000  Default  27.0000  27.0000\n",
       "2755              com  241.000000  241.000000  Default  26.0000  26.0000\n",
       "...               ...         ...         ...      ...      ...      ...\n",
       "16542            year   82.356499  498.899225   Topic3  -5.6258  -0.0611\n",
       "8266              law   56.857848  185.338567   Topic3  -5.9963   0.5586\n",
       "2118             care   52.245969  177.203305   Topic3  -6.0808   0.5189\n",
       "14200           study   48.892701  194.435333   Topic3  -6.1472   0.3598\n",
       "6266            group   47.042802  224.130324   Topic3  -6.1858   0.1791\n",
       "\n",
       "[233 rows x 6 columns], token_table=       Topic      Freq       Term\n",
       "term                             \n",
       "243        3  0.989939        adl\n",
       "349        1  0.389595        age\n",
       "349        2  0.012986        age\n",
       "349        3  0.597379        age\n",
       "350        3  0.928458       aged\n",
       "...      ...       ...        ...\n",
       "16542      2  0.218481       year\n",
       "16542      3  0.164362       year\n",
       "16544      1  0.956894      yeast\n",
       "16544      2  0.022253      yeast\n",
       "16555      2  0.974878  yesterday\n",
       "\n",
       "[372 rows x 3 columns], R=30, lambda_step=0.01, plot_opts={'xlab': 'PC1', 'ylab': 'PC2'}, topic_order=[3, 2, 1])"
      ]
     },
     "execution_count": 15,
     "metadata": {},
     "output_type": "execute_result"
    }
   ],
   "source": [
    "# %matplotlib inline\n",
    "# Mari kita Plot, supaya lebih jelas\n",
    "# Catatan, bergantung dari laptop yang digunakan, image terkadang cukup lama untuk muncul.\n",
    "import pyLDAvis, pyLDAvis.sklearn; pyLDAvis.enable_notebook()\n",
    "\n",
    "pyLDAvis.sklearn.prepare(lda, tf, tf_vectorizer)  "
   ]
  },
  {
   "cell_type": "markdown",
   "metadata": {},
   "source": [
    "# Bagaimana jika kita ingin menggunakan semi-supervised (guided) LDA?\n",
    "https://medium.freecodecamp.org/how-we-changed-unsupervised-lda-to-semi-supervised-guidedlda-e36a95f3a164 "
   ]
  },
  {
   "cell_type": "markdown",
   "metadata": {},
   "source": [
    "# Bagaimana melakukan Post-Tag sebelum Topic Modelling & Bahasa Indonesia?"
   ]
  },
  {
   "cell_type": "code",
   "execution_count": 16,
   "metadata": {
    "ExecuteTime": {
     "end_time": "2022-05-30T11:16:04.348506Z",
     "start_time": "2022-05-30T11:16:04.333507Z"
    }
   },
   "outputs": [
    {
     "name": "stdout",
     "output_type": "stream",
     "text": [
      "Kolom di data:  Index(['Id', 'Sentiment', 'Text Tweet'], dtype='object')\n"
     ]
    },
    {
     "data": {
      "text/plain": [
       "array(['Jelek filmnya... apalagi si ernest gak mutu bgt actingnya... film sampah',\n",
       "       'Film king Arthur ini film paling jelek dari seluruh cerita King Arthur ',\n",
       "       '@beexkuanlin Sepanjang film gwa berkata kasar terus pada bapaknya',\n",
       "       'Ane ga suka fast and furious..menurutku kok jelek ya tu film',\n",
       "       '@baekhyun36 kan gua ga tau film nya, lu bilang perang perangan/? Perang\"an disebut ama rp yaoi jadi ambigu :v'],\n",
       "      dtype=object)"
      ]
     },
     "execution_count": 16,
     "metadata": {},
     "output_type": "execute_result"
    }
   ],
   "source": [
    "# Sumber Data:\n",
    "# https://github.com/rizalespe/Dataset-Sentimen-Analisis-Bahasa-Indonesia/blob/master/dataset_tweet_sentiment_opini_film.csv\n",
    "\n",
    "url_ = 'https://raw.githubusercontent.com/rizalespe/Dataset-Sentimen-Analisis-Bahasa-Indonesia/master/dataset_tweet_sentiment_opini_film.csv'\n",
    "file_ = 'data/dataset_tweet_sentiment_opini_film.csv'\n",
    "\n",
    "try: # Running Locally\n",
    "    data = pd.read_csv(file_)\n",
    "except: # Running in Google Colab\n",
    "    !mkdir data\n",
    "    !wget -P data/ {url_}\n",
    "    data = pd.read_csv(file_)\n",
    "    data.to_csv(file_, encoding='utf-8', index=False)\n",
    "\n",
    "col = data.columns\n",
    "print(\"Kolom di data: \", col)\n",
    "data = data[col[-1]].values\n",
    "data[:5]"
   ]
  },
  {
   "cell_type": "markdown",
   "metadata": {},
   "source": [
    "# Preprocessing Bahasa Indonesia"
   ]
  },
  {
   "cell_type": "code",
   "execution_count": 17,
   "metadata": {
    "ExecuteTime": {
     "end_time": "2022-05-30T11:16:34.934141Z",
     "start_time": "2022-05-30T11:16:04.349506Z"
    }
   },
   "outputs": [
    {
     "name": "stderr",
     "output_type": "stream",
     "text": [
      "200it [00:28,  7.02it/s]"
     ]
    },
    {
     "name": "stdout",
     "output_type": "stream",
     "text": [
      "jelek film si ernest gak mutu bgt actingnya film sampah\n"
     ]
    },
    {
     "name": "stderr",
     "output_type": "stream",
     "text": [
      "\n"
     ]
    }
   ],
   "source": [
    "stopID, _ = tau.LoadStopWords(lang='id')\n",
    "stopID.add('rt'); stopID.add('..')\n",
    "\n",
    "for i,d in tqdm(enumerate(data)):\n",
    "    data[i] = tau.cleanText(d, lan='id', lemma=True, stops=stopID, symbols_remove = True, min_charLen = 2)\n",
    "    \n",
    "print(data[0])"
   ]
  },
  {
   "cell_type": "code",
   "execution_count": 18,
   "metadata": {
    "ExecuteTime": {
     "end_time": "2022-05-30T11:16:36.983331Z",
     "start_time": "2022-05-30T11:16:34.935141Z"
    }
   },
   "outputs": [],
   "source": [
    "from spacy.lang.id import Indonesian\n",
    "from nltk.tag import CRFTagger\n",
    "nlp_id = Indonesian()  # Language Model\n",
    "ct = CRFTagger()\n",
    "ct.set_model_file('data/all_indo_man_tag_corpus_model.crf.tagger')\n",
    "\n",
    "def NLPfilter(t, filters):\n",
    "    tokens = nlp_id(t)\n",
    "    tokens = [str(k) for k in tokens if len(k)>2]\n",
    "    hasil = ct.tag_sents([tokens])\n",
    "    return [k[0] for k in hasil[0] if k[1] in filters]"
   ]
  },
  {
   "cell_type": "code",
   "execution_count": 19,
   "metadata": {
    "ExecuteTime": {
     "end_time": "2022-05-30T11:16:36.998600Z",
     "start_time": "2022-05-30T11:16:36.983331Z"
    }
   },
   "outputs": [
    {
     "data": {
      "text/plain": [
       "['jelek', 'film', 'actingnya', 'film', 'sampah']"
      ]
     },
     "execution_count": 19,
     "metadata": {},
     "output_type": "execute_result"
    }
   ],
   "source": [
    "filters = set(['NN', 'NNP', 'NNS', 'NNPS', 'JJ'])\n",
    "NLPfilter(data[0], filters)"
   ]
  },
  {
   "cell_type": "code",
   "execution_count": 20,
   "metadata": {
    "ExecuteTime": {
     "end_time": "2022-05-30T11:16:37.061600Z",
     "start_time": "2022-05-30T11:16:36.999601Z"
    }
   },
   "outputs": [
    {
     "name": "stderr",
     "output_type": "stream",
     "text": [
      "200it [00:00, 4999.97it/s]\n"
     ]
    },
    {
     "data": {
      "text/plain": [
       "'jelek film actingnya film sampah'"
      ]
     },
     "execution_count": 20,
     "metadata": {},
     "output_type": "execute_result"
    }
   ],
   "source": [
    "data_postTag = []\n",
    "for i, d in tqdm(enumerate(data)):\n",
    "    data_postTag.append(NLPfilter(d,filters))\n",
    "\n",
    "' '.join(data_postTag[0])"
   ]
  },
  {
   "cell_type": "code",
   "execution_count": 34,
   "metadata": {
    "ExecuteTime": {
     "end_time": "2022-05-30T11:19:06.835068Z",
     "start_time": "2022-05-30T11:19:06.831082Z"
    }
   },
   "outputs": [
    {
     "name": "stdout",
     "output_type": "stream",
     "text": [
      "[['jelek', 'film', 'actingnya', 'film', 'sampah'], ['film', 'king', 'arthur', 'film', 'jelek', 'cerita'], ['film', 'gwa', 'kasar']]\n"
     ]
    }
   ],
   "source": [
    "data = [d for d in data_postTag if d]\n",
    "print(data[:3])"
   ]
  },
  {
   "cell_type": "markdown",
   "metadata": {},
   "source": [
    "# Evaluasi: Bagaimana mendapatkan parameter Optimal Topic Modelling?\n",
    "\n",
    "**Beberapa catatan penting**:\n",
    "1. Hati-hati Struktur Data, untuk melakukan evaluasi Topic Modelling struktur data yang digunakan mirip dengan Word Embedding.\n",
    "2. Kita akan melakukan cross-validasi dan N-Gram\n",
    "3. Ada berbagai metric evaluasi https://radimrehurek.com/gensim/models/coherencemodel.html\n",
    "4. Referensi paper: http://svn.aksw.org/papers/2015/WSDM_Topic_Evaluation/public.pdf"
   ]
  },
  {
   "cell_type": "code",
   "execution_count": 35,
   "metadata": {
    "ExecuteTime": {
     "end_time": "2022-05-30T11:19:15.164634Z",
     "start_time": "2022-05-30T11:19:15.149633Z"
    }
   },
   "outputs": [
    {
     "name": "stdout",
     "output_type": "stream",
     "text": [
      "Number of unique tokens: 126\n",
      "Number of documents: 182\n",
      "[[(0, 2), (1, 1)]]\n"
     ]
    }
   ],
   "source": [
    "bigram_t = Phrases(data, min_count=5)\n",
    "trigram_t = Phrases(bigram_t[data], min_count=5)\n",
    "for idx, d in enumerate(data):\n",
    "    for token in bigram_t[d]:\n",
    "        if '_' in token:# Token is a bigram, add to document.\n",
    "            data[idx].append(token)\n",
    "    for token in trigram_t[d]:\n",
    "        if '_' in token:# Token is a bigram, add to document.\n",
    "            data[idx].append(token)\n",
    "\n",
    "# Create a dictionary representation of the documents.\n",
    "# Remove rare & common tokens\n",
    "dictionary_t = Dictionary(data)\n",
    "dictionary_t.filter_extremes(no_below=2, no_above=0.90)\n",
    "#Create dictionary and corpus required for Topic Modeling\n",
    "corpus_t = [dictionary_t.doc2bow(doc) for doc in data]\n",
    "corpus_t = [t for t in corpus_t if t] # remove empty corpus\n",
    "print('Number of unique tokens: %d' % len(dictionary_t))\n",
    "print('Number of documents: %d' % len(corpus_t))\n",
    "print(corpus_t[:1])"
   ]
  },
  {
   "cell_type": "code",
   "execution_count": 36,
   "metadata": {
    "ExecuteTime": {
     "end_time": "2022-05-30T11:19:18.512578Z",
     "start_time": "2022-05-30T11:19:18.495900Z"
    }
   },
   "outputs": [
    {
     "data": {
      "text/plain": [
       "<gensim.corpora.dictionary.Dictionary at 0x1c294e3e0a0>"
      ]
     },
     "execution_count": 36,
     "metadata": {},
     "output_type": "execute_result"
    }
   ],
   "source": [
    "import gensim.corpora as corpora\n",
    "\n",
    "id2word = corpora.Dictionary(data)\n",
    "id2word"
   ]
  },
  {
   "cell_type": "code",
   "execution_count": 38,
   "metadata": {
    "ExecuteTime": {
     "end_time": "2022-05-30T11:19:26.239853Z",
     "start_time": "2022-05-30T11:19:26.223168Z"
    }
   },
   "outputs": [],
   "source": [
    "from gensim.models.ldamulticore import LdaMulticore\n",
    "from gensim.models.coherencemodel import CoherenceModel\n",
    "\n",
    "def compute_coherence_values(id2word, corpus, texts, limit=1, start=2, step=1):\n",
    "    coherence_values = []\n",
    "    for num_topics in range(start, limit, step):\n",
    "        LDAmodel_ = LdaMulticore(corpus=corpus, id2word=id2word, num_topics=num_topics)\n",
    "        cm = CoherenceModel(model=LDAmodel_, texts=texts, corpus=corpus, coherence='c_v')\n",
    "        with np.errstate(invalid='ignore'):\n",
    "            coherence_values.append(cm.get_coherence())\n",
    "    return coherence_values"
   ]
  },
  {
   "cell_type": "markdown",
   "metadata": {},
   "source": [
    "# Caution cell berikut ini membutuhkan waktu yang cukup signifikan untuk selesai, karena selain LDA *computationally expensive* loopingnya juga melakukan Cross-validasi di setiap jumlah topik *k*"
   ]
  },
  {
   "cell_type": "code",
   "execution_count": 41,
   "metadata": {
    "ExecuteTime": {
     "end_time": "2022-05-30T11:22:43.248385Z",
     "start_time": "2022-05-30T11:20:12.221552Z"
    }
   },
   "outputs": [
    {
     "name": "stdout",
     "output_type": "stream",
     "text": [
      "iterasi ke:  1, 2, 3, 4, 5, "
     ]
    },
    {
     "data": {
      "text/plain": [
       "'Done'"
      ]
     },
     "execution_count": 41,
     "metadata": {},
     "output_type": "execute_result"
    }
   ],
   "source": [
    "start, step, limit = 2, 1, 10 # Ganti dengan berapa banyak Topic yang ingin di hitung/explore\n",
    "coh_t, kCV = [], 10 # hati-hati sangat LAMBAT karena cross validasi pada metode yang memang tidak efisien (LDA)\n",
    "\n",
    "print('iterasi ke: ', end = ' ')\n",
    "for i in range(kCV):\n",
    "    print(i+1, end = ', ', flush=True)\n",
    "    c = compute_coherence_values(id2word, corpus_t, data, limit=limit, start=start, step=step)\n",
    "    coh_t.append(c)\n",
    "    \n",
    "coherence_t = np.mean(np.array(coh_t), axis=0)\n",
    "'Done'"
   ]
  },
  {
   "cell_type": "code",
   "execution_count": 42,
   "metadata": {
    "ExecuteTime": {
     "end_time": "2022-05-30T11:22:43.373378Z",
     "start_time": "2022-05-30T11:22:43.248385Z"
    }
   },
   "outputs": [
    {
     "data": {
      "image/png": "[encoded data removed]",
      "text/plain": [
       "<Figure size 864x720 with 1 Axes>"
      ]
     },
     "metadata": {
      "needs_background": "light"
     },
     "output_type": "display_data"
    }
   ],
   "source": [
    "# Show graph\n",
    "x = range(start, limit, step)\n",
    "plt.figure(figsize=(12,10))\n",
    "for c in coh_t:\n",
    "    plt.plot(x, c, '--', color = 'lawngreen', linewidth = 2)\n",
    "plt.plot(x, coherence_t, '-', color = 'black', linewidth = 5)\n",
    "plt.xlabel(\"Num Topics\")\n",
    "plt.ylabel(\"Coherence score\")\n",
    "plt.legend((\"coherence_values\"), loc='best')\n",
    "plt.show()"
   ]
  },
  {
   "cell_type": "markdown",
   "metadata": {},
   "source": [
    "# Referensi Pilihan:\n",
    "\n",
    "* perhitungan Manual Topic Modelling LDA: http://brooksandrew.github.io/simpleblog/articles/latent-dirichlet-allocation-under-the-hood/\n",
    "* http://mimno.infosci.cornell.edu/slides/details.pdf\n",
    "* https://datascienceplus.com/evaluation-of-topic-modeling-topic-coherence/\n",
    "* http://www.umiacs.umd.edu/~jbg/docs/nips2009-rtl.pdf\n",
    "* http://radimrehurek.com/topic_modeling_tutorial/2%20-%20Topic%20Modeling.html\n",
    "* Penjelasan intuitif yang baik: https://medium.com/@lettier/how-does-lda-work-ill-explain-using-emoji-108abf40fa7d \n",
    "* inconjunction dengan interactive program berikut: https://lettier.com/projects/lda-topic-modeling/ "
   ]
  },
  {
   "cell_type": "code",
   "execution_count": 43,
   "metadata": {
    "ExecuteTime": {
     "end_time": "2022-05-30T11:22:43.529626Z",
     "start_time": "2022-05-30T11:22:43.373378Z"
    }
   },
   "outputs": [
    {
     "name": "stdout",
     "output_type": "stream",
     "text": [
      "\n",
      "Topics in NMF model:\n",
      "Topic #1:\n",
      "not time msg be food government work year thing drug good problem doctor study case question president job patient health post help disease law day\n",
      "Topic #2:\n",
      "geb dsl cadre chastity pitt shameful intellect skepticism surrender bank gordon edu not lyme blood patient migraine weight good medical pressure disease nerve reflex dystrophy\n",
      "Topic #3:\n",
      "car drive buy dealer price engine not good model speed mile sell saturn driver year tire ford problem owner time oil small auto light road\n"
     ]
    }
   ],
   "source": [
    "# Langsung Aplikasi-nya\n",
    "# Perhatikan NMF bisa menggunakan Float\n",
    "from sklearn.decomposition import NMF\n",
    "from sklearn.feature_extraction.text import TfidfVectorizer\n",
    "\n",
    "data = D.copy()\n",
    "\n",
    "tfidf_vectorizer = TfidfVectorizer()\n",
    "tfidf = tfidf_vectorizer.fit_transform(data)\n",
    "nmf_model = NMF(n_components = 3, random_state=0)\n",
    "nmf = nmf_model.fit(tfidf)\n",
    "\n",
    "print(\"\\nTopics in NMF model:\")\n",
    "tfidf_feature_names = tfidf_vectorizer.get_feature_names()\n",
    "tau.print_Topics(nmf, tfidf_feature_names, n_topics, Top_Words)"
   ]
  },
  {
   "cell_type": "code",
   "execution_count": 44,
   "metadata": {
    "ExecuteTime": {
     "end_time": "2022-05-30T11:22:43.545265Z",
     "start_time": "2022-05-30T11:22:43.529626Z"
    }
   },
   "outputs": [
    {
     "data": {
      "text/plain": [
       "array([[0.        , 0.        , 0.15690406],\n",
       "       [0.06583397, 0.00642889, 0.00487684],\n",
       "       [0.0050879 , 0.        , 0.0889403 ],\n",
       "       [0.09121897, 0.0055142 , 0.        ],\n",
       "       [0.06019741, 0.        , 0.01219569],\n",
       "       [0.01627222, 0.        , 0.0696    ],\n",
       "       [0.02104475, 0.        , 0.00707435],\n",
       "       [0.01055947, 0.        , 0.06018087],\n",
       "       [0.05167198, 0.        , 0.02317782],\n",
       "       [0.05389314, 0.        , 0.01252206]])"
      ]
     },
     "execution_count": 44,
     "metadata": {},
     "output_type": "execute_result"
    }
   ],
   "source": [
    "# Sama seperti LDA kita bisa melihat distribusi topic setiap dokumen\n",
    "vsm_topics = nmf.transform(tfidf)\n",
    "vsm_topics[:10]"
   ]
  },
  {
   "cell_type": "code",
   "execution_count": 45,
   "metadata": {
    "ExecuteTime": {
     "end_time": "2022-05-30T11:22:43.607750Z",
     "start_time": "2022-05-30T11:22:43.545265Z"
    }
   },
   "outputs": [
    {
     "name": "stderr",
     "output_type": "stream",
     "text": [
      "100%|██████████████████████████████████████████████████████████████████████████████████████| 1653/1653 [00:00<?, ?it/s]"
     ]
    },
    {
     "name": "stdout",
     "output_type": "stream",
     "text": [
      "In total there are 3 major topics, distributed as follows\n"
     ]
    },
    {
     "name": "stderr",
     "output_type": "stream",
     "text": [
      "\n"
     ]
    },
    {
     "data": {
      "image/png": "[encoded data removed]",
      "text/plain": [
       "<Figure size 432x288 with 1 Axes>"
      ]
     },
     "metadata": {
      "needs_background": "light"
     },
     "output_type": "display_data"
    }
   ],
   "source": [
    "# Seandainya diasumsikan 1 dokumen hanya 1 topic dengan nilai skor topic terbesar\n",
    "doc_topic =  [a.argmax()+1 for a in tqdm(vsm_topics)] # topic of docs\n",
    "print('In total there are {0} major topics, distributed as follows'.format(len(set(doc_topic))))\n",
    "sns.countplot(doc_topic)\n",
    "plt.show()"
   ]
  },
  {
   "cell_type": "markdown",
   "metadata": {},
   "source": [
    "# Latihan :\n",
    "\n",
    "* Load data data tweet dengan isu berbeda.\n",
    "* Lakukan preprocessing (termasuk lemma) dan pos tag (ambil hanya noun saja)\n",
    "* Bandingkan hasil topic dari LDA, dan NMF dari data tersebut.\n",
    "* Apakah hasilnya sudah baik?\n",
    "* Buat visualisasi pyLDAvis-nya dan analisa lebih lanjut."
   ]
  },
  {
   "cell_type": "markdown",
   "metadata": {},
   "source": [
    "# End of Module\n",
    "\n",
    "<hr />"
   ]
  }
 ],
 "metadata": {
  "celltoolbar": "Slideshow",
  "hide_input": false,
  "kernelspec": {
   "display_name": "Python 3 (ipykernel)",
   "language": "python",
   "name": "python3"
  },
  "language_info": {
   "codemirror_mode": {
    "name": "ipython",
    "version": 3
   },
   "file_extension": ".py",
   "mimetype": "text/x-python",
   "name": "python",
   "nbconvert_exporter": "python",
   "pygments_lexer": "ipython3",
   "version": "3.9.12"
  },
  "latex_envs": {
   "LaTeX_envs_menu_present": true,
   "autoclose": false,
   "autocomplete": true,
   "bibliofile": "biblio.bib",
   "cite_by": "apalike",
   "current_citInitial": 1,
   "eqLabelWithNumbers": true,
   "eqNumInitial": 1,
   "hotkeys": {
    "equation": "Ctrl-E",
    "itemize": "Ctrl-I"
   },
   "labels_anchors": false,
   "latex_user_defs": false,
   "report_style_numbering": false,
   "user_envs_cfg": false
  }
 },
 "nbformat": 4,
 "nbformat_minor": 2
}
