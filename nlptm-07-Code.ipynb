{
 "cells": [
  {
   "cell_type": "markdown",
   "metadata": {
    "slideshow": {
     "slide_type": "slide"
    }
   },
   "source": [
    "<center><h2><strong><font color=\"blue\">Natural Language Processing dan Text Mining (NLPTM)</font></strong></h2></center>\n",
    "<center><h2><strong><font color=\"blue\">Social Media Analytics (SMA)</font></strong></h2></center>\n",
    "\n",
    "<center><h3><strong><font color=\"blue\"><a href=\"https://taudata.blogspot.com\">https://taudata.blogspot.com</a></font></strong></h3></center>\n",
    "\n",
    "<img alt=\"\" src=\"images/covers/taudata-cover.jpg\"/>\n",
    "\n",
    "<center><h2><strong><font color=\"blue\">NLPTM-07: Pendahuluan Topic Modelling</font></strong></h2></center>\n",
    "<center><h3><strong><font color=\"blue\"><a href=\"https://taudata.blogspot.com/2022/05/nlptm-07.html\">https://taudata.blogspot.com/2022/05/nlptm-07.html</a></font></strong></h3></center>\n",
    "<b><center><h3>(C) Taufik Sutanto ~ taudata Analytics</h3></center>"
   ]
  },
  {
   "cell_type": "markdown",
   "metadata": {
    "slideshow": {
     "slide_type": "slide"
    }
   },
   "source": [
    "## <font color=\"blue\">Outline Topic Modelling :</font>\n",
    "\n",
    "* Importing Data\n",
    "* Pendahuluan Topic Modelling\n",
    "* Soft Clustering (Topic Modelling): LDA dan NMF\n",
    "* Visualisasi dan Interpretasi"
   ]
  },
  {
   "cell_type": "code",
   "execution_count": 1,
   "metadata": {
    "ExecuteTime": {
     "end_time": "2022-05-30T11:14:55.340587Z",
     "start_time": "2022-05-30T11:14:55.301588Z"
    }
   },
   "outputs": [
    {
     "name": "stdout",
     "output_type": "stream",
     "text": [
      "Running the code locally, please make sure all the python module versions agree with colab environment and all data/assets downloaded\n"
     ]
    }
   ],
   "source": [
    "# Jika di jalankan di komputer local, silahkan lihat NLPTM-02 untuk instalasinya.\n",
    "import warnings; warnings.simplefilter('ignore')\n",
    "import nltk\n",
    "\n",
    "try:\n",
    "    import google.colab\n",
    "    IN_COLAB = True\n",
    "    !wget https://raw.githubusercontent.com/taudata-indonesia/eLearning/master/taudataNlpTm.py\n",
    "    !mkdir data\n",
    "    !wget -P data/ https://raw.githubusercontent.com/taudata-indonesia/eLearning/master/data/slang.txt\n",
    "    !wget -P data/ https://raw.githubusercontent.com/taudata-indonesia/eLearning/master/data/stopwords_id.txt\n",
    "    !wget -P data/ https://raw.githubusercontent.com/taudata-indonesia/eLearning/master/data/stopwords_en.txt\n",
    "    !wget -P data/ https://raw.githubusercontent.com/taudata-indonesia/eLearning/master/data/kata_dasar.txt\n",
    "    !wget -P data/ https://raw.githubusercontent.com/taudata-indonesia/eLearning/master/data/wn-ind-def.tab\n",
    "    !wget -P data/ https://raw.githubusercontent.com/taudata-indonesia/eLearning/master/data/wn-msa-all.tab\n",
    "    !wget -P data/ https://raw.githubusercontent.com/taudata-indonesia/eLearning/master/data/ind_SA.csv\n",
    "    !wget -P data/ https://raw.githubusercontent.com/taudata-indonesia/eLearning/master/data/all_indo_man_tag_corpus_model.crf.tagger\n",
    "\n",
    "    !pip install spacy python-crfsuite unidecode textblob sastrawi pyLDAvis\n",
    "    !python -m spacy download xx\n",
    "    !python -m spacy download en_core_web_sm\n",
    "    nltk.download('popular')\n",
    "except:\n",
    "    IN_COLAB = False\n",
    "    print(\"Running the code locally, please make sure all the python module versions agree with colab environment and all data/assets downloaded\")"
   ]
  },
  {
   "cell_type": "code",
   "execution_count": 2,
   "metadata": {
    "ExecuteTime": {
     "end_time": "2022-05-30T11:14:55.356587Z",
     "start_time": "2022-05-30T11:14:55.341587Z"
    },
    "scrolled": true
   },
   "outputs": [
    {
     "name": "stderr",
     "output_type": "stream",
     "text": [
      "D:\\Anaconda\\envs\\Teaching\\lib\\site-packages\\seaborn\\rcmod.py:82: DeprecationWarning: distutils Version classes are deprecated. Use packaging.version instead.\n",
      "  if LooseVersion(mpl.__version__) >= \"3.0\":\n",
      "D:\\Anaconda\\envs\\Teaching\\lib\\site-packages\\setuptools\\_distutils\\version.py:346: DeprecationWarning: distutils Version classes are deprecated. Use packaging.version instead.\n",
      "  other = LooseVersion(other)\n",
      "D:\\Anaconda\\envs\\Teaching\\lib\\site-packages\\gensim\\matutils.py:22: DeprecationWarning: Please use `triu` from the `scipy.linalg` namespace, the `scipy.linalg.special_matrices` namespace is deprecated.\n",
      "  from scipy.linalg.special_matrices import triu\n",
      "D:\\Anaconda\\envs\\Teaching\\lib\\site-packages\\seaborn\\rcmod.py:400: DeprecationWarning: distutils Version classes are deprecated. Use packaging.version instead.\n",
      "  if LooseVersion(mpl.__version__) >= \"3.0\":\n",
      "D:\\Anaconda\\envs\\Teaching\\lib\\site-packages\\setuptools\\_distutils\\version.py:346: DeprecationWarning: distutils Version classes are deprecated. Use packaging.version instead.\n",
      "  other = LooseVersion(other)\n"
     ]
    },
    {
     "data": {
      "text/plain": [
       "'Done'"
      ]
     },
     "execution_count": 2,
     "metadata": {},
     "output_type": "execute_result"
    }
   ],
   "source": [
    "# Importing Modules untuk Notebook ini\n",
    "import taudataNlpTm as tau, itertools, re, pickle, pyLDAvis, pyLDAvis.sklearn, spacy, urllib.request\n",
    "import numpy as np, matplotlib.pyplot as plt, pandas as pd, seaborn as sns \n",
    "from tqdm import tqdm\n",
    "from nltk.tag import CRFTagger\n",
    "from gensim.models import Phrases\n",
    "from gensim.corpora.dictionary import Dictionary\n",
    "from nltk.corpus import stopwords\n",
    "\n",
    "pyLDAvis.enable_notebook()\n",
    "sns.set(style=\"ticks\", color_codes=True)\n",
    "random_state = 99\n",
    "'Done'"
   ]
  },
  {
   "cell_type": "markdown",
   "metadata": {},
   "source": [
    "# Load Data"
   ]
  },
  {
   "cell_type": "code",
   "execution_count": 6,
   "metadata": {
    "ExecuteTime": {
     "end_time": "2022-05-30T11:14:55.372590Z",
     "start_time": "2022-05-30T11:14:55.357587Z"
    }
   },
   "outputs": [
    {
     "name": "stdout",
     "output_type": "stream",
     "text": [
      "FInished, 1653 documents loaded\n"
     ]
    }
   ],
   "source": [
    "try:\n",
    "    f = open('data/20newsgroups.pckl', 'rb')\n",
    "    data = pickle.load(f)\n",
    "    f.close()\n",
    "except:\n",
    "    categories = ['sci.med', 'talk.politics.misc',  'rec.autos']\n",
    "    data = fetch_20newsgroups(categories=categories,remove=('headers', 'footers', 'quotes'))\n",
    "    f = open('data/20newsgroups.pckl', 'wb')\n",
    "    pickle.dump(data, f)\n",
    "    f.close()\n",
    "    \n",
    "D = [doc for doc in data.data]\n",
    "Y = data.target\n",
    "print(\"FInished, {} documents loaded\".format(len(D)))"
   ]
  },
  {
   "cell_type": "markdown",
   "metadata": {},
   "source": [
    "# Preprocess Data"
   ]
  },
  {
   "cell_type": "code",
   "execution_count": 7,
   "metadata": {
    "ExecuteTime": {
     "end_time": "2022-05-30T11:15:57.152786Z",
     "start_time": "2022-05-30T11:14:55.373588Z"
    }
   },
   "outputs": [
    {
     "name": "stderr",
     "output_type": "stream",
     "text": [
      "1653it [26:02,  1.06it/s]"
     ]
    },
    {
     "name": "stdout",
     "output_type": "stream",
     "text": [
      "car alarm thinking ungo box knowledge experience alarms price ranges models good car alarms email responces \n"
     ]
    },
    {
     "name": "stderr",
     "output_type": "stream",
     "text": [
      "\n"
     ]
    }
   ],
   "source": [
    "import taudataNlpTm as tau \n",
    "from tqdm import tqdm\n",
    "\n",
    "stops, lemmatizer = tau.LoadStopWords(lang='en')\n",
    "\n",
    "for i,d in tqdm(enumerate(D)):\n",
    "    D[i] = tau.cleanText(d, lemma=lemmatizer, stops = stops, symbols_remove = True, min_charLen=2)\n",
    "print(D[0])"
   ]
  },
  {
   "cell_type": "markdown",
   "metadata": {},
   "source": [
    "# Add LDA Matrix Decomposition"
   ]
  },
  {
   "cell_type": "code",
   "execution_count": 8,
   "metadata": {
    "ExecuteTime": {
     "end_time": "2022-05-30T11:15:57.248773Z",
     "start_time": "2022-05-30T11:15:57.153778Z"
    }
   },
   "outputs": [
    {
     "data": {
      "text/plain": [
       "(1653, 20193)"
      ]
     },
     "execution_count": 8,
     "metadata": {},
     "output_type": "execute_result"
    }
   ],
   "source": [
    "# Kita mulai dengan membuat VSM-nya\n",
    "# kita gunakan perintah yang ada di Segmen sebelumnya \n",
    "from sklearn.feature_extraction.text import CountVectorizer\n",
    "tf_vectorizer = CountVectorizer()\n",
    "\n",
    "data = D.copy()\n",
    "tf = tf_vectorizer.fit_transform(data)\n",
    "tf_terms = tf_vectorizer.get_feature_names()\n",
    "# Mengapa tf bukan tfidf?\n",
    "# Blei, D. M., Ng, A. Y., & Jordan, M. I. (2003). Latent dirichlet allocation. Journal of machine Learning research, 3(Jan), 993-1022.\n",
    "# Bisa di tamahkan dengan Frequency filtering \"Max_df\" dan \"Min_df\"\n",
    "\n",
    "tf.shape"
   ]
  },
  {
   "cell_type": "code",
   "execution_count": 9,
   "metadata": {
    "ExecuteTime": {
     "end_time": "2022-05-30T11:16:00.785023Z",
     "start_time": "2022-05-30T11:15:57.250773Z"
    }
   },
   "outputs": [
    {
     "data": {
      "text/html": [
       "<style>#sk-container-id-1 {color: black;background-color: white;}#sk-container-id-1 pre{padding: 0;}#sk-container-id-1 div.sk-toggleable {background-color: white;}#sk-container-id-1 label.sk-toggleable__label {cursor: pointer;display: block;width: 100%;margin-bottom: 0;padding: 0.3em;box-sizing: border-box;text-align: center;}#sk-container-id-1 label.sk-toggleable__label-arrow:before {content: \"▸\";float: left;margin-right: 0.25em;color: #696969;}#sk-container-id-1 label.sk-toggleable__label-arrow:hover:before {color: black;}#sk-container-id-1 div.sk-estimator:hover label.sk-toggleable__label-arrow:before {color: black;}#sk-container-id-1 div.sk-toggleable__content {max-height: 0;max-width: 0;overflow: hidden;text-align: left;background-color: #f0f8ff;}#sk-container-id-1 div.sk-toggleable__content pre {margin: 0.2em;color: black;border-radius: 0.25em;background-color: #f0f8ff;}#sk-container-id-1 input.sk-toggleable__control:checked~div.sk-toggleable__content {max-height: 200px;max-width: 100%;overflow: auto;}#sk-container-id-1 input.sk-toggleable__control:checked~label.sk-toggleable__label-arrow:before {content: \"▾\";}#sk-container-id-1 div.sk-estimator input.sk-toggleable__control:checked~label.sk-toggleable__label {background-color: #d4ebff;}#sk-container-id-1 div.sk-label input.sk-toggleable__control:checked~label.sk-toggleable__label {background-color: #d4ebff;}#sk-container-id-1 input.sk-hidden--visually {border: 0;clip: rect(1px 1px 1px 1px);clip: rect(1px, 1px, 1px, 1px);height: 1px;margin: -1px;overflow: hidden;padding: 0;position: absolute;width: 1px;}#sk-container-id-1 div.sk-estimator {font-family: monospace;background-color: #f0f8ff;border: 1px dotted black;border-radius: 0.25em;box-sizing: border-box;margin-bottom: 0.5em;}#sk-container-id-1 div.sk-estimator:hover {background-color: #d4ebff;}#sk-container-id-1 div.sk-parallel-item::after {content: \"\";width: 100%;border-bottom: 1px solid gray;flex-grow: 1;}#sk-container-id-1 div.sk-label:hover label.sk-toggleable__label {background-color: #d4ebff;}#sk-container-id-1 div.sk-serial::before {content: \"\";position: absolute;border-left: 1px solid gray;box-sizing: border-box;top: 0;bottom: 0;left: 50%;z-index: 0;}#sk-container-id-1 div.sk-serial {display: flex;flex-direction: column;align-items: center;background-color: white;padding-right: 0.2em;padding-left: 0.2em;position: relative;}#sk-container-id-1 div.sk-item {position: relative;z-index: 1;}#sk-container-id-1 div.sk-parallel {display: flex;align-items: stretch;justify-content: center;background-color: white;position: relative;}#sk-container-id-1 div.sk-item::before, #sk-container-id-1 div.sk-parallel-item::before {content: \"\";position: absolute;border-left: 1px solid gray;box-sizing: border-box;top: 0;bottom: 0;left: 50%;z-index: -1;}#sk-container-id-1 div.sk-parallel-item {display: flex;flex-direction: column;z-index: 1;position: relative;background-color: white;}#sk-container-id-1 div.sk-parallel-item:first-child::after {align-self: flex-end;width: 50%;}#sk-container-id-1 div.sk-parallel-item:last-child::after {align-self: flex-start;width: 50%;}#sk-container-id-1 div.sk-parallel-item:only-child::after {width: 0;}#sk-container-id-1 div.sk-dashed-wrapped {border: 1px dashed gray;margin: 0 0.4em 0.5em 0.4em;box-sizing: border-box;padding-bottom: 0.4em;background-color: white;}#sk-container-id-1 div.sk-label label {font-family: monospace;font-weight: bold;display: inline-block;line-height: 1.2em;}#sk-container-id-1 div.sk-label-container {text-align: center;}#sk-container-id-1 div.sk-container {/* jupyter's `normalize.less` sets `[hidden] { display: none; }` but bootstrap.min.css set `[hidden] { display: none !important; }` so we also need the `!important` here to be able to override the default hidden behavior on the sphinx rendered scikit-learn.org. See: https://github.com/scikit-learn/scikit-learn/issues/21755 */display: inline-block !important;position: relative;}#sk-container-id-1 div.sk-text-repr-fallback {display: none;}</style><div id=\"sk-container-id-1\" class=\"sk-top-container\"><div class=\"sk-text-repr-fallback\"><pre>LatentDirichletAllocation(n_components=3, random_state=0)</pre><b>In a Jupyter environment, please rerun this cell to show the HTML representation or trust the notebook. <br />On GitHub, the HTML representation is unable to render, please try loading this page with nbviewer.org.</b></div><div class=\"sk-container\" hidden><div class=\"sk-item\"><div class=\"sk-estimator sk-toggleable\"><input class=\"sk-toggleable__control sk-hidden--visually\" id=\"sk-estimator-id-1\" type=\"checkbox\" checked><label for=\"sk-estimator-id-1\" class=\"sk-toggleable__label sk-toggleable__label-arrow\">LatentDirichletAllocation</label><div class=\"sk-toggleable__content\"><pre>LatentDirichletAllocation(n_components=3, random_state=0)</pre></div></div></div></div></div>"
      ],
      "text/plain": [
       "LatentDirichletAllocation(n_components=3, random_state=0)"
      ]
     },
     "execution_count": 9,
     "metadata": {},
     "output_type": "execute_result"
    }
   ],
   "source": [
    "# Dilanjutkan dengan membentuk model LDA-nya\n",
    "from sklearn.decomposition import LatentDirichletAllocation as LDA\n",
    "\n",
    "n_topics = 3 # Misal tidak di optimalkan terlebih dahulu\n",
    "lda = LDA(n_components=n_topics, learning_method='batch', random_state=0).fit(tf)   \n",
    "lda"
   ]
  },
  {
   "cell_type": "code",
   "execution_count": 10,
   "metadata": {
    "ExecuteTime": {
     "end_time": "2022-05-30T11:16:01.008188Z",
     "start_time": "2022-05-30T11:16:00.786010Z"
    }
   },
   "outputs": [
    {
     "name": "stdout",
     "output_type": "stream",
     "text": [
      "(1653, 3)\n"
     ]
    },
    {
     "data": {
      "text/plain": [
       "array([[9.57784377e-01, 2.13871240e-02, 2.08284989e-02],\n",
       "       [6.01967135e-03, 2.68781863e-01, 7.25198465e-01],\n",
       "       [9.93462335e-01, 3.31201805e-03, 3.22564715e-03],\n",
       "       ...,\n",
       "       [3.97632296e-02, 4.11895304e-02, 9.19047240e-01],\n",
       "       [3.71543190e-04, 3.91245794e-04, 9.99237211e-01],\n",
       "       [1.84044707e-03, 1.92806047e-03, 9.96231492e-01]])"
      ]
     },
     "execution_count": 10,
     "metadata": {},
     "output_type": "execute_result"
    }
   ],
   "source": [
    "# Melihat Topik-topiknya\n",
    "vsm_topics = lda.transform(tf)\n",
    "print(vsm_topics.shape)\n",
    "vsm_topics\n",
    "# Ukuran kolom = #Topics ==> Dimension Reduction\n",
    "# Mengapa tidak dibagi Train & Test???"
   ]
  },
  {
   "cell_type": "code",
   "execution_count": 11,
   "metadata": {
    "ExecuteTime": {
     "end_time": "2022-05-30T11:16:01.024186Z",
     "start_time": "2022-05-30T11:16:01.009186Z"
    }
   },
   "outputs": [
    {
     "name": "stderr",
     "output_type": "stream",
     "text": [
      "100%|█████████████████████████████████████████████████████████████████████████| 1653/1653 [00:00<00:00, 1209979.85it/s]\n"
     ]
    },
    {
     "data": {
      "text/plain": [
       "[1, 3, 1, 2, 2, 1, 3, 1, 2, 1]"
      ]
     },
     "execution_count": 11,
     "metadata": {},
     "output_type": "execute_result"
    }
   ],
   "source": [
    "# \"Seandainya\" diasumsikan 1 dokumen hanya 1 topic dengan nilai skor topic terbesar\n",
    "doc_topic =  [a.argmax()+1 for a in tqdm(vsm_topics)] # topic of docs\n",
    "doc_topic[:10]"
   ]
  },
  {
   "cell_type": "code",
   "execution_count": 12,
   "metadata": {
    "ExecuteTime": {
     "end_time": "2022-05-30T11:16:01.119186Z",
     "start_time": "2022-05-30T11:16:01.025186Z"
    }
   },
   "outputs": [
    {
     "data": {
      "image/png": "[encoded data removed]",
      "text/plain": [
       "<Figure size 432x288 with 1 Axes>"
      ]
     },
     "metadata": {
      "needs_background": "light"
     },
     "output_type": "display_data"
    }
   ],
   "source": [
    "# mari kita plot\n",
    "plot = sns.countplot(doc_topic)"
   ]
  },
  {
   "cell_type": "code",
   "execution_count": 13,
   "metadata": {
    "ExecuteTime": {
     "end_time": "2022-05-30T11:16:01.135187Z",
     "start_time": "2022-05-30T11:16:01.121186Z"
    }
   },
   "outputs": [
    {
     "name": "stdout",
     "output_type": "stream",
     "text": [
      "Printing top 3 Topics, with top 25 Words:\n",
      "Topic #1:\n",
      "car com edu cars good time insurance engine years problem speed better health oil drive dealer year price high driving case pain things fact power\n",
      "Topic #2:\n",
      "president stephanopoulos re going government time work jobs good medical question health years package american ms care day support administration year myers program cancer money\n",
      "Topic #3:\n",
      "msg edu time food keyboard health gordon years south banks pitt geb surrender shameful intellect skepticism chastity dsl cadre good work re secret tobacco problem\n"
     ]
    }
   ],
   "source": [
    "# Mari kita coba maknai masing-masing topic ini\n",
    "Top_Words = 25\n",
    "print('Printing top {0} Topics, with top {1} Words:'.format(n_topics, Top_Words))\n",
    "tau.print_Topics(lda, tf_terms, n_topics, Top_Words)"
   ]
  },
  {
   "cell_type": "code",
   "execution_count": 14,
   "metadata": {
    "ExecuteTime": {
     "end_time": "2022-05-30T11:16:04.332507Z",
     "start_time": "2022-05-30T11:16:01.136186Z"
    }
   },
   "outputs": [
    {
     "data": {
      "text/html": [
       "\n",
       "<link rel=\"stylesheet\" type=\"text/css\" href=\"https://cdn.jsdelivr.net/gh/bmabey/pyLDAvis@3.3.1/pyLDAvis/js/ldavis.v1.0.0.css\">\n",
       "\n",
       "\n",
       "<div id=\"ldavis_el2042831125139523366164035026\"></div>\n",
       "<script type=\"text/javascript\">\n",
       "\n",
       "var ldavis_el2042831125139523366164035026_data = {\"mdsDat\": {\"x\": [0.09975139097106246, -0.1174504749352085, 0.017699083964146097], \"y\": [-0.06768258222527511, -0.041091602969306064, 0.10877418519458122], \"topics\": [1, 2, 3], \"cluster\": [1, 1, 1], \"Freq\": [44.01241265041992, 30.76256670790257, 25.22502064167751]}, \"tinfo\": {\"Term\": [\"car\", \"president\", \"stephanopoulos\", \"cars\", \"msg\", \"com\", \"engine\", \"insurance\", \"keyboard\", \"government\", \"jobs\", \"gordon\", \"banks\", \"pitt\", \"geb\", \"shameful\", \"intellect\", \"skepticism\", \"surrender\", \"chastity\", \"dsl\", \"cadre\", \"dealer\", \"package\", \"speed\", \"edu\", \"congress\", \"secret\", \"myers\", \"tobacco\", \"stephanopoulos\", \"candida\", \"senior\", \"vat\", \"president\", \"senate\", \"senator\", \"republicans\", \"billion\", \"stimulus\", \"dole\", \"yeast\", \"mwra\", \"jb\", \"yesterday\", \"laughter\", \"dee\", \"requests\", \"congress\", \"serbs\", \"speech\", \"yeltsin\", \"tomorrow\", \"league\", \"bosnia\", \"briefing\", \"commitment\", \"democracy\", \"methodology\", \"angeles\", \"jobs\", \"package\", \"myers\", \"secretary\", \"ms\", \"vitamin\", \"trial\", \"request\", \"government\", \"clinton\", \"hiv\", \"meeting\", \"cancer\", \"administration\", \"official\", \"house\", \"going\", \"country\", \"re\", \"energy\", \"russia\", \"press\", \"education\", \"question\", \"support\", \"treatment\", \"work\", \"today\", \"medical\", \"tax\", \"working\", \"american\", \"time\", \"water\", \"care\", \"money\", \"good\", \"program\", \"day\", \"health\", \"years\", \"kind\", \"year\", \"long\", \"point\", \"car\", \"dealer\", \"tires\", \"brake\", \"engine\", \"ford\", \"toyota\", \"honda\", \"saturn\", \"rear\", \"abs\", \"tire\", \"sho\", \"auto\", \"sensor\", \"gear\", \"turbo\", \"cars\", \"mustang\", \"braking\", \"polio\", \"clutch\", \"throttle\", \"wagon\", \"german\", \"torque\", \"dodge\", \"steering\", \"suspension\", \"influenza\", \"insurance\", \"chrysler\", \"speed\", \"driving\", \"brakes\", \"com\", \"drivers\", \"miles\", \"drive\", \"driver\", \"manual\", \"wheel\", \"bought\", \"motor\", \"oil\", \"fuel\", \"edu\", \"buy\", \"price\", \"good\", \"better\", \"pain\", \"time\", \"problem\", \"high\", \"safety\", \"years\", \"year\", \"health\", \"power\", \"case\", \"fact\", \"things\", \"thing\", \"number\", \"re\", \"msg\", \"keyboard\", \"pitt\", \"geb\", \"banks\", \"shameful\", \"chastity\", \"intellect\", \"cadre\", \"dsl\", \"skepticism\", \"pc\", \"rsi\", \"smokeless\", \"ships\", \"surrender\", \"argentina\", \"bolshevik\", \"restaurant\", \"glutamate\", \"argentine\", \"bolsheviks\", \"falklands\", \"gr\", \"rockefeller\", \"exercises\", \"tobacco\", \"cartel\", \"needles\", \"hemisphere\", \"gordon\", \"secret\", \"typing\", \"coli\", \"chinese\", \"georgia\", \"south\", \"nuclear\", \"brain\", \"food\", \"homosexual\", \"island\", \"edu\", \"blood\", \"time\", \"health\", \"drug\", \"years\", \"drugs\", \"info\", \"military\", \"problem\", \"patients\", \"good\", \"work\", \"number\", \"re\", \"doctor\"], \"Freq\": [453.0, 380.0, 310.0, 181.0, 118.0, 243.0, 109.0, 113.0, 84.0, 260.0, 164.0, 76.0, 68.0, 65.0, 63.0, 61.0, 61.0, 61.0, 63.0, 61.0, 60.0, 60.0, 68.0, 119.0, 81.0, 370.0, 102.0, 54.0, 110.0, 52.0, 309.61233035317866, 59.46155283603113, 53.18273811677054, 52.28811304304013, 376.52411237024336, 47.80718525074109, 44.21729332444257, 42.433225035667874, 58.32818640996491, 40.64412257481808, 37.05788624914474, 40.535332290642124, 31.678509546230327, 31.674249102041465, 32.54301840665235, 29.885149558158243, 28.988830161823287, 41.27946283501397, 100.94884507560869, 26.299144725557323, 26.29318605958395, 23.60945411652481, 23.601670607397782, 23.600845491744426, 23.597840361001435, 22.712897279513196, 23.57512212877391, 21.793674445689753, 20.916944713542037, 36.55367195958417, 159.20654557481382, 115.87239919225529, 107.01276346713067, 82.40101533829257, 112.11660747213647, 42.41351796005174, 51.54697360236845, 53.2029142025341, 237.97886757324497, 91.6536869465288, 83.5776670473119, 57.67181253353545, 106.86230832083288, 108.24288936000588, 53.09512491406275, 85.71099968014624, 250.6914990521431, 86.93573463150125, 272.2521417925525, 53.62112060112221, 74.70307328755757, 75.94816145540736, 69.59192203155709, 132.95156016906614, 109.25280740114945, 83.75890765396574, 185.78822704312512, 90.79130517579277, 135.31479638328568, 100.33920249422626, 96.19637241711573, 114.85656718505932, 205.49898398200494, 95.1914534051154, 111.43772650915554, 104.10139789266415, 154.42342093733077, 106.97731842797378, 109.54700009638391, 127.78590307114364, 125.16680852971436, 97.38175036206255, 107.40069039882388, 103.75408308184582, 98.15050963000539, 450.6750526720893, 68.40522778892606, 55.63087890466364, 43.71382349429684, 107.50545296320912, 54.52585216127663, 35.183207684866574, 35.17923298918798, 33.49130586090479, 30.92749864874138, 30.089372778526425, 35.01545697399882, 24.123379815335177, 47.39928867245901, 21.572099532497308, 22.39463973951169, 20.71853992318548, 176.67072143451637, 20.709035274051843, 19.8686785531059, 19.018216190475574, 19.01688305417658, 19.014915129685026, 19.010320507074198, 19.006432833088688, 19.002823297706676, 19.821451004038902, 18.151355535395194, 18.14875201725948, 16.462111420775006, 107.78632904248428, 24.59910438095058, 75.45428921121821, 62.45017887902371, 23.66149920834951, 194.4966650417509, 35.489379168126014, 45.15190789917197, 70.43679344316128, 40.49711420166564, 29.157147734031177, 33.80819776327181, 41.22506693742438, 33.468700791116106, 74.06796505275958, 31.516358768163645, 178.40225374009893, 50.16397261762018, 66.83367834077389, 149.11705950194215, 74.50779826422142, 60.26147305398773, 122.57663682696686, 80.62098500410855, 62.61984866264516, 45.14600707391465, 81.57655525565394, 67.94475102261808, 74.50217869714106, 55.99724430261207, 60.85066575169756, 56.84727900060014, 58.90565971075377, 54.01075973173822, 55.70896732446199, 55.328157342877475, 118.3162406768075, 83.64874418882128, 64.66251039284313, 63.01148625576081, 67.90840357145447, 61.3550344938083, 60.53258158889708, 61.35011230301133, 59.709645052004525, 59.70964505200455, 61.34173954261937, 38.23297425635015, 34.118390905293225, 31.64067138522429, 26.690427619261012, 62.102125650524016, 21.73803925071007, 21.73803925071007, 22.488783744980637, 18.428894515454356, 17.6105632518034, 17.6105632518034, 17.6105632518034, 17.610550525089106, 44.029386238087184, 17.597961796727677, 51.181853631572324, 16.78506805193201, 15.951338656259054, 15.134077652059375, 73.23663778927602, 52.13599066793753, 36.49665463495501, 25.043963974599443, 29.154968345175938, 33.66375816375008, 69.49278487845702, 43.20302307659146, 33.41164693189302, 86.17960586243639, 29.75634793257125, 35.78149371215001, 112.45874526738396, 43.65976462929742, 108.84410082497375, 81.71155007483026, 49.49204752336922, 70.66145286927664, 47.554540460987845, 41.386338308720326, 40.884321865626994, 51.05186670000575, 47.29802460999968, 55.0238029201672, 52.652140820245044, 49.25309559297505, 52.309095536133675, 44.85788919680492], \"Total\": [453.0, 380.0, 310.0, 181.0, 118.0, 243.0, 109.0, 113.0, 84.0, 260.0, 164.0, 76.0, 68.0, 65.0, 63.0, 61.0, 61.0, 61.0, 63.0, 61.0, 60.0, 60.0, 68.0, 119.0, 81.0, 370.0, 102.0, 54.0, 110.0, 52.0, 310.17170689020577, 60.03014459609713, 53.75398009704292, 52.85762821234137, 380.68988164113256, 48.3749835492693, 44.78839043297022, 42.99606184520032, 59.114970700500514, 41.20316432852537, 37.61691757619067, 41.194706466970096, 32.23754600694465, 32.2373313362871, 33.132473569039874, 30.44440354925791, 29.54786081958229, 42.0862713732111, 102.95133799456221, 26.858175229948863, 26.857729128639996, 24.16848930022909, 24.16792865080708, 24.16782413211905, 24.167906370721933, 23.271927763434483, 24.166705885957168, 22.373913602616167, 21.47858156249448, 37.57711820294146, 164.60515080909266, 119.85701688363618, 110.87847220311978, 85.78903570058934, 117.889552762719, 43.82008772507508, 53.62531872029785, 55.432341671238156, 260.18412896786066, 97.32641721968618, 89.18557899584822, 60.713771653986974, 116.61942561419787, 118.45984471254658, 56.27718405067985, 95.24097951051382, 320.1601562086254, 97.89862471586282, 379.88939467156365, 57.090977976426736, 84.35215700116339, 86.9850128677463, 78.21085961662436, 173.8073930347894, 137.0537427770395, 99.18597907958808, 287.8277413269114, 113.13357972160458, 196.32002050073294, 130.98529159397876, 125.25038369316965, 163.36036266123165, 436.9197216339455, 130.16673535150562, 171.80540145845998, 157.40632961461742, 358.56428335944014, 168.34773730753585, 178.9189057670817, 283.99963184311497, 277.40481665464495, 139.98153652812718, 208.71379727212917, 195.44895682824153, 176.0282473652254, 453.145372186364, 68.98467836398017, 56.211035604629444, 44.28883377763073, 109.0582108660428, 55.35211103659804, 35.773141992897514, 35.7734860234665, 34.06992412516275, 31.515251487010666, 30.66342157914327, 35.76742943787157, 24.702166673480427, 48.576239424830604, 22.14752591935549, 22.998488040141222, 21.295948806577407, 181.61205657205437, 21.296358763749595, 20.444348769234416, 19.592819091514357, 19.592889949409866, 19.592993752394637, 19.592655608318264, 19.592901453527396, 19.59231781118754, 20.445363810379458, 18.741244729958705, 18.741057123514956, 17.03813128118354, 113.524559007835, 25.557874075040964, 81.91650415379299, 68.96563631950556, 24.722174516447247, 243.4872315243326, 38.44663588283202, 50.20567565061098, 82.1377245284472, 45.11574746682004, 31.460364364940435, 38.21396697603817, 48.74463812769797, 38.55372881709493, 108.96603370014137, 35.89228425309759, 370.90087933811583, 67.67878001694012, 103.73025220997924, 358.56428335944014, 164.73266269008982, 113.11999210637194, 436.9197216339455, 209.21164191089514, 144.70367675935356, 67.7041740206106, 277.40481665464495, 208.71379727212917, 283.99963184311497, 129.9468073911328, 197.69904034341707, 157.11242846623006, 184.42283874070287, 146.98033088575502, 190.06125733874313, 379.88939467156365, 118.90403045804166, 84.23301998181144, 65.24658201758793, 63.59559359837509, 68.55160472880142, 61.94486538379298, 61.11917480547665, 61.94495115835991, 60.293599043344656, 60.29359904334467, 61.94607822198395, 38.83171230441448, 34.703363157755156, 32.22695117619168, 27.27377785535993, 63.67387652768604, 22.320756555323808, 22.320756555323808, 23.148995907413592, 19.0192176965726, 18.193280558013306, 18.193280558013306, 18.193280558013306, 18.193281299901464, 45.50543246559534, 18.193724730427707, 52.9586450867774, 17.367785358556457, 16.542891743094625, 15.716794959650318, 76.10994692420412, 54.664937630057295, 38.98114568905797, 26.5189594563434, 31.544396273014396, 39.10415458234793, 97.62880141177573, 55.43875376396401, 41.032315042830334, 157.81698692739465, 36.5464274056827, 50.44258849642026, 370.90087933811583, 71.43446011902746, 436.9197216339455, 283.99963184311497, 99.12159206434026, 277.40481665464495, 105.20562628157879, 72.0954214934757, 69.94663993956314, 209.21164191089514, 147.1448355433728, 358.56428335944014, 287.8277413269114, 190.06125733874313, 379.88939467156365, 120.140841490956], \"Category\": [\"Default\", \"Default\", \"Default\", \"Default\", \"Default\", \"Default\", \"Default\", \"Default\", \"Default\", \"Default\", \"Default\", \"Default\", \"Default\", \"Default\", \"Default\", \"Default\", \"Default\", \"Default\", \"Default\", \"Default\", \"Default\", \"Default\", \"Default\", \"Default\", \"Default\", \"Default\", \"Default\", \"Default\", \"Default\", \"Default\", \"Topic1\", \"Topic1\", \"Topic1\", \"Topic1\", \"Topic1\", \"Topic1\", \"Topic1\", \"Topic1\", \"Topic1\", \"Topic1\", \"Topic1\", \"Topic1\", \"Topic1\", \"Topic1\", \"Topic1\", \"Topic1\", \"Topic1\", \"Topic1\", \"Topic1\", \"Topic1\", \"Topic1\", \"Topic1\", \"Topic1\", \"Topic1\", \"Topic1\", \"Topic1\", \"Topic1\", \"Topic1\", \"Topic1\", \"Topic1\", \"Topic1\", \"Topic1\", \"Topic1\", \"Topic1\", \"Topic1\", \"Topic1\", \"Topic1\", \"Topic1\", \"Topic1\", \"Topic1\", \"Topic1\", \"Topic1\", \"Topic1\", \"Topic1\", \"Topic1\", \"Topic1\", \"Topic1\", \"Topic1\", \"Topic1\", \"Topic1\", \"Topic1\", \"Topic1\", \"Topic1\", \"Topic1\", \"Topic1\", \"Topic1\", \"Topic1\", \"Topic1\", \"Topic1\", \"Topic1\", \"Topic1\", \"Topic1\", \"Topic1\", \"Topic1\", \"Topic1\", \"Topic1\", \"Topic1\", \"Topic1\", \"Topic1\", \"Topic1\", \"Topic1\", \"Topic1\", \"Topic1\", \"Topic1\", \"Topic1\", \"Topic2\", \"Topic2\", \"Topic2\", \"Topic2\", \"Topic2\", \"Topic2\", \"Topic2\", \"Topic2\", \"Topic2\", \"Topic2\", \"Topic2\", \"Topic2\", \"Topic2\", \"Topic2\", \"Topic2\", \"Topic2\", \"Topic2\", \"Topic2\", \"Topic2\", \"Topic2\", \"Topic2\", \"Topic2\", \"Topic2\", \"Topic2\", \"Topic2\", \"Topic2\", \"Topic2\", \"Topic2\", \"Topic2\", \"Topic2\", \"Topic2\", \"Topic2\", \"Topic2\", \"Topic2\", \"Topic2\", \"Topic2\", \"Topic2\", \"Topic2\", \"Topic2\", \"Topic2\", \"Topic2\", \"Topic2\", \"Topic2\", \"Topic2\", \"Topic2\", \"Topic2\", \"Topic2\", \"Topic2\", \"Topic2\", \"Topic2\", \"Topic2\", \"Topic2\", \"Topic2\", \"Topic2\", \"Topic2\", \"Topic2\", \"Topic2\", \"Topic2\", \"Topic2\", \"Topic2\", \"Topic2\", \"Topic2\", \"Topic2\", \"Topic2\", \"Topic2\", \"Topic2\", \"Topic3\", \"Topic3\", \"Topic3\", \"Topic3\", \"Topic3\", \"Topic3\", \"Topic3\", \"Topic3\", \"Topic3\", \"Topic3\", \"Topic3\", \"Topic3\", \"Topic3\", \"Topic3\", \"Topic3\", \"Topic3\", \"Topic3\", \"Topic3\", \"Topic3\", \"Topic3\", \"Topic3\", \"Topic3\", \"Topic3\", \"Topic3\", \"Topic3\", \"Topic3\", \"Topic3\", \"Topic3\", \"Topic3\", \"Topic3\", \"Topic3\", \"Topic3\", \"Topic3\", \"Topic3\", \"Topic3\", \"Topic3\", \"Topic3\", \"Topic3\", \"Topic3\", \"Topic3\", \"Topic3\", \"Topic3\", \"Topic3\", \"Topic3\", \"Topic3\", \"Topic3\", \"Topic3\", \"Topic3\", \"Topic3\", \"Topic3\", \"Topic3\", \"Topic3\", \"Topic3\", \"Topic3\", \"Topic3\", \"Topic3\", \"Topic3\", \"Topic3\"], \"logprob\": [30.0, 29.0, 28.0, 27.0, 26.0, 25.0, 24.0, 23.0, 22.0, 21.0, 20.0, 19.0, 18.0, 17.0, 16.0, 15.0, 14.0, 13.0, 12.0, 11.0, 10.0, 9.0, 8.0, 7.0, 6.0, 5.0, 4.0, 3.0, 2.0, 1.0, -5.204, -6.854, -6.9656, -6.9826, -5.0084, -7.0722, -7.1502, -7.1914, -6.8733, -7.2345, -7.3269, -7.2372, -7.4837, -7.4839, -7.4568, -7.542, -7.5724, -7.219, -6.3247, -7.6698, -7.6701, -7.7777, -7.778, -7.7781, -7.7782, -7.8164, -7.7792, -7.8577, -7.8988, -7.3406, -5.8692, -6.1869, -6.2664, -6.5278, -6.2198, -7.1919, -6.9969, -6.9652, -5.4672, -6.4213, -6.5136, -6.8846, -6.2678, -6.255, -6.9673, -6.4884, -5.4151, -6.4742, -5.3326, -6.9574, -6.6258, -6.6093, -6.6967, -6.0494, -6.2457, -6.5114, -5.7148, -6.4308, -6.0318, -6.3308, -6.373, -6.1957, -5.6139, -6.3835, -6.2259, -6.294, -5.8997, -6.2667, -6.243, -6.089, -6.1097, -6.3607, -6.2628, -6.2973, -6.3529, -4.4704, -6.3557, -6.5624, -6.8035, -5.9036, -6.5825, -7.0206, -7.0207, -7.0699, -7.1495, -7.177, -7.0254, -7.398, -6.7226, -7.5098, -7.4724, -7.5502, -5.4069, -7.5506, -7.592, -7.6358, -7.6359, -7.636, -7.6362, -7.6364, -7.6366, -7.5944, -7.6824, -7.6826, -7.7801, -5.901, -7.3785, -6.2577, -6.4468, -7.4173, -5.3108, -7.012, -6.7712, -6.3265, -6.88, -7.2085, -7.0605, -6.8621, -7.0706, -6.2762, -7.1307, -5.3971, -6.6659, -6.379, -5.5765, -6.2703, -6.4825, -5.7725, -6.1914, -6.4441, -6.7713, -6.1796, -6.3625, -6.2704, -6.5559, -6.4728, -6.5408, -6.5053, -6.592, -6.561, -6.5679, -5.6094, -5.9561, -6.2135, -6.2394, -6.1646, -6.266, -6.2795, -6.2661, -6.2932, -6.2932, -6.2663, -6.739, -6.8529, -6.9283, -7.0984, -6.2539, -7.3037, -7.3037, -7.2697, -7.4688, -7.5142, -7.5142, -7.5142, -7.5142, -6.5979, -7.5149, -6.4473, -7.5622, -7.6132, -7.6658, -6.089, -6.4289, -6.7855, -7.1621, -7.0101, -6.8663, -6.1415, -6.6168, -6.8738, -5.9263, -6.9897, -6.8053, -5.6601, -6.6063, -5.6928, -5.9795, -6.4809, -6.1248, -6.5208, -6.6598, -6.672, -6.4499, -6.5263, -6.375, -6.419, -6.4858, -6.4256, -6.5792], \"loglift\": [30.0, 29.0, 28.0, 27.0, 26.0, 25.0, 24.0, 23.0, 22.0, 21.0, 20.0, 19.0, 18.0, 17.0, 16.0, 15.0, 14.0, 13.0, 12.0, 11.0, 10.0, 9.0, 8.0, 7.0, 6.0, 5.0, 4.0, 3.0, 2.0, 1.0, 0.8189, 0.8112, 0.81, 0.8099, 0.8097, 0.8089, 0.8079, 0.8075, 0.8073, 0.807, 0.8057, 0.8046, 0.8032, 0.8031, 0.8027, 0.8022, 0.8016, 0.8013, 0.8011, 0.7997, 0.7995, 0.7973, 0.797, 0.797, 0.7968, 0.7964, 0.7959, 0.7944, 0.7942, 0.7931, 0.7874, 0.7869, 0.7852, 0.7804, 0.7705, 0.7881, 0.7812, 0.7796, 0.7315, 0.7606, 0.7558, 0.7693, 0.7333, 0.7305, 0.7625, 0.7153, 0.5761, 0.7019, 0.4875, 0.758, 0.6992, 0.685, 0.7039, 0.5527, 0.594, 0.6516, 0.3829, 0.6007, 0.4486, 0.5542, 0.5568, 0.4684, 0.0664, 0.5078, 0.3878, 0.4072, -0.0217, 0.3673, 0.3301, 0.0221, 0.0249, 0.4578, 0.1563, 0.1874, 0.2366, 1.1734, 1.1704, 1.1685, 1.1658, 1.1645, 1.1638, 1.1622, 1.1621, 1.1617, 1.16, 1.16, 1.1576, 1.1552, 1.1543, 1.1525, 1.1523, 1.1514, 1.1513, 1.1509, 1.1503, 1.1491, 1.149, 1.1489, 1.1487, 1.1485, 1.1483, 1.1479, 1.1469, 1.1468, 1.1445, 1.127, 1.1406, 1.0967, 1.0796, 1.135, 0.9542, 1.0988, 1.0728, 1.0252, 1.0709, 1.1028, 1.0564, 1.0113, 1.0374, 0.7928, 1.0489, 0.447, 0.8794, 0.7393, 0.3015, 0.3855, 0.5491, -0.0921, 0.2253, 0.3413, 0.7736, -0.0451, 0.0566, -0.1593, 0.337, 0.0005, 0.1623, 0.0376, 0.1778, -0.0483, -0.7477, 1.3724, 1.3704, 1.3683, 1.3681, 1.3679, 1.3678, 1.3677, 1.3677, 1.3676, 1.3676, 1.3675, 1.3618, 1.3603, 1.359, 1.3557, 1.3523, 1.3509, 1.3509, 1.3484, 1.3458, 1.3448, 1.3448, 1.3448, 1.3448, 1.3444, 1.344, 1.3432, 1.3432, 1.3409, 1.3396, 1.3389, 1.33, 1.3115, 1.3201, 1.2986, 1.2275, 1.0374, 1.128, 1.1719, 0.7723, 1.1718, 1.0339, 0.184, 0.885, -0.0125, 0.1316, 0.6828, 0.0098, 0.5833, 0.8223, 0.8403, -0.0332, 0.2424, -0.497, -0.3213, 0.027, -0.6054, 0.3922]}, \"token.table\": {\"Topic\": [2, 1, 2, 3, 1, 2, 3, 1, 3, 3, 3, 1, 2, 3, 1, 2, 3, 1, 1, 2, 3, 3, 3, 1, 1, 2, 3, 1, 3, 2, 1, 2, 2, 1, 1, 2, 3, 3, 1, 3, 1, 1, 2, 1, 2, 3, 1, 2, 3, 1, 2, 3, 3, 1, 3, 2, 1, 2, 3, 2, 1, 3, 1, 2, 3, 1, 1, 2, 3, 1, 2, 3, 1, 2, 3, 2, 1, 1, 1, 2, 3, 2, 1, 1, 2, 3, 1, 2, 3, 1, 2, 1, 2, 3, 1, 2, 3, 1, 2, 3, 3, 1, 2, 3, 1, 2, 3, 1, 3, 1, 2, 3, 1, 2, 3, 3, 1, 2, 3, 2, 3, 1, 2, 3, 2, 3, 1, 2, 3, 2, 3, 1, 2, 3, 1, 2, 3, 1, 2, 3, 1, 2, 3, 3, 1, 2, 3, 3, 1, 2, 3, 1, 3, 2, 3, 2, 1, 2, 3, 2, 1, 2, 3, 1, 2, 3, 1, 2, 3, 1, 1, 2, 3, 3, 1, 2, 3, 1, 1, 1, 2, 3, 2, 3, 1, 2, 3, 1, 3, 1, 1, 2, 3, 1, 2, 3, 1, 2, 3, 1, 2, 1, 2, 3, 3, 2, 1, 1, 2, 3, 3, 1, 3, 1, 2, 3, 1, 2, 3, 1, 2, 3, 1, 2, 3, 1, 2, 3, 1, 2, 3, 3, 3, 1, 2, 3, 2, 1, 2, 3, 1, 3, 1, 2, 3, 1, 2, 3, 1, 2, 3, 1, 2, 3, 1, 2, 3, 1, 2, 3, 2, 1, 1, 2, 3, 1, 2, 3, 1, 3, 3, 1, 3, 1, 2, 3, 2, 1, 3, 1, 3, 1, 1, 1, 2, 1, 3, 3, 2, 3, 3, 1, 2, 3, 1, 1, 2, 3, 2, 1, 1, 1, 2, 3, 1, 3, 2, 1, 2, 3, 1, 2, 3, 1, 2, 3, 2, 1, 2, 3, 2, 2, 1, 3, 1, 2, 3, 1, 2, 2, 1, 2, 3, 1, 3, 2, 1, 3, 1, 1, 3, 2, 1, 2, 3, 2, 3, 1, 2, 3, 1, 2, 3, 1, 2, 3, 1, 2, 3, 1, 1, 1], \"Freq\": [0.9783643981989759, 0.9117013470857712, 0.025325037419049203, 0.05909175397778147, 0.7039651365030397, 0.14079302730060794, 0.15303589923979122, 0.9846417652406275, 0.02661193960109804, 0.9856296736838294, 0.9893762668367044, 0.0205861962935079, 0.9675512257948712, 0.9919534381290761, 0.36422649291402215, 0.45528311614252764, 0.18211324645701107, 0.9811389452233785, 0.36396999370720484, 0.02799769182363114, 0.6159492201198851, 0.9856296736838294, 0.9893762668367044, 0.993052506570228, 0.10257538453565564, 0.8411181531923762, 0.041030153814262255, 0.1705972473815641, 0.8042441662273736, 0.9934784063386963, 0.04044951625653791, 0.9707883901569097, 0.9782654476183124, 0.9883152024963852, 0.1773081606523696, 0.7387840027182067, 0.0886540803261848, 0.9951305105682348, 0.917514380099753, 0.0771741067373624, 0.9828395449814707, 0.004413594671286779, 0.9952655983751685, 0.6460798034154832, 0.2211804732413366, 0.12805185292919488, 0.02753121182797826, 0.9746048987104303, 0.9788237042913901, 0.4855865756011829, 0.308549803246585, 0.20738593332967187, 0.9980501241082532, 0.06340270337368797, 0.9193391989184755, 0.9781721252165584, 0.9452726467094403, 0.030824108044873053, 0.030824108044873053, 0.9697395355692424, 0.03770887020081769, 0.9427217550204422, 0.07392584772233197, 0.7967563587851334, 0.12731673774401617, 0.993101836603472, 0.9810460161803309, 0.009713326892874564, 0.009713326892874564, 0.8886743838588687, 0.07150253663232276, 0.040858592361327294, 0.6148036705701689, 0.1844411011710507, 0.20120847400478256, 0.98572612952133, 0.9814585284895072, 0.9832879660993933, 0.5327081049687654, 0.09988276968164352, 0.3745603863061632, 0.9782168801440764, 0.9835999965988402, 0.10957206389231032, 0.852227163606858, 0.024349347531624516, 0.04433041925041543, 0.8866083850083085, 0.06649562887562313, 0.07803023414435127, 0.9103527316840982, 0.028999949927734366, 0.8989984477597653, 0.05799989985546873, 0.38336753081340774, 0.1210634307831814, 0.4943423423646574, 0.37070260763067947, 0.18059870628161306, 0.45624936323775933, 0.9951305105682345, 0.21569104970245012, 0.4799125855879515, 0.3019674695834302, 0.8950163742366146, 0.025571896406760417, 0.08950163742366146, 0.9458587313445038, 0.05254770729691688, 0.009169415049622529, 0.990296825359233, 0.9893521127037985, 0.47736516284655733, 0.3627975237633836, 0.15912172094885244, 0.9893762668367044, 0.3801872103134476, 0.07603744206268952, 0.5449350014492749, 0.9936387062750827, 0.018066158295910593, 0.0835834236362678, 0.8915565187868566, 0.02786114121208927, 0.9565846225022064, 0.9906346719218246, 0.07671819099636627, 0.07671819099636627, 0.8694728312921511, 0.9697389661794755, 0.9464111661776567, 0.7839826259843568, 0.14992496433166982, 0.06871560865201534, 0.42949063012398203, 0.4155461291459307, 0.15338951075856502, 0.02627777420462199, 0.013138887102310995, 0.9591387584687027, 0.9147368094438959, 0.0345908877520801, 0.04996461564189347, 0.9893762264917813, 0.45070480961295345, 0.2640848493825899, 0.2887327686582983, 0.9543930577773303, 0.3593550707524697, 0.4353724895654921, 0.2073202331264248, 0.9418563062074238, 0.05606287536948951, 0.16417473405531957, 0.8208736702765979, 0.9783782317731318, 0.9029726535992451, 0.04199872807438349, 0.06299809211157524, 0.9390701207749219, 0.2774101265474938, 0.1387050632737469, 0.5686907594223624, 0.04404333338705082, 0.9513360011602977, 0.9847453078791816, 0.19824517928356644, 0.09912258964178322, 0.7136826454208391, 0.9926379968052768, 0.9659479014991854, 0.018225432103758217, 0.012150288069172144, 0.9972336266482936, 0.6929485302549834, 0.23574537627231393, 0.0714379928097921, 0.9854027835185248, 0.9930558857428952, 0.5321082378116456, 0.25070484281510225, 0.22000629063366117, 0.9217947911727852, 0.06357205456364036, 0.6876527399277447, 0.11206192798822505, 0.19865523597912624, 0.9553022060719107, 0.04941218307268504, 0.9777181951656356, 0.01991806677315039, 0.8963130047917675, 0.07967226709260156, 0.4003051472407136, 0.014296612401454056, 0.5861611084596163, 0.6607104063389717, 0.285884310435132, 0.05082387741069014, 0.12968914170976306, 0.8559483352844363, 0.9500417753337894, 0.008482515851194548, 0.04241257925597274, 0.9923969738068663, 0.9860840640863896, 0.9926313868030316, 0.9650205118626206, 0.009018883288435706, 0.02705664986530712, 0.9671827784691126, 0.21645508214508555, 0.7756307110198899, 0.4472242328088247, 0.2946418474975786, 0.2578116165603813, 0.9417670925444916, 0.03553838085073553, 0.017769190425367766, 0.21107494894503223, 0.679110705301408, 0.10094888862588498, 0.9678198491509197, 0.01668654912329172, 0.01668654912329172, 0.16796323661456256, 0.5304102208880923, 0.30056579183658566, 0.5232939349563734, 0.15630857797398168, 0.3194131810772669, 0.9785816216937739, 0.99622076728063, 0.5567288288490908, 0.2783644144245454, 0.16474628608799627, 0.9697430426553009, 0.4309455624518966, 0.4309455624518966, 0.13851821650239532, 0.9903073818898845, 0.01050724012615262, 0.873713729462245, 0.02299246656479592, 0.10346609954158165, 0.11568467003925355, 0.6459060743858324, 0.2410097292484449, 0.37282820060855315, 0.3871677467858052, 0.24377228501328477, 0.6355891781576698, 0.10692154398914072, 0.2613637741956773, 0.7652148604137836, 0.12082339901270267, 0.11506990382162159, 0.7159978767903213, 0.14477898243921938, 0.13688194703344378, 0.9836507258327597, 0.9768336493517368, 0.9561205318428716, 0.018040010034771164, 0.018040010034771164, 0.974189412894806, 0.023760717387678196, 0.9503651945851518, 0.021975398228685248, 0.9669175220621509, 0.9797321327458149, 0.8891296045810138, 0.10669555254972166, 0.20678193335226425, 0.6646562143465636, 0.13293124286931274, 0.9685962281209618, 0.0365865230384953, 0.9512495990008778, 0.955833100702829, 0.03496950368424984, 0.9922483994462264, 0.9823974376987243, 0.9859735019494046, 0.9933389435961079, 0.9680478951901418, 0.984746671448249, 0.9899618653194344, 0.9715746929100655, 0.984727391157941, 0.9929577211647824, 0.2151004590482152, 0.07170015301607174, 0.7067586511584214, 0.9680639742648477, 0.06103776096954553, 0.915566414543183, 0.02441510438781821, 0.960448479242481, 0.9994464134336194, 0.9950692056827122, 0.7953084519356933, 0.1021497094229331, 0.09485330160700929, 0.015705027784278063, 0.9737117226252399, 0.9604580937654189, 0.7634444965773308, 0.21376445904165264, 0.022903334897319924, 0.4286287806017302, 0.3673960976586259, 0.20410894314368105, 0.5205429037722127, 0.3199169929433391, 0.1572473355145226, 0.9697343979236372, 0.4691937439522368, 0.28151624637134204, 0.24947374678436005, 0.978543902932566, 0.9962456552817528, 0.018882658315019427, 0.9630155740659907, 0.8043588846382288, 0.07955197760158307, 0.11490841209117554, 0.9930515910886111, 0.9697678540693476, 0.9783876408437644, 0.8468938934665085, 0.03024621048094673, 0.12098484192378692, 0.9696912063352895, 0.03729581562828036, 0.986103046674962, 0.05130685526673479, 0.9235233948012262, 0.9837747503747978, 0.9584645348842243, 0.022820584163910106, 0.9697511342940849, 0.7298331616250461, 0.11523681499342833, 0.15364908665790444, 0.8897270472159953, 0.10467377026070533, 0.646219850604127, 0.17024071333119475, 0.18413791441945554, 0.7664647178660517, 0.10379209721102783, 0.12774411964434196, 0.5126637596482864, 0.3258050061316213, 0.15811125297563972, 0.4506050093413436, 0.2955968861279214, 0.25594364530588315, 0.9952735076016087, 0.9930285547376975, 0.9960017000009422], \"Term\": [\"abs\", \"administration\", \"administration\", \"administration\", \"american\", \"american\", \"american\", \"angeles\", \"angeles\", \"argentina\", \"argentine\", \"auto\", \"auto\", \"banks\", \"better\", \"better\", \"better\", \"billion\", \"blood\", \"blood\", \"blood\", \"bolshevik\", \"bolsheviks\", \"bosnia\", \"bought\", \"bought\", \"bought\", \"brain\", \"brain\", \"brake\", \"brakes\", \"brakes\", \"braking\", \"briefing\", \"buy\", \"buy\", \"buy\", \"cadre\", \"cancer\", \"cancer\", \"candida\", \"car\", \"car\", \"care\", \"care\", \"care\", \"cars\", \"cars\", \"cartel\", \"case\", \"case\", \"case\", \"chastity\", \"chinese\", \"chinese\", \"chrysler\", \"clinton\", \"clinton\", \"clinton\", \"clutch\", \"coli\", \"coli\", \"com\", \"com\", \"com\", \"commitment\", \"congress\", \"congress\", \"congress\", \"country\", \"country\", \"country\", \"day\", \"day\", \"day\", \"dealer\", \"dee\", \"democracy\", \"doctor\", \"doctor\", \"doctor\", \"dodge\", \"dole\", \"drive\", \"drive\", \"drive\", \"driver\", \"driver\", \"driver\", \"drivers\", \"drivers\", \"driving\", \"driving\", \"driving\", \"drug\", \"drug\", \"drug\", \"drugs\", \"drugs\", \"drugs\", \"dsl\", \"edu\", \"edu\", \"edu\", \"education\", \"education\", \"education\", \"energy\", \"energy\", \"engine\", \"engine\", \"exercises\", \"fact\", \"fact\", \"fact\", \"falklands\", \"food\", \"food\", \"food\", \"ford\", \"ford\", \"fuel\", \"fuel\", \"fuel\", \"gear\", \"geb\", \"georgia\", \"georgia\", \"georgia\", \"german\", \"glutamate\", \"going\", \"going\", \"going\", \"good\", \"good\", \"good\", \"gordon\", \"gordon\", \"gordon\", \"government\", \"government\", \"government\", \"gr\", \"health\", \"health\", \"health\", \"hemisphere\", \"high\", \"high\", \"high\", \"hiv\", \"hiv\", \"homosexual\", \"homosexual\", \"honda\", \"house\", \"house\", \"house\", \"influenza\", \"info\", \"info\", \"info\", \"insurance\", \"insurance\", \"intellect\", \"island\", \"island\", \"island\", \"jb\", \"jobs\", \"jobs\", \"jobs\", \"keyboard\", \"kind\", \"kind\", \"kind\", \"laughter\", \"league\", \"long\", \"long\", \"long\", \"manual\", \"manual\", \"medical\", \"medical\", \"medical\", \"meeting\", \"meeting\", \"methodology\", \"miles\", \"miles\", \"miles\", \"military\", \"military\", \"military\", \"money\", \"money\", \"money\", \"motor\", \"motor\", \"ms\", \"ms\", \"ms\", \"msg\", \"mustang\", \"mwra\", \"myers\", \"myers\", \"myers\", \"needles\", \"nuclear\", \"nuclear\", \"number\", \"number\", \"number\", \"official\", \"official\", \"official\", \"oil\", \"oil\", \"oil\", \"package\", \"package\", \"package\", \"pain\", \"pain\", \"pain\", \"patients\", \"patients\", \"patients\", \"pc\", \"pitt\", \"point\", \"point\", \"point\", \"polio\", \"power\", \"power\", \"power\", \"president\", \"president\", \"press\", \"press\", \"press\", \"price\", \"price\", \"price\", \"problem\", \"problem\", \"problem\", \"program\", \"program\", \"program\", \"question\", \"question\", \"question\", \"re\", \"re\", \"re\", \"rear\", \"republicans\", \"request\", \"request\", \"request\", \"requests\", \"requests\", \"restaurant\", \"rockefeller\", \"rockefeller\", \"rsi\", \"russia\", \"russia\", \"safety\", \"safety\", \"safety\", \"saturn\", \"secret\", \"secret\", \"secretary\", \"secretary\", \"senate\", \"senator\", \"senior\", \"sensor\", \"serbs\", \"shameful\", \"ships\", \"sho\", \"skepticism\", \"smokeless\", \"south\", \"south\", \"south\", \"speech\", \"speed\", \"speed\", \"speed\", \"steering\", \"stephanopoulos\", \"stimulus\", \"support\", \"support\", \"support\", \"surrender\", \"surrender\", \"suspension\", \"tax\", \"tax\", \"tax\", \"thing\", \"thing\", \"thing\", \"things\", \"things\", \"things\", \"throttle\", \"time\", \"time\", \"time\", \"tire\", \"tires\", \"tobacco\", \"tobacco\", \"today\", \"today\", \"today\", \"tomorrow\", \"torque\", \"toyota\", \"treatment\", \"treatment\", \"treatment\", \"trial\", \"trial\", \"turbo\", \"typing\", \"typing\", \"vat\", \"vitamin\", \"vitamin\", \"wagon\", \"water\", \"water\", \"water\", \"wheel\", \"wheel\", \"work\", \"work\", \"work\", \"working\", \"working\", \"working\", \"year\", \"year\", \"year\", \"years\", \"years\", \"years\", \"yeast\", \"yeltsin\", \"yesterday\"]}, \"R\": 30, \"lambda.step\": 0.01, \"plot.opts\": {\"xlab\": \"PC1\", \"ylab\": \"PC2\"}, \"topic.order\": [2, 1, 3]};\n",
       "\n",
       "function LDAvis_load_lib(url, callback){\n",
       "  var s = document.createElement('script');\n",
       "  s.src = url;\n",
       "  s.async = true;\n",
       "  s.onreadystatechange = s.onload = callback;\n",
       "  s.onerror = function(){console.warn(\"failed to load library \" + url);};\n",
       "  document.getElementsByTagName(\"head\")[0].appendChild(s);\n",
       "}\n",
       "\n",
       "if(typeof(LDAvis) !== \"undefined\"){\n",
       "   // already loaded: just create the visualization\n",
       "   !function(LDAvis){\n",
       "       new LDAvis(\"#\" + \"ldavis_el2042831125139523366164035026\", ldavis_el2042831125139523366164035026_data);\n",
       "   }(LDAvis);\n",
       "}else if(typeof define === \"function\" && define.amd){\n",
       "   // require.js is available: use it to load d3/LDAvis\n",
       "   require.config({paths: {d3: \"https://d3js.org/d3.v5\"}});\n",
       "   require([\"d3\"], function(d3){\n",
       "      window.d3 = d3;\n",
       "      LDAvis_load_lib(\"https://cdn.jsdelivr.net/gh/bmabey/pyLDAvis@3.3.1/pyLDAvis/js/ldavis.v3.0.0.js\", function(){\n",
       "        new LDAvis(\"#\" + \"ldavis_el2042831125139523366164035026\", ldavis_el2042831125139523366164035026_data);\n",
       "      });\n",
       "    });\n",
       "}else{\n",
       "    // require.js not available: dynamically load d3 & LDAvis\n",
       "    LDAvis_load_lib(\"https://d3js.org/d3.v5.js\", function(){\n",
       "         LDAvis_load_lib(\"https://cdn.jsdelivr.net/gh/bmabey/pyLDAvis@3.3.1/pyLDAvis/js/ldavis.v3.0.0.js\", function(){\n",
       "                 new LDAvis(\"#\" + \"ldavis_el2042831125139523366164035026\", ldavis_el2042831125139523366164035026_data);\n",
       "            })\n",
       "         });\n",
       "}\n",
       "</script>"
      ],
      "text/plain": [
       "PreparedData(topic_coordinates=              x         y  topics  cluster       Freq\n",
       "topic                                                \n",
       "1      0.099751 -0.067683       1        1  44.012413\n",
       "0     -0.117450 -0.041092       2        1  30.762567\n",
       "2      0.017699  0.108774       3        1  25.225021, topic_info=                 Term        Freq       Total Category  logprob  loglift\n",
       "2536              car  453.000000  453.000000  Default  30.0000  30.0000\n",
       "13872       president  380.000000  380.000000  Default  29.0000  29.0000\n",
       "17153  stephanopoulos  310.000000  310.000000  Default  28.0000  28.0000\n",
       "2606             cars  181.000000  181.000000  Default  27.0000  27.0000\n",
       "11646             msg  118.000000  118.000000  Default  26.0000  26.0000\n",
       "...               ...         ...         ...      ...      ...      ...\n",
       "7567             good   55.023803  358.564283   Topic3  -6.3750  -0.4970\n",
       "19956            work   52.652141  287.827741   Topic3  -6.4190  -0.3213\n",
       "12229          number   49.253096  190.061257   Topic3  -6.4858   0.0270\n",
       "14585              re   52.309096  379.889395   Topic3  -6.4256  -0.6054\n",
       "5270           doctor   44.857889  120.140841   Topic3  -6.5792   0.3922\n",
       "\n",
       "[229 rows x 6 columns], token_table=       Topic      Freq            Term\n",
       "term                                  \n",
       "55         2  0.978364             abs\n",
       "307        1  0.911701  administration\n",
       "307        2  0.025325  administration\n",
       "307        3  0.059092  administration\n",
       "672        1  0.703965        american\n",
       "...      ...       ...             ...\n",
       "20108      2  0.295597           years\n",
       "20108      3  0.255944           years\n",
       "20109      1  0.995274           yeast\n",
       "20118      1  0.993029         yeltsin\n",
       "20123      1  0.996002       yesterday\n",
       "\n",
       "[362 rows x 3 columns], R=30, lambda_step=0.01, plot_opts={'xlab': 'PC1', 'ylab': 'PC2'}, topic_order=[2, 1, 3])"
      ]
     },
     "execution_count": 14,
     "metadata": {},
     "output_type": "execute_result"
    }
   ],
   "source": [
    "# %matplotlib inline\n",
    "# Mari kita Plot, supaya lebih jelas\n",
    "# Catatan, bergantung dari laptop yang digunakan, image terkadang cukup lama untuk muncul.\n",
    "import pyLDAvis, pyLDAvis.sklearn; pyLDAvis.enable_notebook()\n",
    "\n",
    "pyLDAvis.sklearn.prepare(lda, tf, tf_vectorizer)  "
   ]
  },
  {
   "cell_type": "markdown",
   "metadata": {},
   "source": [
    "# Bagaimana jika kita ingin menggunakan semi-supervised (guided) LDA?\n",
    "https://medium.freecodecamp.org/how-we-changed-unsupervised-lda-to-semi-supervised-guidedlda-e36a95f3a164 "
   ]
  },
  {
   "cell_type": "markdown",
   "metadata": {},
   "source": [
    "# Bagaimana melakukan Post-Tag sebelum Topic Modelling & Bahasa Indonesia?"
   ]
  },
  {
   "cell_type": "code",
   "execution_count": 15,
   "metadata": {
    "ExecuteTime": {
     "end_time": "2022-05-30T11:16:04.348506Z",
     "start_time": "2022-05-30T11:16:04.333507Z"
    }
   },
   "outputs": [
    {
     "name": "stdout",
     "output_type": "stream",
     "text": [
      "Kolom di data:  Index(['Id', 'Sentiment', 'Text Tweet'], dtype='object')\n"
     ]
    },
    {
     "data": {
      "text/plain": [
       "array(['Jelek filmnya... apalagi si ernest gak mutu bgt actingnya... film sampah',\n",
       "       'Film king Arthur ini film paling jelek dari seluruh cerita King Arthur ',\n",
       "       '@beexkuanlin Sepanjang film gwa berkata kasar terus pada bapaknya',\n",
       "       'Ane ga suka fast and furious..menurutku kok jelek ya tu film',\n",
       "       '@baekhyun36 kan gua ga tau film nya, lu bilang perang perangan/? Perang\"an disebut ama rp yaoi jadi ambigu :v'],\n",
       "      dtype=object)"
      ]
     },
     "execution_count": 15,
     "metadata": {},
     "output_type": "execute_result"
    }
   ],
   "source": [
    "# Sumber Data:\n",
    "# https://github.com/rizalespe/Dataset-Sentimen-Analisis-Bahasa-Indonesia/blob/master/dataset_tweet_sentiment_opini_film.csv\n",
    "\n",
    "url_ = 'https://raw.githubusercontent.com/rizalespe/Dataset-Sentimen-Analisis-Bahasa-Indonesia/master/dataset_tweet_sentiment_opini_film.csv'\n",
    "file_ = 'data/dataset_tweet_sentiment_opini_film.csv'\n",
    "\n",
    "try: # Running Locally\n",
    "    data = pd.read_csv(file_)\n",
    "except: # Running in Google Colab\n",
    "    !mkdir data\n",
    "    !wget -P data/ {url_}\n",
    "    data = pd.read_csv(file_)\n",
    "    data.to_csv(file_, encoding='utf-8', index=False)\n",
    "\n",
    "col = data.columns\n",
    "print(\"Kolom di data: \", col)\n",
    "data = data[col[-1]].values\n",
    "data[:5]"
   ]
  },
  {
   "cell_type": "markdown",
   "metadata": {},
   "source": [
    "# Preprocessing Bahasa Indonesia"
   ]
  },
  {
   "cell_type": "code",
   "execution_count": 16,
   "metadata": {
    "ExecuteTime": {
     "end_time": "2022-05-30T11:16:34.934141Z",
     "start_time": "2022-05-30T11:16:04.349506Z"
    }
   },
   "outputs": [
    {
     "name": "stderr",
     "output_type": "stream",
     "text": [
      "200it [00:24,  8.30it/s]"
     ]
    },
    {
     "name": "stdout",
     "output_type": "stream",
     "text": [
      "jelek film si ernest gak mutu bgt actingnya film sampah\n"
     ]
    },
    {
     "name": "stderr",
     "output_type": "stream",
     "text": [
      "\n"
     ]
    }
   ],
   "source": [
    "stopID, _ = tau.LoadStopWords(lang='id')\n",
    "stopID.add('rt'); stopID.add('..')\n",
    "\n",
    "for i,d in tqdm(enumerate(data)):\n",
    "    data[i] = tau.cleanText(d, lan='id', lemma=True, stops=stopID, symbols_remove = True, min_charLen = 2)\n",
    "    \n",
    "print(data[0])"
   ]
  },
  {
   "cell_type": "code",
   "execution_count": 17,
   "metadata": {
    "ExecuteTime": {
     "end_time": "2022-05-30T11:16:36.983331Z",
     "start_time": "2022-05-30T11:16:34.935141Z"
    }
   },
   "outputs": [],
   "source": [
    "from spacy.lang.id import Indonesian\n",
    "from nltk.tag import CRFTagger\n",
    "nlp_id = Indonesian()  # Language Model\n",
    "ct = CRFTagger()\n",
    "ct.set_model_file('data/all_indo_man_tag_corpus_model.crf.tagger')\n",
    "\n",
    "def NLPfilter(t, filters):\n",
    "    tokens = nlp_id(t)\n",
    "    tokens = [str(k) for k in tokens if len(k)>2]\n",
    "    hasil = ct.tag_sents([tokens])\n",
    "    return [k[0] for k in hasil[0] if k[1] in filters]"
   ]
  },
  {
   "cell_type": "code",
   "execution_count": 18,
   "metadata": {
    "ExecuteTime": {
     "end_time": "2022-05-30T11:16:36.998600Z",
     "start_time": "2022-05-30T11:16:36.983331Z"
    }
   },
   "outputs": [
    {
     "data": {
      "text/plain": [
       "['jelek', 'film', 'actingnya', 'film', 'sampah']"
      ]
     },
     "execution_count": 18,
     "metadata": {},
     "output_type": "execute_result"
    }
   ],
   "source": [
    "filters = set(['NN', 'NNP', 'NNS', 'NNPS', 'JJ'])\n",
    "NLPfilter(data[0], filters)"
   ]
  },
  {
   "cell_type": "code",
   "execution_count": 19,
   "metadata": {
    "ExecuteTime": {
     "end_time": "2022-05-30T11:16:37.061600Z",
     "start_time": "2022-05-30T11:16:36.999601Z"
    }
   },
   "outputs": [
    {
     "name": "stderr",
     "output_type": "stream",
     "text": [
      "200it [00:00, 5825.62it/s]\n"
     ]
    },
    {
     "data": {
      "text/plain": [
       "'jelek film actingnya film sampah'"
      ]
     },
     "execution_count": 19,
     "metadata": {},
     "output_type": "execute_result"
    }
   ],
   "source": [
    "data_postTag = []\n",
    "for i, d in tqdm(enumerate(data)):\n",
    "    data_postTag.append(NLPfilter(d,filters))\n",
    "\n",
    "' '.join(data_postTag[0])"
   ]
  },
  {
   "cell_type": "code",
   "execution_count": 20,
   "metadata": {
    "ExecuteTime": {
     "end_time": "2022-05-30T11:19:06.835068Z",
     "start_time": "2022-05-30T11:19:06.831082Z"
    }
   },
   "outputs": [
    {
     "name": "stdout",
     "output_type": "stream",
     "text": [
      "[['jelek', 'film', 'actingnya', 'film', 'sampah'], ['film', 'king', 'arthur', 'film', 'jelek', 'cerita'], ['film', 'gwa', 'kasar']]\n"
     ]
    }
   ],
   "source": [
    "data = [d for d in data_postTag if d]\n",
    "print(data[:3])"
   ]
  },
  {
   "cell_type": "markdown",
   "metadata": {},
   "source": [
    "# Evaluasi: Bagaimana mendapatkan parameter Optimal Topic Modelling?\n",
    "\n",
    "**Beberapa catatan penting**:\n",
    "1. Hati-hati Struktur Data, untuk melakukan evaluasi Topic Modelling struktur data yang digunakan mirip dengan Word Embedding.\n",
    "2. Kita akan melakukan cross-validasi dan N-Gram\n",
    "3. Ada berbagai metric evaluasi https://radimrehurek.com/gensim/models/coherencemodel.html\n",
    "4. Referensi paper: http://svn.aksw.org/papers/2015/WSDM_Topic_Evaluation/public.pdf"
   ]
  },
  {
   "cell_type": "code",
   "execution_count": 21,
   "metadata": {
    "ExecuteTime": {
     "end_time": "2022-05-30T11:19:15.164634Z",
     "start_time": "2022-05-30T11:19:15.149633Z"
    }
   },
   "outputs": [
    {
     "name": "stdout",
     "output_type": "stream",
     "text": [
      "Number of unique tokens: 124\n",
      "Number of documents: 182\n",
      "[[(0, 2), (1, 1)]]\n"
     ]
    }
   ],
   "source": [
    "bigram_t = Phrases(data, min_count=5)\n",
    "trigram_t = Phrases(bigram_t[data], min_count=5)\n",
    "for idx, d in enumerate(data):\n",
    "    for token in bigram_t[d]:\n",
    "        if '_' in token:# Token is a bigram, add to document.\n",
    "            data[idx].append(token)\n",
    "    for token in trigram_t[d]:\n",
    "        if '_' in token:# Token is a bigram, add to document.\n",
    "            data[idx].append(token)\n",
    "\n",
    "# Create a dictionary representation of the documents.\n",
    "# Remove rare & common tokens\n",
    "dictionary_t = Dictionary(data)\n",
    "dictionary_t.filter_extremes(no_below=2, no_above=0.90)\n",
    "#Create dictionary and corpus required for Topic Modeling\n",
    "corpus_t = [dictionary_t.doc2bow(doc) for doc in data]\n",
    "corpus_t = [t for t in corpus_t if t] # remove empty corpus\n",
    "print('Number of unique tokens: %d' % len(dictionary_t))\n",
    "print('Number of documents: %d' % len(corpus_t))\n",
    "print(corpus_t[:1])"
   ]
  },
  {
   "cell_type": "code",
   "execution_count": 22,
   "metadata": {
    "ExecuteTime": {
     "end_time": "2022-05-30T11:19:18.512578Z",
     "start_time": "2022-05-30T11:19:18.495900Z"
    }
   },
   "outputs": [
    {
     "data": {
      "text/plain": [
       "<gensim.corpora.dictionary.Dictionary at 0x2d4b84224f0>"
      ]
     },
     "execution_count": 22,
     "metadata": {},
     "output_type": "execute_result"
    }
   ],
   "source": [
    "import gensim.corpora as corpora\n",
    "\n",
    "id2word = corpora.Dictionary(data)\n",
    "id2word"
   ]
  },
  {
   "cell_type": "code",
   "execution_count": 23,
   "metadata": {
    "ExecuteTime": {
     "end_time": "2022-05-30T11:19:26.239853Z",
     "start_time": "2022-05-30T11:19:26.223168Z"
    }
   },
   "outputs": [],
   "source": [
    "from gensim.models.ldamulticore import LdaMulticore\n",
    "from gensim.models.coherencemodel import CoherenceModel\n",
    "\n",
    "def compute_coherence_values(id2word, corpus, texts, limit=1, start=2, step=1):\n",
    "    coherence_values = []\n",
    "    for num_topics in range(start, limit, step):\n",
    "        LDAmodel_ = LdaMulticore(corpus=corpus, id2word=id2word, num_topics=num_topics)\n",
    "        cm = CoherenceModel(model=LDAmodel_, texts=texts, corpus=corpus, coherence='c_v')\n",
    "        with np.errstate(invalid='ignore'):\n",
    "            coherence_values.append(cm.get_coherence())\n",
    "    return coherence_values"
   ]
  },
  {
   "cell_type": "markdown",
   "metadata": {},
   "source": [
    "# Caution cell berikut ini membutuhkan waktu yang cukup signifikan untuk selesai, karena selain LDA *computationally expensive* loopingnya juga melakukan Cross-validasi di setiap jumlah topik *k*"
   ]
  },
  {
   "cell_type": "code",
   "execution_count": 25,
   "metadata": {
    "ExecuteTime": {
     "end_time": "2022-05-30T11:22:43.248385Z",
     "start_time": "2022-05-30T11:20:12.221552Z"
    }
   },
   "outputs": [
    {
     "name": "stdout",
     "output_type": "stream",
     "text": [
      "iterasi ke:  1, 2, 3, 4, 5, "
     ]
    },
    {
     "data": {
      "text/plain": [
       "'Done'"
      ]
     },
     "execution_count": 25,
     "metadata": {},
     "output_type": "execute_result"
    }
   ],
   "source": [
    "start, step, limit = 2, 1, 10 # Ganti dengan berapa banyak Topic yang ingin di hitung/explore\n",
    "coh_t, kCV = [], 5 # hati-hati sangat LAMBAT karena cross validasi pada metode yang memang tidak efisien (LDA)\n",
    "\n",
    "print('iterasi ke: ', end = ' ')\n",
    "for i in range(kCV):\n",
    "    print(i+1, end = ', ', flush=True)\n",
    "    c = compute_coherence_values(id2word, corpus_t, data, limit=limit, start=start, step=step)\n",
    "    coh_t.append(c)\n",
    "    \n",
    "coherence_t = np.mean(np.array(coh_t), axis=0)\n",
    "'Done'"
   ]
  },
  {
   "cell_type": "code",
   "execution_count": 26,
   "metadata": {
    "ExecuteTime": {
     "end_time": "2022-05-30T11:22:43.373378Z",
     "start_time": "2022-05-30T11:22:43.248385Z"
    }
   },
   "outputs": [
    {
     "data": {
      "image/png": "[encoded data removed]",
      "text/plain": [
       "<Figure size 864x720 with 1 Axes>"
      ]
     },
     "metadata": {
      "needs_background": "light"
     },
     "output_type": "display_data"
    }
   ],
   "source": [
    "# Show graph\n",
    "x = range(start, limit, step)\n",
    "plt.figure(figsize=(12,10))\n",
    "for c in coh_t:\n",
    "    plt.plot(x, c, '--', color = 'lawngreen', linewidth = 2)\n",
    "plt.plot(x, coherence_t, '-', color = 'black', linewidth = 5)\n",
    "plt.xlabel(\"Num Topics\")\n",
    "plt.ylabel(\"Coherence score\")\n",
    "plt.legend((\"coherence_values\"), loc='best')\n",
    "plt.show()"
   ]
  },
  {
   "cell_type": "markdown",
   "metadata": {},
   "source": [
    "# Referensi Pilihan:\n",
    "\n",
    "* perhitungan Manual Topic Modelling LDA: http://brooksandrew.github.io/simpleblog/articles/latent-dirichlet-allocation-under-the-hood/\n",
    "* http://mimno.infosci.cornell.edu/slides/details.pdf\n",
    "* https://datascienceplus.com/evaluation-of-topic-modeling-topic-coherence/\n",
    "* http://www.umiacs.umd.edu/~jbg/docs/nips2009-rtl.pdf\n",
    "* http://radimrehurek.com/topic_modeling_tutorial/2%20-%20Topic%20Modeling.html\n",
    "* Penjelasan intuitif yang baik: https://medium.com/@lettier/how-does-lda-work-ill-explain-using-emoji-108abf40fa7d \n",
    "* in conjunction dengan interactive program berikut: https://lettier.com/projects/lda-topic-modeling/ "
   ]
  },
  {
   "cell_type": "code",
   "execution_count": 27,
   "metadata": {
    "ExecuteTime": {
     "end_time": "2022-05-30T11:22:43.529626Z",
     "start_time": "2022-05-30T11:22:43.373378Z"
    }
   },
   "outputs": [
    {
     "name": "stdout",
     "output_type": "stream",
     "text": [
      "\n",
      "Topics in NMF model:\n",
      "Topic #1:\n",
      "geb cadre dsl pitt chastity shameful intellect skepticism banks surrender gordon edu lyme blood weight medical migraine patients good pressure meant wanted reflex dystrophy brain\n",
      "Topic #2:\n",
      "msg government time food re health president good years work going case doctor care jobs question things fact medical tax drugs problem disease point evidence\n",
      "Topic #3:\n",
      "car cars dealer engine good price buy speed drive saturn ford miles driving bought oil models tires time honda year insurance small parts power auto\n"
     ]
    }
   ],
   "source": [
    "# Langsung Aplikasi-nya\n",
    "# Perhatikan NMF bisa menggunakan Float\n",
    "from sklearn.decomposition import NMF\n",
    "from sklearn.feature_extraction.text import TfidfVectorizer\n",
    "\n",
    "data = D.copy()\n",
    "\n",
    "tfidf_vectorizer = TfidfVectorizer()\n",
    "tfidf = tfidf_vectorizer.fit_transform(data)\n",
    "nmf_model = NMF(n_components = 3, random_state=0)\n",
    "nmf = nmf_model.fit(tfidf)\n",
    "\n",
    "print(\"\\nTopics in NMF model:\")\n",
    "tfidf_feature_names = tfidf_vectorizer.get_feature_names()\n",
    "tau.print_Topics(nmf, tfidf_feature_names, n_topics, Top_Words)"
   ]
  },
  {
   "cell_type": "code",
   "execution_count": 28,
   "metadata": {
    "ExecuteTime": {
     "end_time": "2022-05-30T11:22:43.545265Z",
     "start_time": "2022-05-30T11:22:43.529626Z"
    }
   },
   "outputs": [
    {
     "data": {
      "text/plain": [
       "array([[0.00000000e+00, 0.00000000e+00, 1.63448478e-01],\n",
       "       [5.12942523e-03, 6.71426004e-02, 3.90128123e-03],\n",
       "       [0.00000000e+00, 4.14800087e-03, 8.17626429e-02],\n",
       "       [5.42848147e-03, 1.14312897e-01, 0.00000000e+00],\n",
       "       [0.00000000e+00, 5.45251261e-02, 9.68465028e-03],\n",
       "       [0.00000000e+00, 1.21456062e-02, 4.63421722e-02],\n",
       "       [8.26350147e-05, 2.27790801e-02, 6.50534348e-03],\n",
       "       [0.00000000e+00, 0.00000000e+00, 5.42510101e-02],\n",
       "       [0.00000000e+00, 6.31410929e-02, 6.97582495e-03],\n",
       "       [1.81933383e-04, 5.15515346e-02, 1.48842001e-02]])"
      ]
     },
     "execution_count": 28,
     "metadata": {},
     "output_type": "execute_result"
    }
   ],
   "source": [
    "# Sama seperti LDA kita bisa melihat distribusi topic setiap dokumen\n",
    "vsm_topics = nmf.transform(tfidf)\n",
    "vsm_topics[:10]"
   ]
  },
  {
   "cell_type": "code",
   "execution_count": 29,
   "metadata": {
    "ExecuteTime": {
     "end_time": "2022-05-30T11:22:43.607750Z",
     "start_time": "2022-05-30T11:22:43.545265Z"
    }
   },
   "outputs": [
    {
     "name": "stderr",
     "output_type": "stream",
     "text": [
      "100%|██████████████████████████████████████████████████████████████████████████| 1653/1653 [00:00<00:00, 425348.74it/s]"
     ]
    },
    {
     "name": "stdout",
     "output_type": "stream",
     "text": [
      "In total there are 3 major topics, distributed as follows\n"
     ]
    },
    {
     "name": "stderr",
     "output_type": "stream",
     "text": [
      "\n"
     ]
    },
    {
     "data": {
      "image/png": "[encoded data removed]",
      "text/plain": [
       "<Figure size 432x288 with 1 Axes>"
      ]
     },
     "metadata": {
      "needs_background": "light"
     },
     "output_type": "display_data"
    }
   ],
   "source": [
    "# Seandainya diasumsikan 1 dokumen hanya 1 topic dengan nilai skor topic terbesar\n",
    "doc_topic =  [a.argmax()+1 for a in tqdm(vsm_topics)] # topic of docs\n",
    "print('In total there are {0} major topics, distributed as follows'.format(len(set(doc_topic))))\n",
    "sns.countplot(doc_topic)\n",
    "plt.show()"
   ]
  },
  {
   "cell_type": "markdown",
   "metadata": {},
   "source": [
    "# Latihan :\n",
    "\n",
    "* Load data data tweet dengan isu berbeda.\n",
    "* Lakukan preprocessing (termasuk lemma) dan pos tag (ambil hanya noun saja)\n",
    "* Bandingkan hasil topic dari LDA, dan NMF dari data tersebut.\n",
    "* Apakah hasilnya sudah baik?\n",
    "* Buat visualisasi pyLDAvis-nya dan analisa lebih lanjut."
   ]
  },
  {
   "cell_type": "markdown",
   "metadata": {},
   "source": [
    "# End of Module\n",
    "\n",
    "<hr />"
   ]
  }
 ],
 "metadata": {
  "celltoolbar": "Slideshow",
  "hide_input": false,
  "kernelspec": {
   "display_name": "Python 3 (ipykernel)",
   "language": "python",
   "name": "python3"
  },
  "language_info": {
   "codemirror_mode": {
    "name": "ipython",
    "version": 3
   },
   "file_extension": ".py",
   "mimetype": "text/x-python",
   "name": "python",
   "nbconvert_exporter": "python",
   "pygments_lexer": "ipython3",
   "version": "3.9.12"
  },
  "latex_envs": {
   "LaTeX_envs_menu_present": true,
   "autoclose": false,
   "autocomplete": true,
   "bibliofile": "biblio.bib",
   "cite_by": "apalike",
   "current_citInitial": 1,
   "eqLabelWithNumbers": true,
   "eqNumInitial": 1,
   "hotkeys": {
    "equation": "Ctrl-E",
    "itemize": "Ctrl-I"
   },
   "labels_anchors": false,
   "latex_user_defs": false,
   "report_style_numbering": false,
   "user_envs_cfg": false
  }
 },
 "nbformat": 4,
 "nbformat_minor": 2
}
