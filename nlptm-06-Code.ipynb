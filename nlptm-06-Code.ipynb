{
 "cells": [
  {
   "cell_type": "markdown",
   "metadata": {
    "slideshow": {
     "slide_type": "slide"
    }
   },
   "source": [
    "<center><h2><strong><font color=\"blue\">Natural Language Processing dan Text Mining (NLPTM)</font></strong></h2></center>\n",
    "<center><h2><strong><font color=\"blue\">Social Media Analytics (SMA)</font></strong></h2></center>\n",
    "\n",
    "<center><h3><strong><font color=\"blue\"><a href=\"https://taudata.blogspot.com\">https://taudata.blogspot.com</a></font></strong></h3></center>\n",
    "\n",
    "<img alt=\"\" src=\"images/covers/taudata-cover.jpg\"/>\n",
    "\n",
    "<center><h2><strong><font color=\"blue\">NLPTM-06: Pendahuluan Sentimen Analysis</font></strong></h2></center>\n",
    "<center><h3><strong><font color=\"blue\"><a href=\"https://taudata.blogspot.com/2022/05/nlptm-06.html\">https://taudata.blogspot.com/2022/05/nlptm-06.html</a></font></strong></h3></center>\n",
    "<b><center><h3>(C) Taufik Sutanto ~ taudata Analytics</h3></center>"
   ]
  },
  {
   "cell_type": "markdown",
   "metadata": {
    "slideshow": {
     "slide_type": "slide"
    }
   },
   "source": [
    "## <font color=\"blue\">Outline :</font>\n",
    "\n",
    "* Corpus-Based Sentiment Analysis\n",
    "* Metode Supervised untuk Sentiment Analysis "
   ]
  },
  {
   "cell_type": "code",
   "execution_count": 1,
   "metadata": {
    "ExecuteTime": {
     "end_time": "2022-05-29T11:29:06.064890Z",
     "start_time": "2022-05-29T11:29:02.972225Z"
    }
   },
   "outputs": [
    {
     "name": "stdout",
     "output_type": "stream",
     "text": [
      "Running the code locally, please make sure all the python module versions agree with colab environment and all data/assets downloaded\n"
     ]
    }
   ],
   "source": [
    "# Jalankan Cell ini \"HANYA\" jika anda menggunakan Google Colab\n",
    "# Jika di jalankan di komputer local, silahkan lihat NLPTM-02 untuk instalasinya.\n",
    "import warnings; warnings.simplefilter('ignore')\n",
    "import nltk\n",
    "\n",
    "try:\n",
    "    import google.colab; IN_COLAB = True\n",
    "    !wget https://raw.githubusercontent.com/taudata-indonesia/eLearning/master/taudataNlpTm.py\n",
    "    !mkdir data\n",
    "    !wget -P data/ https://raw.githubusercontent.com/taudata-indonesia/eLearning/master/data/slang.txt\n",
    "    !wget -P data/ https://raw.githubusercontent.com/taudata-indonesia/eLearning/master/data/stopwords_id.txt\n",
    "    !wget -P data/ https://raw.githubusercontent.com/taudata-indonesia/eLearning/master/data/stopwords_en.txt\n",
    "    !wget -P data/ https://raw.githubusercontent.com/taudata-indonesia/eLearning/master/data/kata_dasar.txt\n",
    "    !wget -P data/ https://raw.githubusercontent.com/taudata-indonesia/eLearning/master/data/wn-ind-def.tab\n",
    "    !wget -P data/ https://raw.githubusercontent.com/taudata-indonesia/eLearning/master/data/wn-msa-all.tab\n",
    "    !wget -P data/ https://raw.githubusercontent.com/taudata-indonesia/eLearning/master/data/ind_SA.csv\n",
    "    !wget -P data/ https://raw.githubusercontent.com/taudata-indonesia/eLearning/master/data/all_indo_man_tag_corpus_model.crf.tagger\n",
    "\n",
    "    !pip install spacy python-crfsuite unidecode textblob sastrawi\n",
    "    !python -m spacy download xx_core_web_sm\n",
    "    !python -m spacy download en_core_web_sm\n",
    "\n",
    "    nltk.download('popular')\n",
    "except:\n",
    "    IN_COLAB = False\n",
    "    print(\"Running the code locally, please make sure all the python module versions agree with colab environment and all data/assets downloaded\")"
   ]
  },
  {
   "cell_type": "code",
   "execution_count": 2,
   "metadata": {
    "ExecuteTime": {
     "end_time": "2022-05-29T11:29:06.095893Z",
     "start_time": "2022-05-29T11:29:06.066891Z"
    }
   },
   "outputs": [
    {
     "data": {
      "text/plain": [
       "'Done'"
      ]
     },
     "execution_count": 2,
     "metadata": {},
     "output_type": "execute_result"
    }
   ],
   "source": [
    "# Mulai dengan loading data\n",
    "import nltk, pickle\n",
    "from sklearn.datasets import fetch_20newsgroups\n",
    "\n",
    "try:\n",
    "    f = open('data/20newsgroups.pckl', 'rb')\n",
    "    data = pickle.load(f)\n",
    "    f.close()\n",
    "except:\n",
    "    categories = ['sci.med', 'talk.politics.misc',  'rec.autos']\n",
    "    data = fetch_20newsgroups(categories=categories,remove=('headers', 'footers', 'quotes'))\n",
    "    f = open('data/20newsgroups.pckl', 'wb')\n",
    "    pickle.dump(data, f)\n",
    "    f.close()\n",
    "'Done'"
   ]
  },
  {
   "cell_type": "code",
   "execution_count": 3,
   "metadata": {
    "ExecuteTime": {
     "end_time": "2022-05-29T11:29:06.112002Z",
     "start_time": "2022-05-29T11:29:06.096892Z"
    }
   },
   "outputs": [
    {
     "data": {
      "text/plain": [
       "'Done'"
      ]
     },
     "execution_count": 3,
     "metadata": {},
     "output_type": "execute_result"
    }
   ],
   "source": [
    "# Merubah data ke bentuk yang biasa kita gunakan\n",
    "D = [doc for doc in data.data]\n",
    "Y = data.target\n",
    "'Done'"
   ]
  },
  {
   "cell_type": "code",
   "execution_count": 4,
   "metadata": {
    "ExecuteTime": {
     "end_time": "2022-05-29T11:29:06.128119Z",
     "start_time": "2022-05-29T11:29:06.114002Z"
    }
   },
   "outputs": [
    {
     "data": {
      "text/plain": [
       "{0, 1, 2}"
      ]
     },
     "execution_count": 4,
     "metadata": {},
     "output_type": "execute_result"
    }
   ],
   "source": [
    "set(Y)"
   ]
  },
  {
   "cell_type": "code",
   "execution_count": 5,
   "metadata": {
    "ExecuteTime": {
     "end_time": "2022-05-29T11:29:06.143244Z",
     "start_time": "2022-05-29T11:29:06.129123Z"
    }
   },
   "outputs": [
    {
     "data": {
      "text/plain": [
       "'I want to get a car alarm and I am thinking about getting an Ungo Box.\\n    Does anyone out there have any knowledge or experience with any of\\n    these alarms?  How about price ranges for the different models?\\n    Are these good car alarms?  Please email me any responces.\\n\\n                cak3@ns3.lehigh.edu'"
      ]
     },
     "execution_count": 5,
     "metadata": {},
     "output_type": "execute_result"
    }
   ],
   "source": [
    "D[0]"
   ]
  },
  {
   "cell_type": "code",
   "execution_count": 6,
   "metadata": {
    "ExecuteTime": {
     "end_time": "2022-05-29T11:57:52.431041Z",
     "start_time": "2022-05-29T11:29:06.144247Z"
    }
   },
   "outputs": [
    {
     "name": "stderr",
     "output_type": "stream",
     "text": [
      "1653it [28:37,  1.04s/it]"
     ]
    },
    {
     "name": "stdout",
     "output_type": "stream",
     "text": [
      "car alarm thinking ungo box knowledge experience alarms price ranges models good car alarms email responces \n"
     ]
    },
    {
     "name": "stderr",
     "output_type": "stream",
     "text": [
      "\n"
     ]
    }
   ],
   "source": [
    "# preprocessing\n",
    "import taudataNlpTm as tau \n",
    "from tqdm import tqdm\n",
    "\n",
    "stops, lemmatizer = tau.LoadStopWords(lang='en')\n",
    "for i,d in tqdm(enumerate(D)):\n",
    "    D[i] = tau.cleanText(d, lemma=lemmatizer, stops = stops, symbols_remove = True, min_charLen = 2)\n",
    "print(D[0])"
   ]
  },
  {
   "cell_type": "code",
   "execution_count": 7,
   "metadata": {
    "ExecuteTime": {
     "end_time": "2022-05-29T11:57:52.446657Z",
     "start_time": "2022-05-29T11:57:52.431041Z"
    }
   },
   "outputs": [],
   "source": [
    "# Bentuk VSM-nya\n",
    "from sklearn.feature_extraction.text import TfidfVectorizer\n",
    "\n",
    "tfidf_vectorizer = TfidfVectorizer(lowercase=True, stop_words='english',smooth_idf= True, sublinear_tf=True, \n",
    "                                   ngram_range=(1, 2), max_df=0.90, min_df=2)"
   ]
  },
  {
   "cell_type": "code",
   "execution_count": 8,
   "metadata": {
    "ExecuteTime": {
     "end_time": "2022-05-29T11:57:52.635082Z",
     "start_time": "2022-05-29T11:57:52.446657Z"
    }
   },
   "outputs": [
    {
     "name": "stdout",
     "output_type": "stream",
     "text": [
      "(1157, 12400) (496, 12400)\n"
     ]
    }
   ],
   "source": [
    "from sklearn.model_selection import train_test_split\n",
    "seed = 99\n",
    "\n",
    "x_train, x_test, y_train, y_test = train_test_split(D, Y, test_size=0.3, random_state=seed)\n",
    "x_train = tfidf_vectorizer.fit_transform(x_train) # \"Fit_Transform\"\n",
    "x_test = tfidf_vectorizer.transform(x_test) # Perhatikan disini hanya \"Transform\"\n",
    "\n",
    "print(x_train.shape, x_test.shape) # Jumlah kolom Sama ==> ini penting"
   ]
  },
  {
   "cell_type": "code",
   "execution_count": 9,
   "metadata": {
    "ExecuteTime": {
     "end_time": "2022-05-29T11:57:52.650709Z",
     "start_time": "2022-05-29T11:57:52.635082Z"
    }
   },
   "outputs": [
    {
     "name": "stdout",
     "output_type": "stream",
     "text": [
      "(1105, 12400) (481, 12400)\n"
     ]
    }
   ],
   "source": [
    "# Jangan lupa langkah penting ini! ... \n",
    "# Kenapa ada yang kosong?... coba fikirkan ... \n",
    "def hapusKosong(X,Y):\n",
    "    Y = Y[X.getnnz(1)>0] # delete label dokumen yang memiliki row =0 di tfidf-nya\n",
    "    X = X[X.getnnz(1)>0] # Remove Zero Rows\n",
    "    return X, Y\n",
    "\n",
    "x_train, y_train = hapusKosong(x_train, y_train)\n",
    "x_test, y_test = hapusKosong(x_test, y_test)\n",
    "print(x_train.shape, x_test.shape)"
   ]
  },
  {
   "cell_type": "code",
   "execution_count": 10,
   "metadata": {
    "ExecuteTime": {
     "end_time": "2022-05-29T11:57:52.666336Z",
     "start_time": "2022-05-29T11:57:52.650709Z"
    }
   },
   "outputs": [],
   "source": [
    "# Kita gunakan metric yang umum\n",
    "from sklearn.metrics import accuracy_score"
   ]
  },
  {
   "cell_type": "code",
   "execution_count": 11,
   "metadata": {
    "ExecuteTime": {
     "end_time": "2022-05-29T11:57:52.964601Z",
     "start_time": "2022-05-29T11:57:52.666336Z"
    }
   },
   "outputs": [
    {
     "data": {
      "text/plain": [
       "0.8690228690228691"
      ]
     },
     "execution_count": 11,
     "metadata": {},
     "output_type": "execute_result"
    }
   ],
   "source": [
    "# Naive Bayes: http://scikit-learn.org/stable/modules/naive_bayes.html\n",
    "from sklearn.naive_bayes import GaussianNB\n",
    "\n",
    "gnb = GaussianNB()\n",
    "nbc = gnb.fit(x_train.toarray(), y_train) # Kelemahan Implementasinya disini\n",
    "\n",
    "y_nbc = nbc.predict(x_test.toarray())\n",
    "accuracy_score(y_test, y_nbc)\n",
    "# Hati-hati Sparse ==> Dense bisa memenuhi memory untuk data relatif cukup besar\n",
    "# Akurasi cukup baik"
   ]
  },
  {
   "cell_type": "code",
   "execution_count": 12,
   "metadata": {
    "ExecuteTime": {
     "end_time": "2022-05-29T11:57:53.090457Z",
     "start_time": "2022-05-29T11:57:52.964601Z"
    }
   },
   "outputs": [
    {
     "data": {
      "text/plain": [
       "0.7276507276507277"
      ]
     },
     "execution_count": 12,
     "metadata": {},
     "output_type": "execute_result"
    }
   ],
   "source": [
    "# Decision Tree: http://scikit-learn.org/stable/modules/tree.html\n",
    "from sklearn import tree\n",
    "\n",
    "DT = tree.DecisionTreeClassifier()\n",
    "DT = DT.fit(x_train, y_train)\n",
    "\n",
    "y_DT = DT.predict(x_test)\n",
    "accuracy_score(y_test, y_DT)\n",
    "# Akurasi relatif rendah ==> Mengapa?"
   ]
  },
  {
   "cell_type": "code",
   "execution_count": 13,
   "metadata": {
    "ExecuteTime": {
     "end_time": "2022-05-29T11:57:53.608675Z",
     "start_time": "2022-05-29T11:57:53.090457Z"
    }
   },
   "outputs": [
    {
     "data": {
      "text/plain": [
       "0.8565488565488566"
      ]
     },
     "execution_count": 13,
     "metadata": {},
     "output_type": "execute_result"
    }
   ],
   "source": [
    "# Mari coba perbaiki dengan Random Forest\n",
    "# http://scikit-learn.org/stable/modules/generated/sklearn.ensemble.RandomForestClassifier.html\n",
    "from sklearn.ensemble import RandomForestClassifier\n",
    "\n",
    "RandomForest = RandomForestClassifier()\n",
    "RandomForest.fit(x_train, y_train)\n",
    "\n",
    "y_RF = RandomForest.predict(x_test)\n",
    "accuracy_score(y_test, y_RF)\n",
    "# Sedikit membaik (expected)"
   ]
  },
  {
   "cell_type": "code",
   "execution_count": 14,
   "metadata": {
    "ExecuteTime": {
     "end_time": "2022-05-29T11:57:54.142089Z",
     "start_time": "2022-05-29T11:57:53.608675Z"
    }
   },
   "outputs": [
    {
     "data": {
      "text/plain": [
       "0.918918918918919"
      ]
     },
     "execution_count": 14,
     "metadata": {},
     "output_type": "execute_result"
    }
   ],
   "source": [
    "# SVM: http://scikit-learn.org/stable/modules/svm.html\n",
    "from sklearn import svm\n",
    "\n",
    "dSVM = svm.SVC(decision_function_shape='ovo') # oneversus one SVM\n",
    "dSVM.fit(x_train, y_train)\n",
    "\n",
    "y_SVM = dSVM.predict(x_test)\n",
    "accuracy_score(y_test, y_SVM)\n",
    "# Mengapa akurasinya rendah? Mengejutkan?"
   ]
  },
  {
   "cell_type": "code",
   "execution_count": 15,
   "metadata": {
    "ExecuteTime": {
     "end_time": "2022-05-29T11:57:58.625617Z",
     "start_time": "2022-05-29T11:57:54.142089Z"
    }
   },
   "outputs": [
    {
     "data": {
      "text/plain": [
       "0.920997920997921"
      ]
     },
     "execution_count": 15,
     "metadata": {},
     "output_type": "execute_result"
    }
   ],
   "source": [
    "# Neural Network: http://scikit-learn.org/stable/modules/neural_networks_supervised.html\n",
    "from sklearn.neural_network import MLPClassifier\n",
    "\n",
    "NN = MLPClassifier(hidden_layer_sizes=(30, 40))\n",
    "NN.fit(x_train, y_train)\n",
    "\n",
    "y_NN = NN.predict(x_test)\n",
    "accuracy_score(y_test, y_NN)\n",
    "# Cukup Baik, coba rubah jumlah layer dan Neuron"
   ]
  },
  {
   "cell_type": "markdown",
   "metadata": {},
   "source": [
    "## Tunggu dulu ... yang kita lakukan belum cukup valid/objektif ... Mengapa?\n"
   ]
  },
  {
   "cell_type": "code",
   "execution_count": 16,
   "metadata": {
    "ExecuteTime": {
     "end_time": "2022-05-29T11:58:01.718093Z",
     "start_time": "2022-05-29T11:57:58.625617Z"
    }
   },
   "outputs": [
    {
     "name": "stdout",
     "output_type": "stream",
     "text": [
      "Accuracy SVM: 0.91 (+/- 0.04), Waktu = 2.888 detik\n"
     ]
    }
   ],
   "source": [
    "# Cross validation\n",
    "# http://scikit-learn.org/stable/modules/generated/sklearn.model_selection.cross_val_score.html\n",
    "from sklearn.model_selection import cross_val_score\n",
    "import time\n",
    "\n",
    "# perhatikan sekarang kita menggunakan seluruh data\n",
    "# Bisa juga CV di training data ==> train, Test, Val splittting system\n",
    "X = tfidf_vectorizer.fit_transform(D) # \"Fit_Transform\"\n",
    "\n",
    "svm_ = svm.SVC(kernel='linear', decision_function_shape='ovo')\n",
    "mulai = time.time()\n",
    "scores_svm = cross_val_score(svm_, X, Y, cv=10, n_jobs=-2) \n",
    "waktu = time.time() - mulai\n",
    "# Interval Akurasi 95 CI \n",
    "print(\"Accuracy SVM: %0.2f (+/- %0.2f), Waktu = %0.3f detik\" % (scores_svm.mean(), scores_svm.std() * 2, waktu))"
   ]
  },
  {
   "cell_type": "code",
   "execution_count": 17,
   "metadata": {
    "ExecuteTime": {
     "end_time": "2022-05-29T11:58:58.293394Z",
     "start_time": "2022-05-29T11:58:01.718093Z"
    }
   },
   "outputs": [
    {
     "name": "stdout",
     "output_type": "stream",
     "text": [
      "Accuracy ANN: 0.92 (+/- 0.05), Waktu = 56.560 detik\n"
     ]
    }
   ],
   "source": [
    "# Bandingkan dengan Neural Network\n",
    "nn_ = MLPClassifier(hidden_layer_sizes=(30, 40))\n",
    "mulai = time.time()\n",
    "scores_nn = cross_val_score(nn_, X, Y, cv=10, n_jobs=-2) \n",
    "waktu = time.time() - mulai\n",
    "# Interval Akurasi 95 CI \n",
    "print(\"Accuracy ANN: %0.2f (+/- %0.2f), Waktu = %0.3f detik\" % (scores_nn.mean(), scores_nn.std() * 2, waktu))"
   ]
  },
  {
   "cell_type": "code",
   "execution_count": 18,
   "metadata": {
    "ExecuteTime": {
     "end_time": "2022-05-29T11:59:04.659623Z",
     "start_time": "2022-05-29T11:58:58.293394Z"
    }
   },
   "outputs": [
    {
     "name": "stdout",
     "output_type": "stream",
     "text": [
      "F1-Score: 0.91 (+/- 0.04)\n"
     ]
    }
   ],
   "source": [
    "# Kita bisa juga mengeluarkan metric evaluasi lainnya\n",
    "scores = cross_val_score(svm_, X, Y, cv=10, scoring='f1_macro')\n",
    "print(\"F1-Score: %0.2f (+/- %0.2f)\" % (scores.mean(), scores.std() * 2))\n",
    "# scoring pilih dari sini: http://scikit-learn.org/stable/modules/model_evaluation.html"
   ]
  },
  {
   "cell_type": "code",
   "execution_count": 19,
   "metadata": {
    "ExecuteTime": {
     "end_time": "2022-05-29T11:59:05.083329Z",
     "start_time": "2022-05-29T11:59:04.659623Z"
    }
   },
   "outputs": [],
   "source": [
    "%matplotlib inline\n",
    "import seaborn as sns; sns.set()\n",
    "import matplotlib.pyplot as plt; plt.style.use('classic')\n",
    "import numpy as np, pandas as pd"
   ]
  },
  {
   "cell_type": "code",
   "execution_count": 20,
   "metadata": {
    "ExecuteTime": {
     "end_time": "2022-05-29T11:59:05.177519Z",
     "start_time": "2022-05-29T11:59:05.083329Z"
    }
   },
   "outputs": [
    {
     "data": {
      "image/png": "[encoded data removed]",
      "text/plain": [
       "<Figure size 640x480 with 1 Axes>"
      ]
     },
     "metadata": {},
     "output_type": "display_data"
    }
   ],
   "source": [
    "df = pd.DataFrame({'SVM':scores_svm,'ANN':scores_nn})\n",
    "sns.boxplot(data=df)\n",
    "plt.show()"
   ]
  },
  {
   "cell_type": "markdown",
   "metadata": {},
   "source": [
    "<p><strong>Apakah sentiment analysis?</strong></p>\n",
    "\n",
    "<p>Sentiment Analysis adalah suatu proses komputasi untuk menentukan apakah suatu penrnyataan bermakna positive, negative, atau netral.</p>\n",
    "\n",
    "<p>Terkadang disebut juga sebagai&nbsp;<strong>opinion mining.</strong></p>\n",
    "\n",
    "<p><strong>Contoh aplikasi Sentiment Analysis</strong></p>\n",
    "\n",
    "<ul>\n",
    "\t<li><strong>Business: tanggapan konsumen atas suatu produk</strong>.</li>\n",
    "\t<li><strong>Politics:&nbsp;</strong>Sentimen masyarakat sebagai strategi pemenangan pemilu/pilkada.</li>\n",
    "</ul>\n"
   ]
  },
  {
   "cell_type": "code",
   "execution_count": 21,
   "metadata": {
    "ExecuteTime": {
     "end_time": "2022-05-29T11:59:05.318599Z",
     "start_time": "2022-05-29T11:59:05.177519Z"
    }
   },
   "outputs": [
    {
     "name": "stdout",
     "output_type": "stream",
     "text": [
      "Sentiment(polarity=-0.8, subjectivity=0.9)\n",
      "Polarity=Sentimen = -0.8\n"
     ]
    }
   ],
   "source": [
    "from textblob import TextBlob\n",
    "# Lexicon Based berdasarkan \n",
    "# pattern = https://www.clips.uantwerpen.be/pages/pattern-en#sentiment\n",
    "Sentence = \"I hate Bakpia\"\n",
    "testimonial = TextBlob(Sentence)\n",
    "print(testimonial.sentiment)\n",
    "print('Polarity=Sentimen =', testimonial.sentiment.polarity)"
   ]
  },
  {
   "cell_type": "markdown",
   "metadata": {},
   "source": [
    "<p>Sentiment menghasilkan Tuple berpasangan (<strong>Polaritas</strong>, <strong>Subjectivitas</strong>).&nbsp;</p>\n",
    "\n",
    "<p>Polaritas memiliki nilai [-1, 1] ==&gt; negative~positive Sentimen</p>\n",
    "\n",
    "<p>Subjectivity memiliki nilai antara 0 sampai 1, dimana 0 paling objective dan 1 paling subjective.</p>"
   ]
  },
  {
   "cell_type": "markdown",
   "metadata": {},
   "source": [
    "## Bagaimana Dengan Bahasa Indonesia?\n",
    "<p>[A simple trick]</p>"
   ]
  },
  {
   "cell_type": "code",
   "execution_count": 22,
   "metadata": {
    "ExecuteTime": {
     "end_time": "2022-05-29T11:59:26.607506Z",
     "start_time": "2022-05-29T11:59:05.318599Z"
    }
   },
   "outputs": [
    {
     "name": "stdout",
     "output_type": "stream",
     "text": [
      "Fungsi ini deprecated di TextBlob. Anda bisa gunakan https://translate.google.com secara manual          atau secara automatis dengan menggunakan API-nya\n"
     ]
    }
   ],
   "source": [
    "try:\n",
    "    kalimat = 'Saya suka Bakpia'\n",
    "    K = TextBlob(kalimat).translate(to='en')\n",
    "    print(type(K), K)\n",
    "except:\n",
    "    K = False\n",
    "    print(\"Fungsi ini deprecated di TextBlob. Anda bisa gunakan https://translate.google.com secara manual\\\n",
    "          atau secara automatis dengan menggunakan API-nya\")"
   ]
  },
  {
   "cell_type": "code",
   "execution_count": 23,
   "metadata": {
    "ExecuteTime": {
     "end_time": "2022-05-29T11:59:26.623371Z",
     "start_time": "2022-05-29T11:59:26.607506Z"
    }
   },
   "outputs": [
    {
     "name": "stdout",
     "output_type": "stream",
     "text": [
      "Sentiment(polarity=1.0, subjectivity=1.0)\n",
      "Polarity=Sentimen = 1.0\n"
     ]
    }
   ],
   "source": [
    "if not K:\n",
    "    K = TextBlob(\"Bakpia is so delicious\")\n",
    "print(K.sentiment)\n",
    "print('Polarity=Sentimen =', K.sentiment.polarity)    "
   ]
  },
  {
   "cell_type": "code",
   "execution_count": 24,
   "metadata": {
    "ExecuteTime": {
     "end_time": "2022-05-29T11:59:26.639651Z",
     "start_time": "2022-05-29T11:59:26.624390Z"
    }
   },
   "outputs": [],
   "source": [
    "def SenSubModMood_ID(kalimat):\n",
    "    K = TextBlob(kalimat).translate(to='en')\n",
    "    pol,sub = K.sentiment\n",
    "    if pol>0:\n",
    "        pol='positive'\n",
    "    elif pol<0:\n",
    "        pol='negative'\n",
    "    else:\n",
    "        pol = 'netral'\n",
    "    if sub>0.5:\n",
    "        sub = 'Subjektif'\n",
    "    else:\n",
    "        sub = \"Objektif\"\n",
    "    return pol, sub"
   ]
  },
  {
   "cell_type": "code",
   "execution_count": 25,
   "metadata": {
    "ExecuteTime": {
     "end_time": "2022-05-29T11:59:47.879815Z",
     "start_time": "2022-05-29T11:59:26.639651Z"
    }
   },
   "outputs": [
    {
     "name": "stdout",
     "output_type": "stream",
     "text": [
      "Fungsi ini deprecated di TextBlob. Anda bisa gunakan https://translate.google.com secara manual          atau secara automatis dengan menggunakan API-nya\n"
     ]
    }
   ],
   "source": [
    "kalimat = 'makan bakpia pakai kecap enak'\n",
    "try:\n",
    "    SenSubModMood_ID(kalimat)\n",
    "except:\n",
    "    print(\"Fungsi ini deprecated di TextBlob. Anda bisa gunakan https://translate.google.com secara manual\\\n",
    "          atau secara automatis dengan menggunakan API-nya\")"
   ]
  },
  {
   "cell_type": "code",
   "execution_count": 26,
   "metadata": {
    "ExecuteTime": {
     "end_time": "2022-05-29T11:59:56.136502Z",
     "start_time": "2022-05-29T11:59:47.879815Z"
    }
   },
   "outputs": [
    {
     "data": {
      "text/plain": [
       "Sentiment(classification='pos', p_pos=0.7952586206896557, p_neg=0.2047413793103446)"
      ]
     },
     "execution_count": 26,
     "metadata": {},
     "output_type": "execute_result"
    }
   ],
   "source": [
    "from textblob.sentiments import NaiveBayesAnalyzer\n",
    "# Warning, mungkin lambat karena membentuk model classifier* terlebih dahulu.\n",
    "# *Berdasarkan NLTK corpus ==> Language dependent\n",
    "Sentence = \"Textblob is amazingly simple to use\"\n",
    "blob = TextBlob(Sentence, analyzer=NaiveBayesAnalyzer())\n",
    "blob.sentiment\n",
    "# Good Explanation: https://medium.com/nlpython/sentiment-analysis-analysis-ee5da4448e37\n",
    "# Output probabilitas prediksinya"
   ]
  },
  {
   "cell_type": "markdown",
   "metadata": {},
   "source": [
    "## Bagaimana dengan Sentiment Analysis menggunakan NBC untuk Bahasa indonesia?"
   ]
  },
  {
   "cell_type": "code",
   "execution_count": 27,
   "metadata": {
    "ExecuteTime": {
     "end_time": "2022-05-29T11:59:56.152562Z",
     "start_time": "2022-05-29T11:59:56.136502Z"
    }
   },
   "outputs": [],
   "source": [
    "import nltk.classify.util\n",
    "from nltk.classify import NaiveBayesClassifier\n",
    " \n",
    "def word_feats(words):\n",
    "    return dict([(word, True) for word in words])\n",
    "\n",
    "def bentukClassifier(wPos, wNeg): # ,Nt\n",
    "    positive_features = [(word_feats(pos), 'pos') for pos in wPos]\n",
    "    negative_features = [(word_feats(neg), 'neg') for neg in wNeg]\n",
    "    #neutral_features = [(word_feats(neu), 'neu') for neu in Nt]\n",
    "    train_set = negative_features + positive_features# + neutral_features\n",
    "    return NaiveBayesClassifier.train(train_set)\n",
    "\n",
    "def prediksiSentiment(kalimat, wPos, wNeg, negasi):\n",
    "    pos, neg = 0.0, 0.0\n",
    "    posWords, negWords = [], []\n",
    "    K = tau.cleanText(kalimat)\n",
    "    for w in wPos:\n",
    "        if w in K:\n",
    "            for ww in negasi:\n",
    "                kebalikan = False\n",
    "                inverted = ww+' '+w\n",
    "                if inverted in K:\n",
    "                    negWords.append(inverted)\n",
    "                    kebalikan = True\n",
    "                    break\n",
    "            if not kebalikan:\n",
    "                posWords.append(w)\n",
    "    for w in wNeg:\n",
    "        if w in K:\n",
    "            for ww in negasi:\n",
    "                kebalikan = False\n",
    "                inverted = ww+' '+w\n",
    "                if inverted in K:\n",
    "                    posWords.append(inverted)\n",
    "                    kebalikan = True\n",
    "                    break\n",
    "            if not kebalikan:\n",
    "                negWords.append(w)\n",
    "    \n",
    "    nPos, nNeg = len(posWords), len(negWords)\n",
    "    sum_ = nPos + nNeg\n",
    "    if sum_ == 0 or nPos==nNeg:\n",
    "        return 'netral', 0.0\n",
    "    else:\n",
    "        nPos, nNeg = nPos/sum_, nNeg/sum_\n",
    "        if nPos>nNeg and nPos>0.01:\n",
    "            return 'positif', nPos\n",
    "        elif nNeg>nPos and nNeg<-0.01:\n",
    "            return 'negatif', nNeg\n",
    "        else:\n",
    "            return 'netral', (nPos + nNeg)/2"
   ]
  },
  {
   "cell_type": "code",
   "execution_count": 28,
   "metadata": {
    "ExecuteTime": {
     "end_time": "2022-05-29T11:59:56.168220Z",
     "start_time": "2022-05-29T11:59:56.152562Z"
    }
   },
   "outputs": [],
   "source": [
    "wPos = ('keren', 'suka', 'cinta', 'bagus', 'mantap', 'sadis', 'top', 'enak', 'sedap')\n",
    "wNeg = ('jelek', 'benci','buruk', 'najis')\n",
    "wordS = (wPos, wNeg)\n",
    "negasi = ['ga', 'tidak']"
   ]
  },
  {
   "cell_type": "code",
   "execution_count": 29,
   "metadata": {
    "ExecuteTime": {
     "end_time": "2022-05-29T11:59:56.184084Z",
     "start_time": "2022-05-29T11:59:56.168220Z"
    }
   },
   "outputs": [
    {
     "data": {
      "text/plain": [
       "('netral', 0.0)"
      ]
     },
     "execution_count": 29,
     "metadata": {},
     "output_type": "execute_result"
    }
   ],
   "source": [
    "sentence = \"makan pempek minumnya teh panas, biasa aja :)\"\n",
    "prediksiSentiment(sentence, wPos, wNeg, negasi)"
   ]
  },
  {
   "cell_type": "code",
   "execution_count": 30,
   "metadata": {
    "ExecuteTime": {
     "end_time": "2022-05-29T11:59:56.199687Z",
     "start_time": "2022-05-29T11:59:56.184084Z"
    }
   },
   "outputs": [
    {
     "data": {
      "text/plain": [
       "('positif', 1.0)"
      ]
     },
     "execution_count": 30,
     "metadata": {},
     "output_type": "execute_result"
    }
   ],
   "source": [
    "sentence = \"makan gorengan sambil minum kopi, enak tenan\"\n",
    "prediksiSentiment(sentence, wPos, wNeg, negasi)"
   ]
  },
  {
   "cell_type": "markdown",
   "metadata": {},
   "source": [
    "## Bagaimana jika mau melakukannya dengan model klasifikasi (supervised learning) lain seperti modul sebelumnya?\n",
    "(e.g. SVM, NN, DT, k-NN, etc)"
   ]
  },
  {
   "cell_type": "code",
   "execution_count": 31,
   "metadata": {
    "ExecuteTime": {
     "end_time": "2022-05-29T11:59:56.215283Z",
     "start_time": "2022-05-29T11:59:56.199687Z"
    }
   },
   "outputs": [
    {
     "data": {
      "text/plain": [
       "'Done!'"
      ]
     },
     "execution_count": 31,
     "metadata": {},
     "output_type": "execute_result"
    }
   ],
   "source": [
    "# text Classification : independent variable\n",
    "d1 = 'Minum kopi pagi-pagi sambil makan pisang goreng is the best'\n",
    "d2 = 'Belajar NLP dan Text Mining ternyata seru banget'\n",
    "d3 = 'Palembang agak mendung hari ini'\n",
    "d4 =  'Sudah lumayan lama tukang Bakso belum lewat'\n",
    "d5 = 'Aduh ga banget makan Mie Ayam pakai kecap, please deh'\n",
    "d6 = 'Benci banget kalau melihat orang buang sampah sembarangan di jalan'\n",
    "d7 = 'Kalau liat orang ga taat aturan rasanya ingin ngegampar aja'\n",
    "d8 = 'Nikmatnya meniti jalan jalan penuh romansa di tengah kota bernuansa pendidikan'\n",
    "d9 = 'kemajuan bangsa ini ada pada kegigihan masyarakat dalam belajar dan bekerja'\n",
    "D = [d1,d2,d3,d4,d5,d6,d7,d8,d9]\n",
    "'Done!'"
   ]
  },
  {
   "cell_type": "code",
   "execution_count": 32,
   "metadata": {
    "ExecuteTime": {
     "end_time": "2022-05-29T11:59:56.231063Z",
     "start_time": "2022-05-29T11:59:56.215283Z"
    }
   },
   "outputs": [
    {
     "name": "stdout",
     "output_type": "stream",
     "text": [
      "['positif', 'positif', 'netral', 'netral', 'negatif', 'negatif', 'negatif', 'netral', 'positif']\n"
     ]
    }
   ],
   "source": [
    "# dependent variable, misal 0=positif, 1=netral, 2=negatif\n",
    "Class = [0,0,1,1,2,2,2,1,0]\n",
    "dic = {0:'positif', 1:'netral', 2:'negatif'}\n",
    "print([dic[c] for c in Class])"
   ]
  },
  {
   "cell_type": "code",
   "execution_count": 33,
   "metadata": {
    "ExecuteTime": {
     "end_time": "2022-05-29T11:59:56.247081Z",
     "start_time": "2022-05-29T11:59:56.231063Z"
    }
   },
   "outputs": [
    {
     "name": "stdout",
     "output_type": "stream",
     "text": [
      "(9, 144)\n"
     ]
    },
    {
     "data": {
      "text/plain": [
       "\"{'minum': 91, 'kopi': 65, 'pagi': 104, 'sambil': 122, 'makan': 76, 'pisang': 114, 'goreng': 43, 'is': 51, 'the': 140, 'best': 28, 'minum kopi': 92, 'kopi pagi': 66, 'pagi pagi': 105, 'pagi sambil': 10\""
      ]
     },
     "execution_count": 33,
     "metadata": {},
     "output_type": "execute_result"
    }
   ],
   "source": [
    "# Bentuk VSM-nya seperti kemarin (skip preprocessing)\n",
    "from sklearn.feature_extraction.text import TfidfVectorizer\n",
    "\n",
    "vectorizer = TfidfVectorizer(ngram_range=(1, 2))\n",
    "vsm = vectorizer.fit_transform(D)\n",
    "vsm = vsm[vsm.getnnz(1)>0][:,vsm.getnnz(0)>0] # Remove zero rows and columns\n",
    "print(vsm.shape)\n",
    "str(vectorizer.vocabulary_)[:200]"
   ]
  },
  {
   "cell_type": "code",
   "execution_count": 34,
   "metadata": {
    "ExecuteTime": {
     "end_time": "2022-05-29T11:59:56.262722Z",
     "start_time": "2022-05-29T11:59:56.247081Z"
    }
   },
   "outputs": [
    {
     "name": "stdout",
     "output_type": "stream",
     "text": [
      "1.0\n"
     ]
    }
   ],
   "source": [
    "# Lakukan klasifikasi (misal dengan SVM)\n",
    "dSVM = svm.SVC(kernel='linear')\n",
    "sen = dSVM.fit(vsm, Class).predict(vsm)\n",
    "print(accuracy_score(Class, sen))\n",
    "# Memakai seluruh training data karena sampel yang sangat kecil"
   ]
  },
  {
   "cell_type": "code",
   "execution_count": 35,
   "metadata": {
    "ExecuteTime": {
     "end_time": "2022-05-29T11:59:56.293970Z",
     "start_time": "2022-05-29T11:59:56.262722Z"
    },
    "slideshow": {
     "slide_type": "slide"
    }
   },
   "outputs": [
    {
     "data": {
      "text/plain": [
       "(   sentimen                                              Tweet\n",
       " 0        -1  lagu bosan apa yang aku save ni huhuhuhuhuhuhu...\n",
       " 1        -1  kita lanjutkan saja diam ini hingga kau dan ak...\n",
       " 2         1  doa rezeki tak putus inna haa zaa larizquna ma...\n",
       " 3         1  makasih loh ntar kita bagi hasil aku 99 9 sisa...\n",
       " 4        -1  aku tak faham betul jenis orang malaysia yang ...,\n",
       " (10806, 2))"
      ]
     },
     "execution_count": 35,
     "metadata": {},
     "output_type": "execute_result"
    }
   ],
   "source": [
    "import nltk, warnings; warnings.simplefilter('ignore')\n",
    "import pandas as pd, taudataNlpTm as tau\n",
    "from tqdm import tqdm\n",
    "\n",
    "# Load DataFile CSV\n",
    "dataSA = pd.read_csv('data/ind_SA.csv') # run locally\n",
    "dataSA.head(), dataSA.shape"
   ]
  },
  {
   "cell_type": "code",
   "execution_count": 36,
   "metadata": {
    "ExecuteTime": {
     "end_time": "2022-05-29T11:59:56.309589Z",
     "start_time": "2022-05-29T11:59:56.293970Z"
    },
    "slideshow": {
     "slide_type": "slide"
    }
   },
   "outputs": [
    {
     "data": {
      "text/html": [
       "<div>\n",
       "<style scoped>\n",
       "    .dataframe tbody tr th:only-of-type {\n",
       "        vertical-align: middle;\n",
       "    }\n",
       "\n",
       "    .dataframe tbody tr th {\n",
       "        vertical-align: top;\n",
       "    }\n",
       "\n",
       "    .dataframe thead th {\n",
       "        text-align: right;\n",
       "    }\n",
       "</style>\n",
       "<table border=\"1\" class=\"dataframe\">\n",
       "  <thead>\n",
       "    <tr style=\"text-align: right;\">\n",
       "      <th></th>\n",
       "      <th>sentimen</th>\n",
       "      <th>Tweet</th>\n",
       "      <th>tweet_cleaned</th>\n",
       "    </tr>\n",
       "  </thead>\n",
       "  <tbody>\n",
       "    <tr>\n",
       "      <th>0</th>\n",
       "      <td>-1</td>\n",
       "      <td>lagu bosan apa yang aku save ni huhuhuhuhuhuhu...</td>\n",
       "      <td></td>\n",
       "    </tr>\n",
       "    <tr>\n",
       "      <th>1</th>\n",
       "      <td>-1</td>\n",
       "      <td>kita lanjutkan saja diam ini hingga kau dan ak...</td>\n",
       "      <td></td>\n",
       "    </tr>\n",
       "    <tr>\n",
       "      <th>2</th>\n",
       "      <td>1</td>\n",
       "      <td>doa rezeki tak putus inna haa zaa larizquna ma...</td>\n",
       "      <td></td>\n",
       "    </tr>\n",
       "    <tr>\n",
       "      <th>3</th>\n",
       "      <td>1</td>\n",
       "      <td>makasih loh ntar kita bagi hasil aku 99 9 sisa...</td>\n",
       "      <td></td>\n",
       "    </tr>\n",
       "    <tr>\n",
       "      <th>4</th>\n",
       "      <td>-1</td>\n",
       "      <td>aku tak faham betul jenis orang malaysia yang ...</td>\n",
       "      <td></td>\n",
       "    </tr>\n",
       "  </tbody>\n",
       "</table>\n",
       "</div>"
      ],
      "text/plain": [
       "   sentimen                                              Tweet tweet_cleaned\n",
       "0        -1  lagu bosan apa yang aku save ni huhuhuhuhuhuhu...              \n",
       "1        -1  kita lanjutkan saja diam ini hingga kau dan ak...              \n",
       "2         1  doa rezeki tak putus inna haa zaa larizquna ma...              \n",
       "3         1  makasih loh ntar kita bagi hasil aku 99 9 sisa...              \n",
       "4        -1  aku tak faham betul jenis orang malaysia yang ...              "
      ]
     },
     "execution_count": 36,
     "metadata": {},
     "output_type": "execute_result"
    }
   ],
   "source": [
    "dataSA['tweet_cleaned'] = ''\n",
    "dataSA.head()"
   ]
  },
  {
   "cell_type": "markdown",
   "metadata": {
    "slideshow": {
     "slide_type": "slide"
    }
   },
   "source": [
    "# PreProcessing\n",
    "\n",
    "### Detail lebih lanjut di \n",
    "\n",
    "* https://taudata.blogspot.com/2020/04/nlptm-01.html\n",
    "* https://taudata.blogspot.com/2020/04/nlptm-02.html\n",
    "* https://taudata.blogspot.com/2022/04/nlptm-03.html"
   ]
  },
  {
   "cell_type": "code",
   "execution_count": 37,
   "metadata": {
    "ExecuteTime": {
     "end_time": "2022-05-29T12:13:26.235239Z",
     "start_time": "2022-05-29T11:59:56.309589Z"
    },
    "slideshow": {
     "slide_type": "slide"
    }
   },
   "outputs": [
    {
     "name": "stderr",
     "output_type": "stream",
     "text": [
      "10806it [13:27, 13.38it/s]\n"
     ]
    },
    {
     "data": {
      "text/html": [
       "<div>\n",
       "<style scoped>\n",
       "    .dataframe tbody tr th:only-of-type {\n",
       "        vertical-align: middle;\n",
       "    }\n",
       "\n",
       "    .dataframe tbody tr th {\n",
       "        vertical-align: top;\n",
       "    }\n",
       "\n",
       "    .dataframe thead th {\n",
       "        text-align: right;\n",
       "    }\n",
       "</style>\n",
       "<table border=\"1\" class=\"dataframe\">\n",
       "  <thead>\n",
       "    <tr style=\"text-align: right;\">\n",
       "      <th></th>\n",
       "      <th>sentimen</th>\n",
       "      <th>Tweet</th>\n",
       "      <th>tweet_cleaned</th>\n",
       "    </tr>\n",
       "  </thead>\n",
       "  <tbody>\n",
       "    <tr>\n",
       "      <th>0</th>\n",
       "      <td>-1</td>\n",
       "      <td>lagu bosan apa yang aku save ni huhuhuhuhuhuhu...</td>\n",
       "      <td>lagu bosan apa yang aku save ni huhuhuhuhuhuhu...</td>\n",
       "    </tr>\n",
       "    <tr>\n",
       "      <th>1</th>\n",
       "      <td>-1</td>\n",
       "      <td>kita lanjutkan saja diam ini hingga kau dan ak...</td>\n",
       "      <td>kita lanjut saja diam ini hingga kau dan aku e...</td>\n",
       "    </tr>\n",
       "    <tr>\n",
       "      <th>2</th>\n",
       "      <td>1</td>\n",
       "      <td>doa rezeki tak putus inna haa zaa larizquna ma...</td>\n",
       "      <td>doa rezeki tak putus inna haa zaa larizquna ma...</td>\n",
       "    </tr>\n",
       "    <tr>\n",
       "      <th>3</th>\n",
       "      <td>1</td>\n",
       "      <td>makasih loh ntar kita bagi hasil aku 99 9 sisa...</td>\n",
       "      <td>makasih loh ntar kita bagi hasil aku sisa buat...</td>\n",
       "    </tr>\n",
       "    <tr>\n",
       "      <th>4</th>\n",
       "      <td>-1</td>\n",
       "      <td>aku tak faham betul jenis orang malaysia yang ...</td>\n",
       "      <td>aku tak faham betul jenis orang malaysia yang ...</td>\n",
       "    </tr>\n",
       "  </tbody>\n",
       "</table>\n",
       "</div>"
      ],
      "text/plain": [
       "   sentimen                                              Tweet  \\\n",
       "0        -1  lagu bosan apa yang aku save ni huhuhuhuhuhuhu...   \n",
       "1        -1  kita lanjutkan saja diam ini hingga kau dan ak...   \n",
       "2         1  doa rezeki tak putus inna haa zaa larizquna ma...   \n",
       "3         1  makasih loh ntar kita bagi hasil aku 99 9 sisa...   \n",
       "4        -1  aku tak faham betul jenis orang malaysia yang ...   \n",
       "\n",
       "                                       tweet_cleaned  \n",
       "0  lagu bosan apa yang aku save ni huhuhuhuhuhuhu...  \n",
       "1  kita lanjut saja diam ini hingga kau dan aku e...  \n",
       "2  doa rezeki tak putus inna haa zaa larizquna ma...  \n",
       "3  makasih loh ntar kita bagi hasil aku sisa buat...  \n",
       "4  aku tak faham betul jenis orang malaysia yang ...  "
      ]
     },
     "execution_count": 37,
     "metadata": {},
     "output_type": "execute_result"
    }
   ],
   "source": [
    "stopId, lemmaId = tau.LoadStopWords(lang='id') \n",
    "for i, d in tqdm(dataSA.iterrows()):\n",
    "    doc = tau.cleanText(d.Tweet, lemma=lemmaId, stops = None, symbols_remove = True, min_charLen = 2, fixTag= True)\n",
    "    dataSA.at[i, \"tweet_cleaned\"] = doc\n",
    "    \n",
    "dataSA.head()"
   ]
  },
  {
   "cell_type": "code",
   "execution_count": 38,
   "metadata": {
    "ExecuteTime": {
     "end_time": "2022-05-29T12:13:26.251242Z",
     "start_time": "2022-05-29T12:13:26.236239Z"
    },
    "slideshow": {
     "slide_type": "slide"
    }
   },
   "outputs": [
    {
     "name": "stdout",
     "output_type": "stream",
     "text": [
      "(8644,) (2162,)\n"
     ]
    }
   ],
   "source": [
    "from sklearn.model_selection import train_test_split\n",
    "\n",
    "seed = 99 # Biasakan menggunakan ini\n",
    "testSize = 0.2\n",
    "\n",
    "x_train, x_test, y_train, y_test = train_test_split(dataSA[\"tweet_cleaned\"], dataSA[\"sentimen\"], \n",
    "                                                    test_size=testSize, random_state = seed)\n",
    "print(x_train.shape, x_test.shape)"
   ]
  },
  {
   "cell_type": "code",
   "execution_count": 39,
   "metadata": {
    "ExecuteTime": {
     "end_time": "2022-05-29T12:13:26.506259Z",
     "start_time": "2022-05-29T12:13:26.253243Z"
    },
    "slideshow": {
     "slide_type": "slide"
    }
   },
   "outputs": [
    {
     "name": "stdout",
     "output_type": "stream",
     "text": [
      "(8644, 19639) (2162, 19639)\n"
     ]
    }
   ],
   "source": [
    "from sklearn.feature_extraction.text import TfidfVectorizer\n",
    "\n",
    "vsm = TfidfVectorizer(lowercase=True, smooth_idf= True, sublinear_tf=True, \n",
    "                                   ngram_range=(1, 2), max_df=0.90, min_df=2)\n",
    "\n",
    "x_train = vsm.fit_transform(x_train) # \"Fit_Transform\"\n",
    "x_test = vsm.transform(x_test) # Perhatikan disini hanya \"Transform\"\n",
    "\n",
    "print(x_train.shape, x_test.shape) # Jumlah kolom Sama ==> ini penting"
   ]
  },
  {
   "cell_type": "markdown",
   "metadata": {
    "slideshow": {
     "slide_type": "slide"
    }
   },
   "source": [
    "# Document Classification ~ Sentiment Analysis\n",
    "\n",
    "* https://taudata.blogspot.com/2020/04/slcm-01.html\n",
    "* https://taudata.blogspot.com/2020/04/slcm-02.html\n",
    "* https://taudata.blogspot.com/2022/04/slcm-03.html"
   ]
  },
  {
   "cell_type": "code",
   "execution_count": 40,
   "metadata": {
    "ExecuteTime": {
     "end_time": "2022-05-29T12:13:26.935278Z",
     "start_time": "2022-05-29T12:13:26.507259Z"
    },
    "slideshow": {
     "slide_type": "slide"
    }
   },
   "outputs": [
    {
     "name": "stdout",
     "output_type": "stream",
     "text": [
      "Akurasi =  0.4750231267345051\n",
      "[[ 77 399  85]\n",
      " [ 71 818 214]\n",
      " [ 25 341 132]]\n",
      "              precision    recall  f1-score   support\n",
      "\n",
      "          -1       0.45      0.14      0.21       561\n",
      "           0       0.53      0.74      0.61      1103\n",
      "           1       0.31      0.27      0.28       498\n",
      "\n",
      "    accuracy                           0.48      2162\n",
      "   macro avg       0.43      0.38      0.37      2162\n",
      "weighted avg       0.45      0.48      0.43      2162\n",
      "\n"
     ]
    }
   ],
   "source": [
    "from sklearn import neighbors\n",
    "from sklearn.metrics import accuracy_score\n",
    "from sklearn.metrics import confusion_matrix, classification_report\n",
    "\n",
    "\n",
    "model = neighbors.KNeighborsClassifier()\n",
    "kNN = model.fit(x_train, y_train)\n",
    "y_kNN = kNN.predict(x_test)\n",
    "\n",
    "print('Akurasi = ', accuracy_score(y_test, y_kNN))\n",
    "print(confusion_matrix(y_test, y_kNN))\n",
    "print(classification_report(y_test, y_kNN))"
   ]
  },
  {
   "cell_type": "code",
   "execution_count": 41,
   "metadata": {
    "ExecuteTime": {
     "end_time": "2022-05-29T12:13:38.135756Z",
     "start_time": "2022-05-29T12:13:26.936278Z"
    },
    "slideshow": {
     "slide_type": "slide"
    }
   },
   "outputs": [
    {
     "name": "stdout",
     "output_type": "stream",
     "text": [
      "Akurasi =  0.6151711378353376\n",
      "[[192 343  26]\n",
      " [ 82 970  51]\n",
      " [ 54 276 168]]\n",
      "              precision    recall  f1-score   support\n",
      "\n",
      "          -1       0.59      0.34      0.43       561\n",
      "           0       0.61      0.88      0.72      1103\n",
      "           1       0.69      0.34      0.45       498\n",
      "\n",
      "    accuracy                           0.62      2162\n",
      "   macro avg       0.63      0.52      0.53      2162\n",
      "weighted avg       0.62      0.62      0.58      2162\n",
      "\n"
     ]
    }
   ],
   "source": [
    "from sklearn import svm\n",
    "\n",
    "dSVM = svm.SVC()\n",
    "dSVM.fit(x_train, y_train)\n",
    "y_SVM = dSVM.predict(x_test)\n",
    "print('Akurasi = ', accuracy_score(y_test, y_SVM))\n",
    "print(confusion_matrix(y_test, y_SVM))\n",
    "print(classification_report(y_test, y_SVM))"
   ]
  },
  {
   "cell_type": "code",
   "execution_count": 42,
   "metadata": {
    "ExecuteTime": {
     "end_time": "2022-05-29T12:17:56.599292Z",
     "start_time": "2022-05-29T12:13:38.137757Z"
    },
    "slideshow": {
     "slide_type": "slide"
    }
   },
   "outputs": [
    {
     "name": "stdout",
     "output_type": "stream",
     "text": [
      "Akurasi =  0.5698427382053654\n",
      "[[269 198  94]\n",
      " [201 727 175]\n",
      " [ 71 191 236]]\n",
      "              precision    recall  f1-score   support\n",
      "\n",
      "          -1       0.50      0.48      0.49       561\n",
      "           0       0.65      0.66      0.66      1103\n",
      "           1       0.47      0.47      0.47       498\n",
      "\n",
      "    accuracy                           0.57      2162\n",
      "   macro avg       0.54      0.54      0.54      2162\n",
      "weighted avg       0.57      0.57      0.57      2162\n",
      "\n"
     ]
    }
   ],
   "source": [
    "from sklearn.neural_network import MLPClassifier\n",
    "\n",
    "NN = MLPClassifier()\n",
    "NN.fit(x_train, y_train)\n",
    "y_NN = NN.predict(x_test)\n",
    "\n",
    "print('Akurasi = ', accuracy_score(y_test, y_NN))\n",
    "print(confusion_matrix(y_test, y_NN))\n",
    "print(classification_report(y_test, y_NN))"
   ]
  },
  {
   "cell_type": "code",
   "execution_count": 43,
   "metadata": {
    "ExecuteTime": {
     "end_time": "2022-05-29T12:17:56.615292Z",
     "start_time": "2022-05-29T12:17:56.600294Z"
    },
    "slideshow": {
     "slide_type": "slide"
    }
   },
   "outputs": [],
   "source": [
    "from sklearn.model_selection import cross_val_score, RandomizedSearchCV, GridSearchCV\n",
    "from sklearn.pipeline import make_pipeline "
   ]
  },
  {
   "cell_type": "code",
   "execution_count": 44,
   "metadata": {
    "ExecuteTime": {
     "end_time": "2022-05-29T12:19:26.326664Z",
     "start_time": "2022-05-29T12:17:56.617295Z"
    },
    "slideshow": {
     "slide_type": "slide"
    }
   },
   "outputs": [
    {
     "name": "stdout",
     "output_type": "stream",
     "text": [
      "Fitting 5 folds for each of 162 candidates, totalling 810 fits\n",
      "0.46494802711907973\n",
      "{'kneighborsclassifier__n_neighbors': 10, 'kneighborsclassifier__weights': 'distance', 'tfidfvectorizer__max_df': 0.5, 'tfidfvectorizer__min_df': 5, 'tfidfvectorizer__ngram_range': (1, 1), 'tfidfvectorizer__smooth_idf': True, 'tfidfvectorizer__sublinear_tf': True}\n"
     ]
    }
   ],
   "source": [
    "# Optimal parameter k-NN dengan GRIDSEARCH\n",
    "# https://scikit-learn.org/stable/modules/generated/sklearn.neighbors.KNeighborsClassifier.html\n",
    "\n",
    "x_train, x_test, y_train, y_test = train_test_split(dataSA[\"tweet_cleaned\"], dataSA[\"sentimen\"], \n",
    "                                                    test_size=testSize, random_state = seed)\n",
    "# Perhatikan kita pakai data awal : Text karena kita akan optimalkan preprocessing juga\n",
    "\n",
    "kCV = 5\n",
    "metric = 'accuracy'\n",
    "params = {}\n",
    "params['tfidfvectorizer__min_df'] = [5, 10, 15]\n",
    "params['tfidfvectorizer__max_df'] = [0.5, 0.75, 0.95]\n",
    "params['tfidfvectorizer__smooth_idf'] = [True] # [True, False]\n",
    "params['tfidfvectorizer__sublinear_tf'] = [True] # [True, False]\n",
    "params['tfidfvectorizer__ngram_range'] = [(1, 1), (1, 2), (1,3)]\n",
    "params['kneighborsclassifier__n_neighbors'] = [3, 5, 10]\n",
    "params['kneighborsclassifier__weights'] = ('distance', 'uniform')\n",
    "\n",
    "pipe = make_pipeline(TfidfVectorizer(), neighbors.KNeighborsClassifier())\n",
    "gridCV = GridSearchCV(pipe, params, cv=kCV, scoring=metric, verbose=1, n_jobs=-1) # , pre_dispatch='2*n_jobs', pre_dispatch min 2* n_jobs\n",
    "gridCV.fit(x_train, y_train)\n",
    "print(gridCV.best_score_)\n",
    "print(gridCV.best_params_)"
   ]
  },
  {
   "cell_type": "code",
   "execution_count": 45,
   "metadata": {
    "ExecuteTime": {
     "end_time": "2022-05-29T12:19:26.342663Z",
     "start_time": "2022-05-29T12:19:26.328664Z"
    },
    "slideshow": {
     "slide_type": "slide"
    }
   },
   "outputs": [
    {
     "name": "stdout",
     "output_type": "stream",
     "text": [
      "['memory', 'steps', 'svc', 'svc__C', 'svc__break_ties', 'svc__cache_size', 'svc__class_weight', 'svc__coef0', 'svc__decision_function_shape', 'svc__degree', 'svc__gamma', 'svc__kernel', 'svc__max_iter', 'svc__probability', 'svc__random_state', 'svc__shrinking', 'svc__tol', 'svc__verbose', 'tfidfvectorizer', 'tfidfvectorizer__analyzer', 'tfidfvectorizer__binary', 'tfidfvectorizer__decode_error', 'tfidfvectorizer__dtype', 'tfidfvectorizer__encoding', 'tfidfvectorizer__input', 'tfidfvectorizer__lowercase', 'tfidfvectorizer__max_df', 'tfidfvectorizer__max_features', 'tfidfvectorizer__min_df', 'tfidfvectorizer__ngram_range', 'tfidfvectorizer__norm', 'tfidfvectorizer__preprocessor', 'tfidfvectorizer__smooth_idf', 'tfidfvectorizer__stop_words', 'tfidfvectorizer__strip_accents', 'tfidfvectorizer__sublinear_tf', 'tfidfvectorizer__token_pattern', 'tfidfvectorizer__tokenizer', 'tfidfvectorizer__use_idf', 'tfidfvectorizer__vocabulary', 'verbose']\n"
     ]
    }
   ],
   "source": [
    "# Optimal parameter SVM dengan RandomSEARCH\n",
    "# https://scikit-learn.org/stable/modules/generated/sklearn.svm.SVC.html\n",
    "\n",
    "pipeSVM = make_pipeline(TfidfVectorizer(), svm.SVC())\n",
    "print(sorted(pipeSVM.get_params().keys()))"
   ]
  },
  {
   "cell_type": "code",
   "execution_count": 46,
   "metadata": {
    "ExecuteTime": {
     "end_time": "2022-05-29T12:22:24.139231Z",
     "start_time": "2022-05-29T12:19:26.344666Z"
    },
    "slideshow": {
     "slide_type": "slide"
    }
   },
   "outputs": [
    {
     "name": "stdout",
     "output_type": "stream",
     "text": [
      "Fitting 5 folds for each of 30 candidates, totalling 150 fits\n",
      "0.6074721392155603\n",
      "{'tfidfvectorizer__sublinear_tf': True, 'tfidfvectorizer__smooth_idf': True, 'tfidfvectorizer__ngram_range': (1, 3), 'tfidfvectorizer__min_df': 5, 'tfidfvectorizer__max_df': 0.75, 'svc__kernel': 'rbf', 'svc__gamma': 1.0, 'svc__decision_function_shape': 'ovr', 'svc__C': 10}\n"
     ]
    }
   ],
   "source": [
    "# Optimal parameter SVM dengan RandomizedSearch\n",
    "\n",
    "paramsSVM = {}\n",
    "paramsSVM['tfidfvectorizer__min_df'] = [5, 10, 30]\n",
    "paramsSVM['tfidfvectorizer__max_df'] = [0.5, 0.75, 0.95]\n",
    "paramsSVM['tfidfvectorizer__smooth_idf'] = [True] # [True, False]\n",
    "paramsSVM['tfidfvectorizer__sublinear_tf'] = [True] # [True, False]\n",
    "paramsSVM['tfidfvectorizer__ngram_range'] = [(1, 1), (1, 2), (1,3)]\n",
    "paramsSVM['svc__C'] = [0.1, 10, 100] #sp.stats.uniform(scale=1)\n",
    "paramsSVM['svc__gamma'] = [1.0, 0.1, 0.001]\n",
    "paramsSVM['svc__kernel'] = ['rbf', 'poly', 'sigmoid', 'linear']\n",
    "paramsSVM['svc__decision_function_shape'] = ['ovo', 'ovr']\n",
    "\n",
    "randsvmCV = RandomizedSearchCV(pipeSVM, paramsSVM, cv=kCV, scoring=metric, verbose=1, n_iter=30, random_state=seed, n_jobs=-1) # , pre_dispatch='2*n_jobs' pre_dispatch min 2* n_jobs\n",
    "randsvmCV.fit(x_train, y_train)\n",
    "print(randsvmCV.best_score_)\n",
    "print(randsvmCV.best_params_)"
   ]
  },
  {
   "cell_type": "code",
   "execution_count": 47,
   "metadata": {
    "ExecuteTime": {
     "end_time": "2022-05-29T12:22:24.155230Z",
     "start_time": "2022-05-29T12:22:24.140244Z"
    },
    "slideshow": {
     "slide_type": "slide"
    }
   },
   "outputs": [
    {
     "name": "stdout",
     "output_type": "stream",
     "text": [
      "['memory', 'mlpclassifier', 'mlpclassifier__activation', 'mlpclassifier__alpha', 'mlpclassifier__batch_size', 'mlpclassifier__beta_1', 'mlpclassifier__beta_2', 'mlpclassifier__early_stopping', 'mlpclassifier__epsilon', 'mlpclassifier__hidden_layer_sizes', 'mlpclassifier__learning_rate', 'mlpclassifier__learning_rate_init', 'mlpclassifier__max_fun', 'mlpclassifier__max_iter', 'mlpclassifier__momentum', 'mlpclassifier__n_iter_no_change', 'mlpclassifier__nesterovs_momentum', 'mlpclassifier__power_t', 'mlpclassifier__random_state', 'mlpclassifier__shuffle', 'mlpclassifier__solver', 'mlpclassifier__tol', 'mlpclassifier__validation_fraction', 'mlpclassifier__verbose', 'mlpclassifier__warm_start', 'steps', 'tfidfvectorizer', 'tfidfvectorizer__analyzer', 'tfidfvectorizer__binary', 'tfidfvectorizer__decode_error', 'tfidfvectorizer__dtype', 'tfidfvectorizer__encoding', 'tfidfvectorizer__input', 'tfidfvectorizer__lowercase', 'tfidfvectorizer__max_df', 'tfidfvectorizer__max_features', 'tfidfvectorizer__min_df', 'tfidfvectorizer__ngram_range', 'tfidfvectorizer__norm', 'tfidfvectorizer__preprocessor', 'tfidfvectorizer__smooth_idf', 'tfidfvectorizer__stop_words', 'tfidfvectorizer__strip_accents', 'tfidfvectorizer__sublinear_tf', 'tfidfvectorizer__token_pattern', 'tfidfvectorizer__tokenizer', 'tfidfvectorizer__use_idf', 'tfidfvectorizer__vocabulary', 'verbose']\n"
     ]
    }
   ],
   "source": [
    "# Optimal parameter ANN dengan RandomSEARCH\n",
    "# https://scikit-learn.org/stable/modules/generated/sklearn.neural_network.MLPClassifier.html\n",
    "\n",
    "pipeNN = make_pipeline(TfidfVectorizer(), MLPClassifier())\n",
    "print(sorted(pipeNN.get_params().keys()))"
   ]
  },
  {
   "cell_type": "code",
   "execution_count": 48,
   "metadata": {
    "ExecuteTime": {
     "end_time": "2022-05-29T12:27:50.152063Z",
     "start_time": "2022-05-29T12:22:24.156231Z"
    },
    "slideshow": {
     "slide_type": "slide"
    }
   },
   "outputs": [
    {
     "name": "stdout",
     "output_type": "stream",
     "text": [
      "Fitting 5 folds for each of 30 candidates, totalling 150 fits\n",
      "0.5800556412398518\n",
      "{'tfidfvectorizer__sublinear_tf': True, 'tfidfvectorizer__smooth_idf': True, 'tfidfvectorizer__ngram_range': (1, 1), 'tfidfvectorizer__min_df': 30, 'tfidfvectorizer__max_df': 0.75, 'mlpclassifier__learning_rate': 'constant', 'mlpclassifier__hidden_layer_sizes': (5, 10), 'mlpclassifier__activation': 'logistic'}\n"
     ]
    }
   ],
   "source": [
    "paramsNN = {}\n",
    "paramsNN['tfidfvectorizer__min_df'] = [5, 10, 30]\n",
    "paramsNN['tfidfvectorizer__max_df'] = [0.5, 0.75, 0.95]\n",
    "paramsNN['tfidfvectorizer__smooth_idf'] = [True] # [True, False]\n",
    "paramsNN['tfidfvectorizer__sublinear_tf'] = [True] # [True, False]\n",
    "paramsNN['tfidfvectorizer__ngram_range'] = [(1, 1), (1, 2), (1,3)]\n",
    "paramsNN['mlpclassifier__hidden_layer_sizes'] = [(5,10), (20,30), (30,50)] \n",
    "paramsNN['mlpclassifier__learning_rate'] = ['constant', 'invscaling', 'adaptive']\n",
    "paramsNN['mlpclassifier__activation'] = ['logistic', 'tanh', 'relu' ]\n",
    "\n",
    "randNnCV = RandomizedSearchCV(pipeNN, paramsNN, cv=kCV, scoring=metric, verbose=1, n_iter=30, random_state=seed, n_jobs=-1) # , pre_dispatch='2*n_jobs' pre_dispatch min 2* n_jobs\n",
    "randNnCV.fit(x_train, y_train)\n",
    "print(randNnCV.best_score_)\n",
    "print(randNnCV.best_params_)"
   ]
  },
  {
   "cell_type": "code",
   "execution_count": 49,
   "metadata": {
    "ExecuteTime": {
     "end_time": "2022-05-29T12:27:50.168063Z",
     "start_time": "2022-05-29T12:27:50.153065Z"
    },
    "slideshow": {
     "slide_type": "slide"
    }
   },
   "outputs": [
    {
     "data": {
      "text/plain": [
       "array([0.54639001, 0.53840772, 0.51827639, 0.55460453, 0.52359933,\n",
       "       0.53030982, 0.55448838, 0.53563148, 0.54268852, 0.52221205])"
      ]
     },
     "execution_count": 49,
     "metadata": {},
     "output_type": "execute_result"
    }
   ],
   "source": [
    "knn_score = gridCV.cv_results_['mean_test_score'][:10]\n",
    "svm_score = randsvmCV.cv_results_['mean_test_score'][:10]\n",
    "ann_score = randNnCV.cv_results_['mean_test_score'][:10]\n",
    "ann_score"
   ]
  },
  {
   "cell_type": "code",
   "execution_count": 50,
   "metadata": {
    "ExecuteTime": {
     "end_time": "2022-05-29T12:27:50.248064Z",
     "start_time": "2022-05-29T12:27:50.169063Z"
    },
    "slideshow": {
     "slide_type": "slide"
    }
   },
   "outputs": [
    {
     "name": "stdout",
     "output_type": "stream",
     "text": [
      "Accuracy kNN: 0.39 (+/- 0.06)\n",
      "Accuracy SVM: 0.53 (+/- 0.09)\n",
      "Accuracy NN: 0.54 (+/- 0.02)\n"
     ]
    },
    {
     "data": {
      "image/png": "[encoded data removed]",
      "text/plain": [
       "<Figure size 640x480 with 1 Axes>"
      ]
     },
     "metadata": {},
     "output_type": "display_data"
    }
   ],
   "source": [
    "import seaborn as sns, matplotlib.pyplot as plt\n",
    "\n",
    "models = ['kNN', 'SVM', 'NN']\n",
    "scores = [knn_score, svm_score, ann_score]\n",
    "\n",
    "data = {m:s for m,s in zip(models, scores)}\n",
    "for name in data.keys():\n",
    "    print(\"Accuracy %s: %0.2f (+/- %0.2f)\" % (name, data[name].mean(), data[name].std() * 2))\n",
    "\n",
    "sns.boxplot(data=pd.DataFrame(data), orient='h')\n",
    "plt.show()"
   ]
  },
  {
   "cell_type": "markdown",
   "metadata": {
    "slideshow": {
     "slide_type": "slide"
    }
   },
   "source": [
    "## “meta-algorithms” : Bagging & Boosting\n",
    "* Ensemble https://www.youtube.com/watch?v=Un9zObFjBH0 \n",
    "* Bagging https://www.youtube.com/watch?v=2Mg8QD0F1dQ \n",
    "* Boosting https://www.youtube.com/watch?v=GM3CDQfQ4sw"
   ]
  },
  {
   "cell_type": "code",
   "execution_count": 51,
   "metadata": {
    "ExecuteTime": {
     "end_time": "2022-05-29T12:28:02.285538Z",
     "start_time": "2022-05-29T12:27:50.249064Z"
    },
    "slideshow": {
     "slide_type": "slide"
    }
   },
   "outputs": [
    {
     "name": "stdout",
     "output_type": "stream",
     "text": [
      "Akurasi k-NN =  0.46494802711907973\n",
      "Akurasi SVM =  0.6074721392155603\n",
      "Akurasi ANN =  0.5800556412398518\n",
      "Akurasi Ensemble =  0.562904717853839\n"
     ]
    }
   ],
   "source": [
    "# Contoh Voting (Bagging) di Python\n",
    "# Kita menggunakan semua parameter optimal dari langkah sebelumnya\n",
    "from sklearn.ensemble import AdaBoostClassifier, VotingClassifier\n",
    "\n",
    "x_train, x_test, y_train, y_test = train_test_split(dataSA[\"tweet_cleaned\"], dataSA[\"sentimen\"], \n",
    "                                                    test_size=testSize, random_state = seed)\n",
    "                                                    \n",
    "vsm = TfidfVectorizer(lowercase=True, smooth_idf= True, sublinear_tf=True, \n",
    "                                   ngram_range=(1, 1), max_df=0.95, min_df=10)\n",
    "\n",
    "x_train = vsm.fit_transform(x_train) # \"Fit_Transform\"\n",
    "x_test = vsm.transform(x_test) # Perhatikan disini hanya \"Transform\"\n",
    "\n",
    "kNN = neighbors.KNeighborsClassifier(n_neighbors=10, weights='distance')\n",
    "SVM = svm.SVC(C=0.1, gamma=1, kernel='rbf', decision_function_shape='ovr')\n",
    "ann = MLPClassifier(hidden_layer_sizes=(5, 10), learning_rate='invscaling', activation='logistic')\n",
    "\n",
    "ensemble = VotingClassifier(estimators=[('k-NN', kNN), ('SVM', SVM), ('ANN', ann)], voting='hard')\n",
    "ensemble.fit(x_train, y_train)\n",
    "y_ens = ensemble.score(x_test, y_test)\n",
    "\n",
    "print('Akurasi k-NN = ', gridCV.best_score_)\n",
    "print('Akurasi SVM = ', randsvmCV.best_score_)\n",
    "print('Akurasi ANN = ', randNnCV.best_score_)\n",
    "print('Akurasi Ensemble = ', y_ens)"
   ]
  },
  {
   "cell_type": "code",
   "execution_count": 52,
   "metadata": {
    "ExecuteTime": {
     "end_time": "2022-05-29T12:28:39.201967Z",
     "start_time": "2022-05-29T12:28:02.286538Z"
    }
   },
   "outputs": [
    {
     "name": "stdout",
     "output_type": "stream",
     "text": [
      "Akurasi k-NN =  0.46494802711907973\n",
      "Akurasi SVM =  0.6074721392155603\n",
      "Akurasi ANN =  0.5800556412398518\n",
      "Akurasi Ensemble =  0.6086956521739131\n"
     ]
    }
   ],
   "source": [
    "kNN = neighbors.KNeighborsClassifier(n_neighbors=10, weights='distance')\n",
    "SVM = svm.SVC(C=0.1, gamma=1, kernel='rbf', decision_function_shape='ovr', probability=True)\n",
    "ann = MLPClassifier(hidden_layer_sizes=(5, 10), learning_rate='invscaling', activation='logistic')\n",
    "\n",
    "ensemble = VotingClassifier(estimators=[('k-NN', kNN), ('SVM', SVM), ('ANN', ann)], voting='soft')\n",
    "ensemble.fit(x_train, y_train)\n",
    "y_ens = ensemble.score(x_test, y_test)\n",
    "\n",
    "print('Akurasi k-NN = ', gridCV.best_score_)\n",
    "print('Akurasi SVM = ', randsvmCV.best_score_)\n",
    "print('Akurasi ANN = ', randNnCV.best_score_)\n",
    "print('Akurasi Ensemble = ', y_ens)"
   ]
  },
  {
   "cell_type": "code",
   "execution_count": 53,
   "metadata": {
    "ExecuteTime": {
     "end_time": "2022-05-29T12:28:45.615320Z",
     "start_time": "2022-05-29T12:28:39.202967Z"
    }
   },
   "outputs": [
    {
     "name": "stdout",
     "output_type": "stream",
     "text": [
      "[[2140  145   41]\n",
      " [  65 4095   64]\n",
      " [  42  158 1894]]\n"
     ]
    },
    {
     "data": {
      "image/png": "[encoded data removed]",
      "text/plain": [
       "<Figure size 800x800 with 2 Axes>"
      ]
     },
     "metadata": {},
     "output_type": "display_data"
    }
   ],
   "source": [
    "from sklearn.metrics import plot_confusion_matrix\n",
    "\n",
    "fig, ax = plt.subplots(figsize=(10,10))\n",
    "plt.rcParams.update({'font.size': 14})\n",
    "class_names = [\"Negatif\", \"Netral\", \"Positif\"]\n",
    "disp = plot_confusion_matrix(ensemble, x_train, y_train, display_labels=class_names, cmap=plt.cm.Blues, ax=ax)# , normalize='true'\n",
    "disp.ax_.set_title(\"Confusion Matrix - Training\")\n",
    "print(disp.confusion_matrix)"
   ]
  },
  {
   "cell_type": "code",
   "execution_count": 54,
   "metadata": {
    "ExecuteTime": {
     "end_time": "2022-05-29T12:28:47.179320Z",
     "start_time": "2022-05-29T12:28:45.617320Z"
    }
   },
   "outputs": [
    {
     "name": "stdout",
     "output_type": "stream",
     "text": [
      "              precision    recall  f1-score   support\n",
      "\n",
      "          -1       0.60      0.38      0.46       561\n",
      "           0       0.64      0.77      0.70      1103\n",
      "           1       0.52      0.50      0.51       498\n",
      "\n",
      "    accuracy                           0.61      2162\n",
      "   macro avg       0.59      0.55      0.56      2162\n",
      "weighted avg       0.60      0.61      0.60      2162\n",
      "\n"
     ]
    }
   ],
   "source": [
    "# Compared to training error to make sure overfitting not happening\n",
    "ensemble_pred = ensemble.predict(x_test)\n",
    "print(classification_report(y_test, ensemble_pred))"
   ]
  },
  {
   "cell_type": "markdown",
   "metadata": {},
   "source": [
    "# End of Module\n",
    "\n",
    "<hr />\n",
    "<p><img alt=\"\" src=\"images/meme-cartoon/6_ML_Class.jpg\" style=\"height:495px; width:640px\" /></p>\n"
   ]
  }
 ],
 "metadata": {
  "celltoolbar": "Slideshow",
  "hide_input": false,
  "kernelspec": {
   "display_name": "Python 3 (ipykernel)",
   "language": "python",
   "name": "python3"
  },
  "language_info": {
   "codemirror_mode": {
    "name": "ipython",
    "version": 3
   },
   "file_extension": ".py",
   "mimetype": "text/x-python",
   "name": "python",
   "nbconvert_exporter": "python",
   "pygments_lexer": "ipython3",
   "version": "3.9.12"
  },
  "latex_envs": {
   "LaTeX_envs_menu_present": true,
   "autoclose": false,
   "autocomplete": false,
   "bibliofile": "biblio.bib",
   "cite_by": "apalike",
   "current_citInitial": 1,
   "eqLabelWithNumbers": true,
   "eqNumInitial": 1,
   "hotkeys": {
    "equation": "Ctrl-E",
    "itemize": "Ctrl-I"
   },
   "labels_anchors": false,
   "latex_user_defs": false,
   "report_style_numbering": false,
   "user_envs_cfg": false
  }
 },
 "nbformat": 4,
 "nbformat_minor": 2
}
