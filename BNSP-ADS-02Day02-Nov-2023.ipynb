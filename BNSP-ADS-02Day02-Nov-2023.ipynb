{
 "cells": [
  {
   "cell_type": "markdown",
   "id": "8a4a2e31",
   "metadata": {},
   "source": [
    "<center><h1><strong><font color=\"blue\">Pelatihan Asociate Data Scientist (ADS) - Module 03 Hari 02</font></strong></h1></center>\n",
    "\n",
    "<img alt=\"\" src=\"images/covers/cover_uin-aptikom-taudata.jpg\"/>"
   ]
  },
  {
   "cell_type": "markdown",
   "id": "383e44eb",
   "metadata": {},
   "source": [
    "# <center><font color=\"blue\">  Variabel target (dependent) dan prediktor (independent)</font></center>\n",
    "\n",
    "<img style=\"undefined: undefined;\" src=\"images/Dependent-Independent.png\" />\n",
    "\n",
    "* **Variable Target**: adalah satu atau lebih variabel yang dipengaruhi oleh satu atau lebih variabel yang lain.\n",
    "Contoh: Variabel gaji dipengaruhi oleh variabel lama kerja, pangkat serta jabatan seorang pegawai.\n",
    "Variable \n",
    "* **Variabel Prediktor** : adalah satu atau lebih variabel yang mempengaruhi satu atau lebih variabel yang lain.\n",
    "Contoh: Variabel kecepatan mempengaruhi waktu tempuh perjalanan.\n",
    "* **Variabel Kontrol**: adalah variabel/elemen yang nilainya tetap (konstan), biasanya pada suatu eksperimen untuk menguji hubungan antara variabel target dan prediktor.\n",
    "Contoh: Penggunaan Placebo (obat palsu) pada penelitian/eksperimen efek suatu obat tertentu.\n",
    "* **Variable Confounding** Biasa juga disebut sebagai “variabel ketiga” atau “variabel mediator”, yaitu suatu (extra*) variabel yang mempengaruhi hubungan antara variabel dependent dan independent.\n",
    "Contoh: Pada penelitian tentang dampak olahraga (prediktor) terhadap berat badan (target), maka variabel lain seperti pola makan dan usia juga akan mempengaruhi."
   ]
  },
  {
   "cell_type": "markdown",
   "id": "0efe15d7",
   "metadata": {
    "slideshow": {
     "slide_type": "slide"
    }
   },
   "source": [
    "# <center><font color=\"blue\">Pentingnya Domain Knowledge</font></center>\n",
    "\n",
    "<img alt=\"\" src=\"images/meme-cartoon/meme-dependent-independent var.jpg\"/>"
   ]
  },
  {
   "cell_type": "markdown",
   "id": "bebeda7d",
   "metadata": {},
   "source": [
    "# <center><font color=\"blue\">Bentuk Struktur Data Masalah Klasifikasi</font></center>\n",
    "\n",
    "* Klasifikasi adalah permasalahan meng-kategorisasikan sekelompok observasi baru ke sekumpulan kategori (kelas) yang ada sebelumnya. \n",
    "* Mengacu ke Gambar dibawah, klasifikasi digunakan jika variabel target bertipe kategorik dan prediktornya satu atau lebih variabel numerik dan-atau kategorik. \n",
    "\n",
    "<p><img src=\"images/iris_flower.png\" alt=\"\" width=\"414\" height=\"310\" /></p>"
   ]
  },
  {
   "cell_type": "markdown",
   "id": "993466c5",
   "metadata": {},
   "source": [
    "# <center><font color=\"blue\">Aplikasi Model Klasifikasi</font></center>\n",
    "\n",
    "<img alt=\"\" src=\"images/DL/machine learning classification applications.png\"/>"
   ]
  },
  {
   "cell_type": "markdown",
   "id": "4836bd0f",
   "metadata": {},
   "source": [
    "# <center><font color=\"blue\"> Berbagai Pendekatan ke Klasifikasi</font></center>\n",
    "\n",
    "* Terdapat cukup banyak model klasifikasi yang dapat digunakan, mulai dari yang klasik seperti Linear Discriminant Analysis (LDA) dan regresi logistik, lalu ke moderate seperti SVM (support vector machines), decision tree dan neural network (jaringan syaraf tiruan), sampai yang lebih terkini seperti random forest,  dan deep learning. \n",
    "* Masing-masing memiliki kelebihan dan kekurangan masing-masing bergantung pada bagaimana model/algoritmanya. \n",
    "\n",
    "<img alt=\"\" src=\"images/5_Clus-Clas.png\" />"
   ]
  },
  {
   "cell_type": "markdown",
   "id": "c64e3faa",
   "metadata": {},
   "source": [
    "# <center><font color=\"blue\">Induktif Bias Sebagai Dasar Penting untuk Mengerti SEMUA model Data Science dan Machine Learning</font></center>\n",
    "\n",
    "<ul>\n",
    "\t<li>Bias penaksiran parameter (statistik)</li>\n",
    "\t<li>Induktif Bias Sample (Machine Learning - Tom Mitchel)</li>\n",
    "\t<li>Induktif Bias Pemilihan Classifier (Statistical Learning Theory - Vapnik)</li>\n",
    "</ul>\n",
    "\n",
    "<img alt=\"\" src=\"images/inductive_biases_.png\" style=\"width: 600px; height: 153px;\" />\n",
    "<img alt=\"\" src=\"images/class.png\" />"
   ]
  },
  {
   "cell_type": "markdown",
   "id": "2dcd5fac",
   "metadata": {},
   "source": [
    "# <center><font color=\"blue\">Permasalahan Klasifikasi</font></center>\n",
    "\n",
    "<p><img alt=\"\" src=\"images/masalah_klasifikasi.png\" /></p>\n",
    "\n",
    "* Misal diberikan permasalahan terdapat dua buah kategori orange dan ungu seperti di gambar.\n",
    "* Setiap titik di ganmbar adalah entitas dari data yang terdiri dari beberapa variabel.\n",
    "* Jika diberikan titik baru (warna putih), maka masalah klasifikkasi adalah kemudian menggolongkan data baru ini ke kategori titik Orange atau Ungu.\n",
    "\n",
    "## <font color=\"green\">Mari membahas teori Bersamaan Dengan Implementasinya</font>"
   ]
  },
  {
   "cell_type": "code",
   "execution_count": 3,
   "id": "4a924674",
   "metadata": {},
   "outputs": [
    {
     "data": {
      "text/plain": [
       "'Done'"
      ]
     },
     "execution_count": 3,
     "metadata": {},
     "output_type": "execute_result"
    }
   ],
   "source": [
    "import warnings; warnings.simplefilter('ignore')\n",
    "import pandas as pd, matplotlib.pyplot as plt\n",
    "import time, numpy as np, seaborn as sns\n",
    "from sklearn import  tree\n",
    "from sklearn.linear_model import LogisticRegression\n",
    "from sklearn.model_selection import train_test_split\n",
    "from sklearn.metrics import confusion_matrix, classification_report\n",
    "from sklearn.metrics import precision_score, recall_score, f1_score\n",
    "from sklearn.model_selection import cross_val_score\n",
    "sns.set(style=\"ticks\", color_codes=True)\n",
    "\"Done\""
   ]
  },
  {
   "cell_type": "code",
   "execution_count": 4,
   "id": "b0138a34",
   "metadata": {},
   "outputs": [
    {
     "name": "stdout",
     "output_type": "stream",
     "text": [
      "baris =  48790 , Kolom (jumlah variabel) =  106\n"
     ]
    },
    {
     "data": {
      "text/html": [
       "<div>\n",
       "<style scoped>\n",
       "    .dataframe tbody tr th:only-of-type {\n",
       "        vertical-align: middle;\n",
       "    }\n",
       "\n",
       "    .dataframe tbody tr th {\n",
       "        vertical-align: top;\n",
       "    }\n",
       "\n",
       "    .dataframe thead th {\n",
       "        text-align: right;\n",
       "    }\n",
       "</style>\n",
       "<table border=\"1\" class=\"dataframe\">\n",
       "  <thead>\n",
       "    <tr style=\"text-align: right;\">\n",
       "      <th></th>\n",
       "      <th>Umur</th>\n",
       "      <th>fnlwgt</th>\n",
       "      <th>KelasPendidikan</th>\n",
       "      <th>Gain</th>\n",
       "      <th>Loss</th>\n",
       "      <th>JamKerjaHarian</th>\n",
       "      <th>Penghasilan</th>\n",
       "      <th>_Federal-gov</th>\n",
       "      <th>_Local-gov</th>\n",
       "      <th>_Never-worked</th>\n",
       "      <th>...</th>\n",
       "      <th>_Portugal</th>\n",
       "      <th>_Puerto-Rico</th>\n",
       "      <th>_Scotland</th>\n",
       "      <th>_South</th>\n",
       "      <th>_Taiwan</th>\n",
       "      <th>_Thailand</th>\n",
       "      <th>_Trinadad&amp;Tobago</th>\n",
       "      <th>_United-States</th>\n",
       "      <th>_Vietnam</th>\n",
       "      <th>_Yugoslavia</th>\n",
       "    </tr>\n",
       "  </thead>\n",
       "  <tbody>\n",
       "    <tr>\n",
       "      <th>0</th>\n",
       "      <td>39</td>\n",
       "      <td>77516</td>\n",
       "      <td>13</td>\n",
       "      <td>2174</td>\n",
       "      <td>0</td>\n",
       "      <td>40</td>\n",
       "      <td>&lt;=50K</td>\n",
       "      <td>False</td>\n",
       "      <td>False</td>\n",
       "      <td>False</td>\n",
       "      <td>...</td>\n",
       "      <td>False</td>\n",
       "      <td>False</td>\n",
       "      <td>False</td>\n",
       "      <td>False</td>\n",
       "      <td>False</td>\n",
       "      <td>False</td>\n",
       "      <td>False</td>\n",
       "      <td>True</td>\n",
       "      <td>False</td>\n",
       "      <td>False</td>\n",
       "    </tr>\n",
       "    <tr>\n",
       "      <th>1</th>\n",
       "      <td>50</td>\n",
       "      <td>83311</td>\n",
       "      <td>13</td>\n",
       "      <td>0</td>\n",
       "      <td>0</td>\n",
       "      <td>13</td>\n",
       "      <td>&lt;=50K</td>\n",
       "      <td>False</td>\n",
       "      <td>False</td>\n",
       "      <td>False</td>\n",
       "      <td>...</td>\n",
       "      <td>False</td>\n",
       "      <td>False</td>\n",
       "      <td>False</td>\n",
       "      <td>False</td>\n",
       "      <td>False</td>\n",
       "      <td>False</td>\n",
       "      <td>False</td>\n",
       "      <td>True</td>\n",
       "      <td>False</td>\n",
       "      <td>False</td>\n",
       "    </tr>\n",
       "    <tr>\n",
       "      <th>2</th>\n",
       "      <td>38</td>\n",
       "      <td>215646</td>\n",
       "      <td>9</td>\n",
       "      <td>0</td>\n",
       "      <td>0</td>\n",
       "      <td>40</td>\n",
       "      <td>&lt;=50K</td>\n",
       "      <td>False</td>\n",
       "      <td>False</td>\n",
       "      <td>False</td>\n",
       "      <td>...</td>\n",
       "      <td>False</td>\n",
       "      <td>False</td>\n",
       "      <td>False</td>\n",
       "      <td>False</td>\n",
       "      <td>False</td>\n",
       "      <td>False</td>\n",
       "      <td>False</td>\n",
       "      <td>True</td>\n",
       "      <td>False</td>\n",
       "      <td>False</td>\n",
       "    </tr>\n",
       "    <tr>\n",
       "      <th>3</th>\n",
       "      <td>53</td>\n",
       "      <td>234721</td>\n",
       "      <td>7</td>\n",
       "      <td>0</td>\n",
       "      <td>0</td>\n",
       "      <td>40</td>\n",
       "      <td>&lt;=50K</td>\n",
       "      <td>False</td>\n",
       "      <td>False</td>\n",
       "      <td>False</td>\n",
       "      <td>...</td>\n",
       "      <td>False</td>\n",
       "      <td>False</td>\n",
       "      <td>False</td>\n",
       "      <td>False</td>\n",
       "      <td>False</td>\n",
       "      <td>False</td>\n",
       "      <td>False</td>\n",
       "      <td>True</td>\n",
       "      <td>False</td>\n",
       "      <td>False</td>\n",
       "    </tr>\n",
       "    <tr>\n",
       "      <th>4</th>\n",
       "      <td>28</td>\n",
       "      <td>338409</td>\n",
       "      <td>13</td>\n",
       "      <td>0</td>\n",
       "      <td>0</td>\n",
       "      <td>40</td>\n",
       "      <td>&lt;=50K</td>\n",
       "      <td>False</td>\n",
       "      <td>False</td>\n",
       "      <td>False</td>\n",
       "      <td>...</td>\n",
       "      <td>False</td>\n",
       "      <td>False</td>\n",
       "      <td>False</td>\n",
       "      <td>False</td>\n",
       "      <td>False</td>\n",
       "      <td>False</td>\n",
       "      <td>False</td>\n",
       "      <td>False</td>\n",
       "      <td>False</td>\n",
       "      <td>False</td>\n",
       "    </tr>\n",
       "  </tbody>\n",
       "</table>\n",
       "<p>5 rows × 106 columns</p>\n",
       "</div>"
      ],
      "text/plain": [
       "   Umur  fnlwgt  KelasPendidikan  Gain  Loss  JamKerjaHarian Penghasilan  \\\n",
       "0    39   77516               13  2174     0              40       <=50K   \n",
       "1    50   83311               13     0     0              13       <=50K   \n",
       "2    38  215646                9     0     0              40       <=50K   \n",
       "3    53  234721                7     0     0              40       <=50K   \n",
       "4    28  338409               13     0     0              40       <=50K   \n",
       "\n",
       "   _Federal-gov  _Local-gov  _Never-worked  ...  _Portugal  _Puerto-Rico  \\\n",
       "0         False       False          False  ...      False         False   \n",
       "1         False       False          False  ...      False         False   \n",
       "2         False       False          False  ...      False         False   \n",
       "3         False       False          False  ...      False         False   \n",
       "4         False       False          False  ...      False         False   \n",
       "\n",
       "   _Scotland  _South  _Taiwan  _Thailand  _Trinadad&Tobago  _United-States  \\\n",
       "0      False   False    False      False             False            True   \n",
       "1      False   False    False      False             False            True   \n",
       "2      False   False    False      False             False            True   \n",
       "3      False   False    False      False             False            True   \n",
       "4      False   False    False      False             False           False   \n",
       "\n",
       "   _Vietnam  _Yugoslavia  \n",
       "0     False        False  \n",
       "1     False        False  \n",
       "2     False        False  \n",
       "3     False        False  \n",
       "4     False        False  \n",
       "\n",
       "[5 rows x 106 columns]"
      ]
     },
     "execution_count": 4,
     "metadata": {},
     "output_type": "execute_result"
    }
   ],
   "source": [
    "# Loading Data Preprocessed (Belum Lengkap!)\n",
    "file_ = 'data/adult_PreProcessed.csv'\n",
    "try: # Running Locally, yakinkan \"file_\" berada di folder \"data\"\n",
    "    df = pd.read_csv(file_)\n",
    "except: # Running in Google Colab\n",
    "    !mkdir data\n",
    "    !wget -P data/ https://raw.githubusercontent.com/taudataanalytics/eLearning/master/data/adult.csv\n",
    "    df = pd.read_csv(file_)\n",
    "    \n",
    "N, P = df.shape # Ukuran Data\n",
    "print('baris = ', N, ', Kolom (jumlah variabel) = ', P)\n",
    "df.head()"
   ]
  },
  {
   "cell_type": "markdown",
   "id": "ebf78345",
   "metadata": {},
   "source": [
    "# <center><font color=\"blue\">Sebelum dimulai Data Kita Pisahkan Menjadi Train dan Test: Mengapa?</font></center>\n",
    "\n",
    "<p><img src=\"images/data train val test separation.png\" width=\"416\" height=\"327\" /></p>\n",
    "\n",
    "* Bagaimana membagi Porsi Train VS Porsi Test Data?\n",
    "* <font color=\"red\">**Hati-hati** dalam memisahkan data Train dan Test: Mengapa?\n",
    "</font>\n",
    "* Random State Penting!\n",
    "* Berapa persen train dan Test?"
   ]
  },
  {
   "cell_type": "code",
   "execution_count": 5,
   "id": "ad1b1247",
   "metadata": {},
   "outputs": [
    {
     "name": "stdout",
     "output_type": "stream",
     "text": [
      "(34153, 105) (34153,)\n",
      "(14637, 105) (14637,)\n"
     ]
    }
   ],
   "source": [
    "predictor = df.loc[:, ~df.columns.isin(['Penghasilan'])]\n",
    "target = df['Penghasilan']\n",
    "\n",
    "xTrain, xTest, yTrain, yTest = train_test_split(predictor, target, test_size=0.3, random_state=33)\n",
    "print(xTrain.shape, yTrain.shape)\n",
    "print(xTest.shape, yTest.shape)"
   ]
  },
  {
   "cell_type": "code",
   "execution_count": 16,
   "id": "dc4a65c8",
   "metadata": {},
   "outputs": [
    {
     "data": {
      "image/png": "[encoded data removed]",
      "text/plain": [
       "<Figure size 640x480 with 1 Axes>"
      ]
     },
     "metadata": {},
     "output_type": "display_data"
    },
    {
     "name": "stdout",
     "output_type": "stream",
     "text": [
      "Counter({'<=50K': 37109, '>50K': 11681})\n",
      "<50k =  76.05861856937896 % 50k =  23.94138143062103 %\n"
     ]
    }
   ],
   "source": [
    "# Visual Python: Visualization > Seaborn\n",
    "from collections import Counter\n",
    "\n",
    "sns.countplot(data=df, x='Penghasilan')\n",
    "plt.show()\n",
    "\n",
    "D = Counter(df['Penghasilan'])\n",
    "print(D)\n",
    "print(\"<50k = \", D['<=50K']*100/(len(df['Penghasilan'])), '% 50k = ',D['>50K']*100/(len(df['Penghasilan'])) ,'%')"
   ]
  },
  {
   "cell_type": "markdown",
   "id": "3c1e80e9",
   "metadata": {
    "slideshow": {
     "slide_type": "slide"
    }
   },
   "source": [
    "# <center><font color=\"blue\">Klasifikasi dengan Model Regresi Logistik</font></center>\n",
    "\n",
    "<p><img alt=\"\" src=\"images/klas_regLogistik.png\" /></p>\n",
    "\n",
    "* Mencari garis lurus yang sedemikian sehingga kesalahan prediksinya sekecil mungkin (lihat gambar)\n",
    "* Awalnya regresi logistik adalah metode klasifikasi binary: membedakan antara 2 kelas atau kategori.\n",
    "* Masalah klasifikasi binary contohnya memprediksi seseorang terkena \"kanker\" atau \"tidak kanker\", kanker jinak/ganas, fraud atau bukan fraud (pada transaksi keuangan), negatif/positif dalam sentimen analisis, dsb.\n",
    "* Regresi logistik adalah pengembangan dari model regresi liniear, namun di konversi ke masalah klasifikasi."
   ]
  },
  {
   "cell_type": "markdown",
   "id": "d4c3f5a9",
   "metadata": {
    "slideshow": {
     "slide_type": "slide"
    }
   },
   "source": [
    "# <center><font color=\"blue\">Regresi Logistik</font></center>\n",
    "\n",
    "<p><img src=\"images/reg_to_log.png\" alt=\"\" width=\"591\" height=\"298\" /></p>\n",
    "\n",
    "* http://www.saedsayad.com/logistic_regression.htm\n",
    "* Makna fungsi logarithm?\n",
    "* Konsekuensi dari rumus $\\beta$ diatas?\n",
    "* Asumsi?"
   ]
  },
  {
   "cell_type": "markdown",
   "id": "82a13a23",
   "metadata": {},
   "source": [
    "# <center><font color=\"blue\">Kaitan Regresi Logistik dan Neural Network/Deep Learning</font></center>\n",
    "\n",
    "<p><img src=\"images/DL/logReg_NN_DL.png\" alt=\"\" width=\"262\" height=\"263\" /></p>"
   ]
  },
  {
   "cell_type": "markdown",
   "id": "df857b3e",
   "metadata": {
    "slideshow": {
     "slide_type": "slide"
    }
   },
   "source": [
    "<p><img src=\"images/Fungsi_Sigmoid_.png\" alt=\"\" width=\"624\" height=\"416\" /></p>"
   ]
  },
  {
   "cell_type": "markdown",
   "id": "a5688f0a",
   "metadata": {
    "slideshow": {
     "slide_type": "slide"
    }
   },
   "source": [
    "# <center><font color=\"blue\">Kelebihan dan Kekurangan Regresi Logistik</font></center>\n",
    "\n",
    "<p><img alt=\"\" src=\"images/LogReg_When2use.png\" /></p>\n"
   ]
  },
  {
   "cell_type": "code",
   "execution_count": 17,
   "id": "76af60df",
   "metadata": {},
   "outputs": [
    {
     "name": "stdout",
     "output_type": "stream",
     "text": [
      "[[10711   380]\n",
      " [ 2616   930]]\n",
      "              precision    recall  f1-score   support\n",
      "\n",
      "       <=50K       0.80      0.97      0.88     11091\n",
      "        >50K       0.71      0.26      0.38      3546\n",
      "\n",
      "    accuracy                           0.80     14637\n",
      "   macro avg       0.76      0.61      0.63     14637\n",
      "weighted avg       0.78      0.80      0.76     14637\n",
      "\n"
     ]
    }
   ],
   "source": [
    "reglog = LogisticRegression().fit(xTrain, yTrain)\n",
    "prediksi_regLog = reglog.predict(xTest)\n",
    "print(confusion_matrix(yTest, prediksi_regLog))\n",
    "print(classification_report(yTest, prediksi_regLog))"
   ]
  },
  {
   "cell_type": "code",
   "execution_count": 18,
   "id": "8e27c5d0",
   "metadata": {},
   "outputs": [
    {
     "name": "stdout",
     "output_type": "stream",
     "text": [
      "Accuracy Regresi Logistik: 0.80 (+/- 0.01), Waktu = 6.093 detik\n"
     ]
    }
   ],
   "source": [
    "mulai = time.time()\n",
    "scores_regLog = cross_val_score(reglog, predictor, target, cv=10) # perhatikan sekarang kita menggunakan seluruh data\n",
    "waktu = time.time() - mulai\n",
    "print(\"Accuracy Regresi Logistik: %0.2f (+/- %0.2f), Waktu = %0.3f detik\" % (scores_regLog.mean(), scores_regLog.std() * 2, waktu))"
   ]
  },
  {
   "cell_type": "code",
   "execution_count": 19,
   "id": "17d0bf64",
   "metadata": {},
   "outputs": [
    {
     "data": {
      "text/plain": [
       "RegLog    0.79381\n",
       "dtype: float64"
      ]
     },
     "execution_count": 19,
     "metadata": {},
     "output_type": "execute_result"
    },
    {
     "data": {
      "image/png": "[encoded data removed]",
      "text/plain": [
       "<Figure size 640x480 with 1 Axes>"
      ]
     },
     "metadata": {},
     "output_type": "display_data"
    }
   ],
   "source": [
    "# Visualisasi untuk mengevaluasi & membandingkan model dengan lebih baik lagi\n",
    "df_ = pd.DataFrame({'RegLog': scores_regLog})\n",
    "p = sns.boxplot(data = df_)\n",
    "df_.min()"
   ]
  },
  {
   "cell_type": "markdown",
   "id": "311779de",
   "metadata": {},
   "source": [
    "# <center><font color=\"blue\">Seberapa Baik Hasil Prediksi Ini?: Evaluation Metrics</font></center>\n",
    "\n",
    "* https://scikit-learn.org/stable/modules/classes.html#module-sklearn.metrics\n",
    "    \n",
    "<center><img alt=\"\" src=\"images/classification_metrics.png\" style=\"height: 400px;\"/></center>"
   ]
  },
  {
   "cell_type": "markdown",
   "id": "e3030f66",
   "metadata": {},
   "source": [
    "# <center><font color=\"blue\">Confusion Matrix</font></center>\n",
    "\n",
    "<p><img alt=\"\" src=\"images/confusion_matrix.png\" /></p>\n",
    "\n",
    "<ul>\n",
    "\t<li>sensitivity, recall, hit rate, or true positive rate (TPR)</li>\n",
    "\t<li>precision or positive predictive value (PPV)</li>\n",
    "</ul>\n"
   ]
  },
  {
   "cell_type": "markdown",
   "id": "f0572bc6",
   "metadata": {},
   "source": [
    "<p><img alt=\"\" src=\"images/ex-F1-Score.png\" /></p>\n",
    "* Yang mana kategori yang \"positif\"?"
   ]
  },
  {
   "cell_type": "markdown",
   "id": "2edce4f3",
   "metadata": {},
   "source": [
    "<p><img alt=\"\" src=\"images/F-beta-Score.png\" /></p>\n",
    "\n",
    "* $0\\leq F\\leq 1$, 1 optimal value\n",
    "* $0\\leq\\beta< \\inf$\n",
    "* beta < 1 lends more weight to precision, \n",
    "* beta > 1 favors recall \n",
    "* beta -> 0 considers only precision \n",
    "* beta -> inf only recall"
   ]
  },
  {
   "cell_type": "markdown",
   "id": "6f63aae7",
   "metadata": {},
   "source": [
    "# <center><font color=\"blue\">Micro VS Macro Metric</font></center>\n",
    "\n",
    "<p><img src=\"images/micro-vs-macro-f-score.png\" alt=\"\" width=\"790\" height=\"244\" /></p>\n",
    "\n",
    "### <font color=\"green\">Pada 2 kasus diatas:</font>\n",
    "* sebaiknya Micro atau macro?\n",
    "* Mana yang lebih penting Presisi atau Recall?"
   ]
  },
  {
   "cell_type": "code",
   "execution_count": null,
   "id": "852141a0",
   "metadata": {},
   "outputs": [],
   "source": []
  },
  {
   "cell_type": "markdown",
   "id": "c548a737",
   "metadata": {},
   "source": [
    "# <center><font color=\"blue\">Sampel ke Populasi: Underfitting dan overfitting</font></center>\n",
    "\n",
    "<img src=\"images/under-over_Fitting.jpg\" alt=\"\" width=\"564\" height=\"568\" />"
   ]
  },
  {
   "cell_type": "markdown",
   "id": "8156c885",
   "metadata": {},
   "source": [
    "<p><img src=\"images/meme-cartoon/meme overfitting.png\" width=\"556\" height=\"282\" /></p>"
   ]
  },
  {
   "cell_type": "markdown",
   "id": "3f180bc9",
   "metadata": {},
   "source": [
    "# <center><font color=\"blue\">Parsimoni: Simple is the Best</font></center>\n",
    "\n",
    "<img src=\"images/sweet_spot.png\" alt=\"\" width=\"538\" height=\"318\" />"
   ]
  },
  {
   "cell_type": "markdown",
   "id": "e196ef19",
   "metadata": {},
   "source": [
    "# <center><font color=\"blue\">Cross Validation</font></center>\n",
    "\n",
    "* Evaluasi yang kita lakukan belum cukup valid/objektif ... Mengapa?\n",
    "\n",
    "<img alt=\"\" src=\"images/6_Cross_validation.png\" />"
   ]
  },
  {
   "cell_type": "code",
   "execution_count": null,
   "id": "a913b8b1",
   "metadata": {},
   "outputs": [],
   "source": [
    "# Cross validation\n",
    "# Perhatikan variabelnya, kita sekarang menggunakan seluruh data\n",
    "# namun sebaiknya hanya Train data (jika datanya cukup besar)\n",
    "# http://scikit-learn.org/stable/modules/generated/sklearn.model_selection.cross_val_score.html\n",
    "kNN = neighbors.KNeighborsClassifier(n_neighbors, weights=weights)\n",
    "mulai = time.time()\n",
    "scores_kNN = cross_val_score(kNN, df1, y1, cv=10)\n",
    "waktu = time.time() - mulai\n",
    "# Interval Akurasi 95 CI \n",
    "print(\"Accuracy k-NN: %0.2f (+/- %0.2f), Waktu = %0.3f detik\" % (scores_kNN.mean(), scores_kNN.std() * 2, waktu))"
   ]
  },
  {
   "cell_type": "code",
   "execution_count": null,
   "id": "373e3ab4",
   "metadata": {},
   "outputs": [],
   "source": [
    "# Visualisasi untuk mengevaluasi model dengan lebih baik lagi\n",
    "df_ = pd.DataFrame({'kNN': scores_kNN})\n",
    "p = sns.boxplot(data = df_)\n",
    "min(scores_kNN)"
   ]
  },
  {
   "cell_type": "markdown",
   "id": "b745b504",
   "metadata": {},
   "source": [
    "# <center><font color=\"blue\">Decision Tree Analogi</font></center>\n",
    "<img alt=\"\" src=\"images/meme-cartoon/6_DT_meme.png\" />"
   ]
  },
  {
   "cell_type": "markdown",
   "id": "3b7539fe",
   "metadata": {},
   "source": [
    "# <center><font color=\"blue\">Decision Tree (Pohon Keputusan)</font></center>\n",
    "\n",
    "<img alt=\"\" src=\"images/tree_plot.png\" />"
   ]
  },
  {
   "cell_type": "markdown",
   "id": "c152c1ed",
   "metadata": {
    "slideshow": {
     "slide_type": "slide"
    }
   },
   "source": [
    "# <center><font color=\"blue\">Decision Tree (Pohon Keputusan): Contoh Aplikasi</font></center>\n",
    "\n",
    "<img alt=\"\" src=\"images/6_DT.png\" />"
   ]
  },
  {
   "cell_type": "markdown",
   "id": "2f4c2383",
   "metadata": {
    "slideshow": {
     "slide_type": "slide"
    }
   },
   "source": [
    "# <center><font color=\"blue\">Teori Decision Tree : Entropy Formula</font></center>\n",
    "<p><img alt=\"\" src=\"images/Entropy.png\" /></p>"
   ]
  },
  {
   "cell_type": "markdown",
   "id": "37a8c3f6",
   "metadata": {
    "slideshow": {
     "slide_type": "slide"
    }
   },
   "source": [
    "# <center><font color=\"blue\">Teori Decision Tree : Entropy Calculation</font></center>\n",
    "\n",
    "<p><img alt=\"\" src=\"images/Contoh_Entropy.png\" style=\"width: 469px; height: 339px;\" /></p>"
   ]
  },
  {
   "cell_type": "markdown",
   "id": "6d4543be",
   "metadata": {
    "slideshow": {
     "slide_type": "slide"
    }
   },
   "source": [
    "# <center><font color=\"blue\">Teori Decision Tree : Gain Formula</font></center>\n",
    "<p><img alt=\"\" src=\"images/Information_Gain.png\" /></p>"
   ]
  },
  {
   "cell_type": "markdown",
   "id": "1e85445f",
   "metadata": {
    "slideshow": {
     "slide_type": "slide"
    }
   },
   "source": [
    "# <center><font color=\"blue\">Teori Decision Tree : Gain Calculation</font></center>\n",
    "\n",
    "<p><img style=\"undefined: undefined;\" src=\"images/Contoh_Gain.png\" alt=\"\" width=\"527\" height=\"370\" /></p>\n",
    "<ul>\n",
    "<li>Contoh Lain: <a href=\"http://www.saedsayad.com/decision_tree.htm\" target=\"_blank\" rel=\"nofollow noopener\">http://www.saedsayad.com/decision_tree.htm</a></li>\n",
    "<li>Ross Quinlan Website: <a href=\"https://www.rulequest.com/Personal/\" target=\"_blank\" rel=\"nofollow noopener\">https://www.rulequest.com/Personal/</a></li>\n",
    "</ul>"
   ]
  },
  {
   "cell_type": "markdown",
   "id": "15527e04",
   "metadata": {
    "slideshow": {
     "slide_type": "slide"
    }
   },
   "source": [
    "# <center><font color=\"blue\">Teori Decision Tree : Information theory</font></center>\n",
    "\n",
    "<p><img src=\"images/dec_Tree_Theory.png\" alt=\"\" width=\"594\" height=\"334\" /></p>\n",
    "<ul>\n",
    "<li>Alternative to Information Gain : Gini Index (CART): <a href=\"https://medium.com/deep-math-machine-learning-ai/chapter-4-decision-trees-algorithms-b93975f7a1f1\" target=\"_blank\" rel=\"nofollow noopener\">https://medium.com/deep-math-machine-learning-ai/chapter-4-decision-trees-algorithms-b93975f7a1f1</a></li>\n",
    "</ul>"
   ]
  },
  {
   "cell_type": "markdown",
   "id": "5d685fb0",
   "metadata": {
    "slideshow": {
     "slide_type": "slide"
    }
   },
   "source": [
    "# <center><font color=\"blue\"> Pengaruh \"ketinggian\" tree terhadap bentuk model</font></center>\n",
    "\n",
    "<p><img alt=\"\" src=\"images/Dec_Tree_Asumsi_Depth.png\" /></p>"
   ]
  },
  {
   "cell_type": "markdown",
   "id": "8bc32d84",
   "metadata": {
    "slideshow": {
     "slide_type": "slide"
    }
   },
   "source": [
    "# <center><font color=\"blue\">Decision Tree (Pohon Keputusan): Kelebihan & Kekurangan</font></center>\n",
    "\n",
    "<p><u><strong>When to use:</strong></u></p>\n",
    "\n",
    "<ul>\n",
    "\t<li>Target : Binomial/nominal.</li>\n",
    "\t<li>Predictors (input): binomial, nominal, and-or interval (ratio).</li>\n",
    "</ul>\n",
    "\n",
    "<p><u><strong>Advantage:</strong></u></p>\n",
    "\n",
    "<ul>\n",
    "\t<li>Fast and embarrassingly parallel.</li>\n",
    "\t<li>Tanpa iterasi, cocok untuk&nbsp;Big Data technology (e.g. Hadoop)[map-reduce friendly]</li>\n",
    "\t<li>Interpretability</li>\n",
    "\t<li>Robust terhadap outliers &amp; missing values</li>\n",
    "</ul>\n",
    "\n",
    "<p><u><strong>Disadvantage:</strong></u></p>\n",
    "\n",
    "<ul>\n",
    "\t<li>Non probabilistic (ad hoc heuristic) +/-</li>\n",
    "\t<li>Target dengan banyak kelas</li>\n",
    "\t<li>Sensitive (instability)</li>\n",
    "</ul>"
   ]
  },
  {
   "cell_type": "code",
   "execution_count": null,
   "id": "cbcb596c",
   "metadata": {
    "slideshow": {
     "slide_type": "slide"
    }
   },
   "outputs": [],
   "source": [
    "# Decision Tree: http://scikit-learn.org/stable/modules/tree.html\n",
    "DT = tree.DecisionTreeClassifier() \n",
    "# Sengaja menggunakan default parameter, (Hyper)parameter Optimization akan dibahas kemudian\n",
    "DT = DT.fit(df1_train, y1_train)\n",
    "y_DT1 = DT.predict(df1_test)\n",
    "\n",
    "print(confusion_matrix(y1_test, y_DT1))\n",
    "print(classification_report(y1_test, y_DT1))"
   ]
  },
  {
   "cell_type": "code",
   "execution_count": null,
   "id": "e30625e9",
   "metadata": {
    "slideshow": {
     "slide_type": "-"
    }
   },
   "outputs": [],
   "source": [
    "# Varible importance - Salah satu kelebihan Decision Tree\n",
    "DT.feature_importances_"
   ]
  },
  {
   "cell_type": "code",
   "execution_count": null,
   "id": "cd7d2063",
   "metadata": {},
   "outputs": [],
   "source": [
    "clf = tree.DecisionTreeClassifier(random_state=0)\n",
    "clf = clf.fit(df1_train, y1_train)\n",
    "p = tree.plot_tree(clf)"
   ]
  },
  {
   "cell_type": "code",
   "execution_count": null,
   "id": "912036e4",
   "metadata": {},
   "outputs": [],
   "source": [
    "mulai = time.time()\n",
    "scores_dt = cross_val_score(DT, df1, y1, cv=10) # perhatikan sekarang kita menggunakan seluruh data\n",
    "waktu = time.time() - mulai\n",
    "print(\"Accuracy Decision Tree: %0.2f (+/- %0.2f), Waktu = %0.3f detik\" % (scores_dt.mean(), scores_dt.std() * 2, waktu))"
   ]
  },
  {
   "cell_type": "code",
   "execution_count": null,
   "id": "0565887e",
   "metadata": {},
   "outputs": [],
   "source": [
    "# Visualisasi untuk mengevaluasi & membandingkan model dengan lebih baik lagi\n",
    "df_ = pd.DataFrame({'kNN': scores_kNN, 'RegLog': scores_regLog, 'NaiveBys':scores_nb, \"DecTree\":scores_dt})\n",
    "p = sns.boxplot(data = df_)\n",
    "df_.min()"
   ]
  },
  {
   "cell_type": "markdown",
   "id": "4b3c3a21",
   "metadata": {
    "slideshow": {
     "slide_type": "slide"
    }
   },
   "source": [
    "# <center><font color=\"blue\">Hyperparameter Optimization</font></center>\n",
    "\n",
    "<ul>\n",
    "<li>Misal akan dicontohkan dua algoritma (model) yang sudah kita bahas sebelumnya: k-NN dan SVM</li>\n",
    "<li>Sebagai latihan silahkan untuk mencoba HO pada model yang lain.</li>\n",
    "<li>Parameter tiap model di ML berbeda-beda dan nilai optimalnya berbeda pada setiap kasus.</li>\n",
    "</ul>\n",
    "<p><img src=\"images/rand_grid_search.png\" alt=\"\" width=\"811\" height=\"406\" /></p>"
   ]
  },
  {
   "cell_type": "markdown",
   "id": "a1e12b67",
   "metadata": {
    "slideshow": {
     "slide_type": "slide"
    }
   },
   "source": [
    "<img alt=\"\" src=\"images/grid_search_workflow.png\" />"
   ]
  },
  {
   "cell_type": "code",
   "execution_count": 60,
   "id": "1a8268c9",
   "metadata": {
    "slideshow": {
     "slide_type": "slide"
    }
   },
   "outputs": [
    {
     "name": "stdout",
     "output_type": "stream",
     "text": [
      "Fitting 10 folds for each of 16 candidates, totalling 160 fits\n",
      "0.7297726070861978\n",
      "{'kneighborsclassifier__n_neighbors': 20, 'kneighborsclassifier__weights': 'uniform'}\n"
     ]
    }
   ],
   "source": [
    "# Hyperparameter optimization pada model kNN menggunakan gridCV\n",
    "kCV = 10\n",
    "metric = 'accuracy'\n",
    "params = {}\n",
    "params['kneighborsclassifier__n_neighbors'] = [1, 3, 5, 10, 15, 20, 25, 30]\n",
    "params['kneighborsclassifier__weights'] = ('distance', 'uniform')\n",
    "\n",
    "pipe = make_pipeline(neighbors.KNeighborsClassifier())\n",
    "optKnn = GridSearchCV(pipe, params, cv=kCV, scoring=metric, verbose=1, n_jobs=-2) #\n",
    "optKnn.fit(x_train, y_train)\n",
    "print(optKnn.best_score_)\n",
    "print(optKnn.best_params_)"
   ]
  },
  {
   "cell_type": "code",
   "execution_count": 61,
   "id": "9c186988",
   "metadata": {
    "slideshow": {
     "slide_type": "slide"
    }
   },
   "outputs": [
    {
     "name": "stdout",
     "output_type": "stream",
     "text": [
      "['memory', 'steps', 'svc', 'svc__C', 'svc__break_ties', 'svc__cache_size', 'svc__class_weight', 'svc__coef0', 'svc__decision_function_shape', 'svc__degree', 'svc__gamma', 'svc__kernel', 'svc__max_iter', 'svc__probability', 'svc__random_state', 'svc__shrinking', 'svc__tol', 'svc__verbose', 'verbose']\n"
     ]
    }
   ],
   "source": [
    "# Contoh Hyperparameter optimization pada model SVM menggunakan RandomizedSearchCV\n",
    "# https://scikit-learn.org/stable/modules/generated/sklearn.svm.SVC.html\n",
    "# Berikut ini contoh bagaimana mengetahui parameter yang dapat kita optimasi.\n",
    "# Gunakan pengetahuan teori/analitik untuk mengoptimasi hanya parameter yang paling penting.\n",
    "pipeSVM = make_pipeline(svm.SVC())\n",
    "print(sorted(pipeSVM.get_params().keys()))"
   ]
  },
  {
   "cell_type": "code",
   "execution_count": 62,
   "id": "8a2f6a6e",
   "metadata": {
    "scrolled": false
   },
   "outputs": [
    {
     "name": "stdout",
     "output_type": "stream",
     "text": [
      "Fitting 10 folds for each of 10 candidates, totalling 100 fits\n",
      "0.7736118455843469\n",
      "{'svc__kernel': 'linear', 'svc__gamma': 1, 'svc__C': 1000}\n"
     ]
    }
   ],
   "source": [
    "# Optimal parameter SVM dengan RandomizedSearch\n",
    "# WARNING cell ini butuh waktu komputasi cukup lama\n",
    "kCV = 10\n",
    "paramsSVM = {}\n",
    "paramsSVM['svc__C'] = [1, 10, 100, 1000] #sp.stats.uniform(scale=100)\n",
    "paramsSVM['svc__gamma'] = [0.1, 0.001, 0.0001, 1, 10]\n",
    "paramsSVM['svc__kernel'] = ['rbf', 'sigmoid', 'linear'] # , 'poly'\n",
    "optSvm = RandomizedSearchCV(pipeSVM, paramsSVM, cv=kCV, scoring=metric, verbose=2, n_jobs=-2) # refit=True, pre_dispatch='2*n_jobs' pre_dispatch min 2* n_jobs\n",
    "optSvm.fit(x_train, y_train)\n",
    "print(optSvm.best_score_)\n",
    "print(optSvm.best_params_)"
   ]
  },
  {
   "cell_type": "markdown",
   "id": "1b9a882e",
   "metadata": {
    "slideshow": {
     "slide_type": "slide"
    }
   },
   "source": [
    "# Model Selection\n",
    "\n",
    "<img alt=\"\" src=\"images/model_selection.png\" />"
   ]
  },
  {
   "cell_type": "code",
   "execution_count": 63,
   "id": "bed7b09a",
   "metadata": {
    "slideshow": {
     "slide_type": "slide"
    }
   },
   "outputs": [
    {
     "name": "stderr",
     "output_type": "stream",
     "text": [
      "[Parallel(n_jobs=-2)]: Using backend LokyBackend with 15 concurrent workers.\n",
      "[Parallel(n_jobs=-2)]: Done   3 out of  10 | elapsed:    0.0s remaining:    0.0s\n",
      "[Parallel(n_jobs=-2)]: Done  10 out of  10 | elapsed:    0.0s finished\n",
      "[Parallel(n_jobs=-2)]: Using backend LokyBackend with 15 concurrent workers.\n",
      "[Parallel(n_jobs=-2)]: Done   3 out of  10 | elapsed:    1.2s remaining:    2.9s\n"
     ]
    },
    {
     "name": "stdout",
     "output_type": "stream",
     "text": [
      "Accuracy kNN: 0.71 (+/- 0.17)\n",
      "Accuracy SVM: 0.78 (+/- 0.20)\n"
     ]
    },
    {
     "name": "stderr",
     "output_type": "stream",
     "text": [
      "[Parallel(n_jobs=-2)]: Done  10 out of  10 | elapsed:    7.0s finished\n"
     ]
    },
    {
     "data": {
      "image/png": "[encoded data removed]",
      "text/plain": [
       "<Figure size 800x600 with 1 Axes>"
      ]
     },
     "metadata": {},
     "output_type": "display_data"
    }
   ],
   "source": [
    "kCV = 10\n",
    "# Menggunakan parameter optimal\n",
    "kNN = neighbors.KNeighborsClassifier(n_neighbors= 20, weights= 'uniform')\n",
    "svm_ = svm.SVC(kernel= 'linear', gamma= 10, C= 10)\n",
    "\n",
    "# Melakukan Cross Validasi\n",
    "models = ['kNN', 'SVM']\n",
    "knn_score = cross_val_score(kNN, x_test, y_test, cv=kCV, scoring='accuracy', n_jobs=-2, verbose=1)\n",
    "svm_score = cross_val_score(svm_, x_test, y_test, cv=kCV, scoring='accuracy', n_jobs=-2, verbose=1)\n",
    "scores = [knn_score, svm_score]\n",
    "\n",
    "data = {m:s for m,s in zip(models, scores)}\n",
    "for name in data.keys():\n",
    "    print(\"Accuracy %s: %0.2f (+/- %0.2f)\" % (name, data[name].mean(), data[name].std() * 2))\n",
    "\n",
    "fig, ax = plt.subplots(1, 1, figsize=(8, 6))\n",
    "p = sns.boxplot(data=pd.DataFrame(data), ax=ax)"
   ]
  },
  {
   "cell_type": "code",
   "execution_count": null,
   "id": "0f21078f",
   "metadata": {},
   "outputs": [],
   "source": []
  },
  {
   "cell_type": "markdown",
   "id": "2c55301a",
   "metadata": {},
   "source": [
    "<center><h1><strong><font color=\"red\">Latihan</font></strong></h1></center>\n",
    "\n",
    "*  Lakukan Klasifikasi dan analisa/interpretasinya pada data berikut: http://archive.ics.uci.edu/dataset/34/diabetes"
   ]
  }
 ],
 "metadata": {
  "hide_input": false,
  "kernelspec": {
   "display_name": "Python 3 (ipykernel)",
   "language": "python",
   "name": "python3"
  },
  "language_info": {
   "codemirror_mode": {
    "name": "ipython",
    "version": 3
   },
   "file_extension": ".py",
   "mimetype": "text/x-python",
   "name": "python",
   "nbconvert_exporter": "python",
   "pygments_lexer": "ipython3",
   "version": "3.10.13"
  },
  "vp": {
   "vp_config_version": "1.0.0",
   "vp_menu_width": 273,
   "vp_note_display": false,
   "vp_note_width": 0,
   "vp_position": {
    "width": 278
   },
   "vp_section_display": true,
   "vp_signature": "VisualPython"
  }
 },
 "nbformat": 4,
 "nbformat_minor": 5
}
