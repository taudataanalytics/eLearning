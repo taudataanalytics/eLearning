{
 "cells": [
  {
   "cell_type": "markdown",
   "id": "c199615d",
   "metadata": {},
   "source": [
    "<center><h1><strong><font color=\"blue\">Studi Kasus Data Wrangling</font></strong></h1></center>\n",
    "\n",
    "![taudata Analytics](https://github.com/taudataid/eLearning/raw/master/images/covers/cover_ui-n-taudata.jpg \"taudata Analytics\")"
   ]
  },
  {
   "cell_type": "code",
   "execution_count": 8,
   "id": "e3c49941",
   "metadata": {},
   "outputs": [
    {
     "data": {
      "text/plain": [
       "((14, 4), (4, 6), (4, 4), (7, 6), (15, 8), (9, 3), (33, 7))"
      ]
     },
     "execution_count": 8,
     "metadata": {},
     "output_type": "execute_result"
    }
   ],
   "source": [
    "import warnings; warnings.simplefilter('ignore')\n",
    "import pandas as pd\n",
    "\n",
    "try: # Running Locally, yakinkan \"file_\" berada di folder \"data\"\n",
    "    mengajar = pd.read_csv('data/mengajar.csv', encoding='utf8')\n",
    "    dosen = pd.read_csv('data/tb_dosen.csv', encoding='utf8')\n",
    "    kelas = pd.read_csv('data/tb_kelas.csv', encoding='utf8')\n",
    "    krs = pd.read_csv('data/tb_krs.csv', encoding='utf8')\n",
    "    mahasiswa = pd.read_csv('data/tb_mahasiswa.csv', encoding='utf8')\n",
    "    matkul = pd.read_csv('data/tb_mata_kuliah.csv', encoding='utf8')\n",
    "    nilai = pd.read_csv('data/tb_nilai.csv', encoding='utf8')\n",
    "except: # Running in Google Colab\n",
    "    !mkdir data\n",
    "    !wget -P data/ https://raw.githubusercontent.com/taudataid/eLearning/master/data/tb_nilai.csv\n",
    "    !wget -P data/ https://raw.githubusercontent.com/taudataid/eLearning/master/data/mengajar.csv\n",
    "    !wget -P data/ https://raw.githubusercontent.com/taudataid/eLearning/master/data/tb_dosen.csv\n",
    "    !wget -P data/ https://raw.githubusercontent.com/taudataid/eLearning/master/data/tb_kelas.csv\n",
    "    !wget -P data/ https://raw.githubusercontent.com/taudataid/eLearning/master/data/tb_krs.csv\n",
    "    !wget -P data/ https://raw.githubusercontent.com/taudataid/eLearning/master/data/tb_mahasiswa.csv\n",
    "    !wget -P data/ https://raw.githubusercontent.com/taudataid/eLearning/master/data/tb_mata_kuliah.csv\n",
    "    mengajar = pd.read_csv('data/mengajar.csv', encoding='utf8')\n",
    "    dosen = pd.read_csv('data/tb_dosen.csv', encoding='utf8')\n",
    "    kelas = pd.read_csv('data/tb_kelas.csv', encoding='utf8')\n",
    "    krs = pd.read_csv('data/tb_krs.csv', encoding='utf8')\n",
    "    mahasiswa = pd.read_csv('data/tb_mahasiswa.csv', encoding='utf8')\n",
    "    matkul = pd.read_csv('data/tb_mata_kuliah.csv', encoding='utf8')\n",
    "    nilai = pd.read_csv('data/tb_nilai.csv', encoding='utf8')\n",
    "\n",
    "mengajar.shape, dosen.shape, kelas.shape, krs.shape, mahasiswa.shape, matkul.shape, nilai.shape"
   ]
  },
  {
   "cell_type": "markdown",
   "id": "4a480c4f",
   "metadata": {},
   "source": [
    "![taudata Analytics](https://github.com/taudataid/eLearning/raw/master/images/cover_ui-n-taudata.jpg \"taudata Analytics\")"
   ]
  },
  {
   "cell_type": "code",
   "execution_count": 9,
   "id": "2fb9a561",
   "metadata": {},
   "outputs": [
    {
     "data": {
      "text/html": [
       "<div>\n",
       "<style scoped>\n",
       "    .dataframe tbody tr th:only-of-type {\n",
       "        vertical-align: middle;\n",
       "    }\n",
       "\n",
       "    .dataframe tbody tr th {\n",
       "        vertical-align: top;\n",
       "    }\n",
       "\n",
       "    .dataframe thead th {\n",
       "        text-align: right;\n",
       "    }\n",
       "</style>\n",
       "<table border=\"1\" class=\"dataframe\">\n",
       "  <thead>\n",
       "    <tr style=\"text-align: right;\">\n",
       "      <th></th>\n",
       "      <th>nama</th>\n",
       "      <th>mean_nilai</th>\n",
       "      <th>std_nilai</th>\n",
       "    </tr>\n",
       "    <tr>\n",
       "      <th>NIDN</th>\n",
       "      <th></th>\n",
       "      <th></th>\n",
       "      <th></th>\n",
       "    </tr>\n",
       "  </thead>\n",
       "  <tbody>\n",
       "    <tr>\n",
       "      <th>123</th>\n",
       "      <td>Andri Basuki</td>\n",
       "      <td>85.750000</td>\n",
       "      <td>7.741355</td>\n",
       "    </tr>\n",
       "    <tr>\n",
       "      <th>234</th>\n",
       "      <td>zulfikar</td>\n",
       "      <td>80.428571</td>\n",
       "      <td>15.883504</td>\n",
       "    </tr>\n",
       "    <tr>\n",
       "      <th>787</th>\n",
       "      <td>yudi</td>\n",
       "      <td>70.571429</td>\n",
       "      <td>13.010984</td>\n",
       "    </tr>\n",
       "    <tr>\n",
       "      <th>345</th>\n",
       "      <td>Annisa Fitria</td>\n",
       "      <td>60.090909</td>\n",
       "      <td>16.220077</td>\n",
       "    </tr>\n",
       "  </tbody>\n",
       "</table>\n",
       "</div>"
      ],
      "text/plain": [
       "               nama  mean_nilai  std_nilai\n",
       "NIDN                                      \n",
       "123    Andri Basuki   85.750000   7.741355\n",
       "234        zulfikar   80.428571  15.883504\n",
       "787            yudi   70.571429  13.010984\n",
       "345   Annisa Fitria   60.090909  16.220077"
      ]
     },
     "execution_count": 9,
     "metadata": {},
     "output_type": "execute_result"
    }
   ],
   "source": [
    "nilai_dosen = nilai.groupby(nilai['NIDN']).mean()[['nilai']]\n",
    "nilai_dosen = nilai_dosen.rename({'nilai': 'mean_nilai'}, axis=1) \n",
    "nilai_dosen = pd.merge(dosen, nilai_dosen, left_on='NIDN', right_index=True)\n",
    "nilai_dosen = nilai_dosen[['NIDN', 'nama', 'mean_nilai']]\n",
    "sb = nilai.groupby(nilai['NIDN']).std()[['nilai']]\n",
    "sb = sb.rename({'nilai': 'std_nilai'}, axis=1) \n",
    "nilai_dosen = nilai_dosen.set_index(['NIDN']) \n",
    "nilai_dosen = pd.concat([nilai_dosen, sb], axis=1)\n",
    "nilai_dosen"
   ]
  },
  {
   "cell_type": "markdown",
   "id": "c2efc1a4",
   "metadata": {},
   "source": [
    "# Interpretasi 01: \n",
    "\n",
    "* "
   ]
  },
  {
   "cell_type": "code",
   "execution_count": 1,
   "id": "06f857d8",
   "metadata": {},
   "outputs": [],
   "source": [
    "# Code Untuk Soal No 02\n",
    "\n"
   ]
  },
  {
   "cell_type": "markdown",
   "id": "8b6e6296",
   "metadata": {},
   "source": [
    "# Interpretasi 02:\n",
    "\n",
    "* "
   ]
  },
  {
   "cell_type": "code",
   "execution_count": 2,
   "id": "5c4287a2",
   "metadata": {},
   "outputs": [],
   "source": [
    "# Code Soal No 03\n",
    "\n"
   ]
  },
  {
   "cell_type": "markdown",
   "id": "f70fadb1",
   "metadata": {},
   "source": [
    "# Interpretasi 03:\n",
    "\n",
    "* "
   ]
  },
  {
   "cell_type": "code",
   "execution_count": 3,
   "id": "8c8b67ce",
   "metadata": {},
   "outputs": [],
   "source": [
    "# Code Soal No 04\n",
    "\n"
   ]
  },
  {
   "cell_type": "markdown",
   "id": "1b29d1c5",
   "metadata": {},
   "source": [
    "# Interpretasi 04\n",
    "\n",
    "* "
   ]
  },
  {
   "cell_type": "code",
   "execution_count": 4,
   "id": "f99cfe7c",
   "metadata": {},
   "outputs": [],
   "source": [
    "# Code soal No 05\n",
    "\n"
   ]
  },
  {
   "cell_type": "markdown",
   "id": "ae208b6c",
   "metadata": {},
   "source": [
    "# Interpretasi 05\n",
    "\n",
    "* "
   ]
  },
  {
   "cell_type": "code",
   "execution_count": null,
   "id": "d6415bb9",
   "metadata": {},
   "outputs": [],
   "source": [
    "# Code soal No 06\n",
    "\n"
   ]
  },
  {
   "cell_type": "markdown",
   "id": "0bb466b3",
   "metadata": {},
   "source": [
    "# Interpretasi 06\n",
    "\n",
    "*  "
   ]
  }
 ],
 "metadata": {
  "kernelspec": {
   "display_name": "Python 3 (ipykernel)",
   "language": "python",
   "name": "python3"
  },
  "language_info": {
   "codemirror_mode": {
    "name": "ipython",
    "version": 3
   },
   "file_extension": ".py",
   "mimetype": "text/x-python",
   "name": "python",
   "nbconvert_exporter": "python",
   "pygments_lexer": "ipython3",
   "version": "3.9.13"
  }
 },
 "nbformat": 4,
 "nbformat_minor": 5
}
